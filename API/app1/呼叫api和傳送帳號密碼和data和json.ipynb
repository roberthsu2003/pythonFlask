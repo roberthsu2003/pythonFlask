{
 "cells": [
  {
   "cell_type": "code",
   "execution_count": 38,
   "id": "8fd3c5d7",
   "metadata": {},
   "outputs": [],
   "source": [
    "#使用get傳送\n",
    "import requests\n",
    "import json\n",
    "auth = ('user', 'pass')\n",
    "data = {'code':'tw'}\n",
    "#網址一定要api/v1/最後的 / 線很重要\n",
    "response = requests.get('http://127.0.0.1:5000/api/v1/',data=data,auth=auth)"
   ]
  },
  {
   "cell_type": "code",
   "execution_count": 40,
   "id": "e7698f02",
   "metadata": {},
   "outputs": [],
   "source": [
    "#使用post傳送\n",
    "import requests\n",
    "import json\n",
    "headers = {'Content-type':'application/json'}\n",
    "\n",
    "json_data = [{'id': 1, 'name': 'ram sharma'},{'id': 2, 'name': 'robert'}]\n",
    "#網址一定要api/v1/最後的 / 線很重要\n",
    "response = requests.post('http://127.0.0.1:5000/api/v1/',headers = headers,json=json_data)\n"
   ]
  },
  {
   "cell_type": "code",
   "execution_count": null,
   "id": "ced4499b",
   "metadata": {},
   "outputs": [],
   "source": []
  }
 ],
 "metadata": {
  "kernelspec": {
   "display_name": "Python 3 (ipykernel)",
   "language": "python",
   "name": "python3"
  },
  "language_info": {
   "codemirror_mode": {
    "name": "ipython",
    "version": 3
   },
   "file_extension": ".py",
   "mimetype": "text/x-python",
   "name": "python",
   "nbconvert_exporter": "python",
   "pygments_lexer": "ipython3",
   "version": "3.8.9"
  }
 },
 "nbformat": 4,
 "nbformat_minor": 5
}
