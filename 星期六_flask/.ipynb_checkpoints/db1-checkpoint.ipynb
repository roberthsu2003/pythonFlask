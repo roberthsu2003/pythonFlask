{
 "cells": [
  {
   "cell_type": "code",
   "execution_count": 2,
   "id": "409e46b2",
   "metadata": {},
   "outputs": [],
   "source": [
    "import sqlite3\n",
    "from sqlite3 import Error\n",
    "\n",
    "def create_connection(db_name):\n",
    "    conn = sqlite3.connect(db_name)\n",
    "    conn.close()\n",
    "    return conn    "
   ]
  },
  {
   "cell_type": "code",
   "execution_count": 3,
   "id": "3019b641",
   "metadata": {},
   "outputs": [],
   "source": [
    "_ = create_connection('a.db')"
   ]
  },
  {
   "cell_type": "code",
   "execution_count": null,
   "id": "42f8e814",
   "metadata": {},
   "outputs": [],
   "source": []
  }
 ],
 "metadata": {
  "kernelspec": {
   "display_name": "Python 3 (ipykernel)",
   "language": "python",
   "name": "python3"
  },
  "language_info": {
   "codemirror_mode": {
    "name": "ipython",
    "version": 3
   },
   "file_extension": ".py",
   "mimetype": "text/x-python",
   "name": "python",
   "nbconvert_exporter": "python",
   "pygments_lexer": "ipython3",
   "version": "3.8.9"
  }
 },
 "nbformat": 4,
 "nbformat_minor": 5
}
