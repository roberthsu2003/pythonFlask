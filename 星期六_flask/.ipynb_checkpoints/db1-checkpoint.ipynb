{
 "cells": [
  {
   "cell_type": "code",
   "execution_count": 25,
   "id": "e18480b4",
   "metadata": {},
   "outputs": [],
   "source": [
    "import sqlite3\n",
    "from sqlite3 import Error\n",
    "\n",
    "def create_connection(db_name):\n",
    "    conn = None\n",
    "    try:\n",
    "        conn = sqlite3.connect(db_name)\n",
    "    except Error as e:\n",
    "        print('連結資料庫發生錯誤')\n",
    "        print(e)\n",
    "        return conn\n",
    "    \n",
    "    create_table(conn)    \n",
    "    return conn\n",
    "\n",
    "\n",
    "def create_table(conn):    \n",
    "    \n",
    "    sql = '''\n",
    "    CREATE TABLE IF NOT EXISTS lot(\n",
    "        id INTEGER PRIMARY KEY,\n",
    "        name TEXT NOT NULL,\n",
    "        num1 INTEGER NOT NULL,\n",
    "        num2 INTEGER NOT NULL,\n",
    "        num3 INTEGER NOT NULL,\n",
    "        num4 INTEGER NOT NULL,\n",
    "        num5 INTEGER NOT NULL,\n",
    "        num6 INTEGER NOT NULL,\n",
    "        spec INTEGER NOT NULL,\n",
    "        datetime TEXT\n",
    "    );\n",
    "    '''\n",
    "    try:\n",
    "        cursor = conn.cursor()    \n",
    "        cursor.execute(sql)\n",
    "    except Error as e:\n",
    "        print('建立資料表出錯')\n",
    "        print(e)\n",
    "        return None\n",
    "    \n",
    "    print('資料表建立')\n",
    "    \n",
    "def insertData(conn,data_list):\n",
    "    insertSQL = '''INSERT INTO lot (name,num1,num2,num3,num4,num5,num6,spec,datetime) \n",
    "VALUES (?,?,?,?,?,?,?,?,?);'''\n",
    "    cursor = conn.cursor()\n",
    "    cursor.execute(insertSQL,data_list)\n",
    "    conn.commit()    \n"
   ]
  },
  {
   "cell_type": "code",
   "execution_count": 26,
   "id": "2ee2e8ab",
   "metadata": {},
   "outputs": [
    {
     "name": "stdout",
     "output_type": "stream",
     "text": [
      "資料表建立\n",
      "連線成功\n"
     ]
    }
   ],
   "source": [
    "conn = create_connection('lot.db')\n",
    "if conn is not None:\n",
    "    with conn:  #自動close動作\n",
    "        print(\"連線成功\")\n",
    "        insertData(conn,('robert1',35,21,25,5,17,36,43,'2022-04-16 11:18:20'))\n",
    "        \n"
   ]
  },
  {
   "cell_type": "code",
   "execution_count": null,
   "id": "fe8b6afa",
   "metadata": {},
   "outputs": [],
   "source": []
  },
  {
   "cell_type": "code",
   "execution_count": null,
   "id": "3c04ac6c",
   "metadata": {},
   "outputs": [],
   "source": []
  }
 ],
 "metadata": {
  "kernelspec": {
   "display_name": "Python 3 (ipykernel)",
   "language": "python",
   "name": "python3"
  },
  "language_info": {
   "codemirror_mode": {
    "name": "ipython",
    "version": 3
   },
   "file_extension": ".py",
   "mimetype": "text/x-python",
   "name": "python",
   "nbconvert_exporter": "python",
   "pygments_lexer": "ipython3",
   "version": "3.8.9"
  }
 },
 "nbformat": 4,
 "nbformat_minor": 5
}
