{
 "cells": [
  {
   "cell_type": "code",
   "execution_count": 1,
   "id": "88a1cd40",
   "metadata": {},
   "outputs": [
    {
     "data": {
      "text/plain": [
       "'<h1>收到(GET)</h1>'"
      ]
     },
     "execution_count": 1,
     "metadata": {},
     "output_type": "execute_result"
    }
   ],
   "source": [
    "import requests\n",
    "\n",
    "url = 'http://127.0.0.1:5000/api/receive/'\n",
    "response = requests.get(url)\n",
    "response.text"
   ]
  },
  {
   "cell_type": "code",
   "execution_count": 25,
   "id": "0df3c055",
   "metadata": {},
   "outputs": [
    {
     "data": {
      "text/plain": [
       "'<h1>收到(POST)</h1>'"
      ]
     },
     "execution_count": 25,
     "metadata": {},
     "output_type": "execute_result"
    }
   ],
   "source": [
    "#模擬使用者端,傳送json資料給Server\n",
    "import requests\n",
    "import json\n",
    "\n",
    "def getlotDataList(name):\n",
    "    import random\n",
    "    from datetime import datetime\n",
    "\n",
    "    random.randint(1,49)\n",
    "    lotList = [name]\n",
    "    lotNums = set()\n",
    "    while(len(lotNums)<7):\n",
    "        num = random.randint(1,49)\n",
    "        lotNums.add(num)\n",
    "    lotList += list(lotNums)\n",
    "    nowtime = datetime.now()\n",
    "    datetimeString = nowtime.strftime('%Y-%m-%d %H:%M:%S')\n",
    "    lotList.append(datetimeString)\n",
    "    return lotList\n",
    "\n",
    "url = 'http://127.0.0.1:5000/api/receive/'\n",
    "headers = {'Content-type':'application/json'}\n",
    "json_data = {'lotdata':getlotDataList('robert_hsu')}\n",
    "\n",
    "response = requests.post(url,headers = headers,json=json_data)\n",
    "response.text"
   ]
  },
  {
   "cell_type": "code",
   "execution_count": 17,
   "id": "afae44ac",
   "metadata": {},
   "outputs": [
    {
     "data": {
      "text/plain": [
       "['robert', 2, 41, 14, 16, 18, 21, 22, '2022-04-16 16:01:28']"
      ]
     },
     "execution_count": 17,
     "metadata": {},
     "output_type": "execute_result"
    }
   ],
   "source": [
    "import random\n",
    "from datetime import datetime\n",
    "\n",
    "random.randint(1,49)\n",
    "lotList = ['robert']\n",
    "lotNums = set()\n",
    "while(len(lotNums)<7):\n",
    "    num = random.randint(1,49)\n",
    "    lotNums.add(num)\n",
    "lotList += list(lotNums)\n",
    "nowtime = datetime.now()\n",
    "datetimeString = nowtime.strftime('%Y-%m-%d %H:%M:%S')\n",
    "lotList.append(datetimeString)\n",
    "lotList"
   ]
  },
  {
   "cell_type": "code",
   "execution_count": null,
   "id": "6b6dd046",
   "metadata": {},
   "outputs": [],
   "source": []
  }
 ],
 "metadata": {
  "kernelspec": {
   "display_name": "Python 3 (ipykernel)",
   "language": "python",
   "name": "python3"
  },
  "language_info": {
   "codemirror_mode": {
    "name": "ipython",
    "version": 3
   },
   "file_extension": ".py",
   "mimetype": "text/x-python",
   "name": "python",
   "nbconvert_exporter": "python",
   "pygments_lexer": "ipython3",
   "version": "3.8.9"
  }
 },
 "nbformat": 4,
 "nbformat_minor": 5
}
