{
 "cells": [
  {
   "cell_type": "code",
   "execution_count": 1,
   "id": "8a45b82a",
   "metadata": {},
   "outputs": [
    {
     "data": {
      "text/plain": [
       "'<h1>收到(GET)</h1>'"
      ]
     },
     "execution_count": 1,
     "metadata": {},
     "output_type": "execute_result"
    }
   ],
   "source": [
    "import requests\n",
    "\n",
    "url = 'http://127.0.0.1:5000/api/receive/'\n",
    "response = requests.get(url)\n",
    "response.text"
   ]
  },
  {
   "cell_type": "code",
   "execution_count": 9,
   "id": "1037f7b4",
   "metadata": {},
   "outputs": [
    {
     "data": {
      "text/plain": [
       "'<h1>收到(POST)</h1>'"
      ]
     },
     "execution_count": 9,
     "metadata": {},
     "output_type": "execute_result"
    }
   ],
   "source": [
    "#模擬使用者端,傳送json資料給Server\n",
    "import requests\n",
    "import json\n",
    "\n",
    "url = 'http://127.0.0.1:5000/api/receive/'\n",
    "headers = {'Content-type':'application/json'}\n",
    "json_data = {'lotdata':['jenny',1,2,3,4,5,6,7,'2020-04-15 00:00:00']}\n",
    "response = requests.post(url,headers = headers,json=json_data)\n",
    "response.text"
   ]
  },
  {
   "cell_type": "code",
   "execution_count": null,
   "id": "0a25b128",
   "metadata": {},
   "outputs": [],
   "source": []
  }
 ],
 "metadata": {
  "kernelspec": {
   "display_name": "Python 3 (ipykernel)",
   "language": "python",
   "name": "python3"
  },
  "language_info": {
   "codemirror_mode": {
    "name": "ipython",
    "version": 3
   },
   "file_extension": ".py",
   "mimetype": "text/x-python",
   "name": "python",
   "nbconvert_exporter": "python",
   "pygments_lexer": "ipython3",
   "version": "3.8.9"
  }
 },
 "nbformat": 4,
 "nbformat_minor": 5
}
