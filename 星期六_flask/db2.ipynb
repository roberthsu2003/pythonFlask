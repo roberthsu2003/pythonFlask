{
 "cells": [
  {
   "cell_type": "code",
   "execution_count": 1,
   "id": "88a1cd40",
   "metadata": {},
   "outputs": [
    {
     "data": {
      "text/plain": [
       "'<h1>收到(GET)</h1>'"
      ]
     },
     "execution_count": 1,
     "metadata": {},
     "output_type": "execute_result"
    }
   ],
   "source": [
    "import requests\n",
    "\n",
    "url = 'http://127.0.0.1:5000/api/receive/'\n",
    "response = requests.get(url)\n",
    "response.text"
   ]
  },
  {
   "cell_type": "code",
   "execution_count": 2,
   "id": "0df3c055",
   "metadata": {},
   "outputs": [
    {
     "data": {
      "text/plain": [
       "'<h1>收到(POST)</h1>'"
      ]
     },
     "execution_count": 2,
     "metadata": {},
     "output_type": "execute_result"
    }
   ],
   "source": [
    "#模擬使用者端,傳送json資料給Server\n",
    "import requests\n",
    "import json\n",
    "\n",
    "def getlotDataList(name):\n",
    "    import random\n",
    "    from datetime import datetime\n",
    "\n",
    "    random.randint(1,49)\n",
    "    lotList = [name]\n",
    "    lotNums = set()\n",
    "    while(len(lotNums)<7):\n",
    "        num = random.randint(1,49)\n",
    "        lotNums.add(num)\n",
    "    lotList += list(lotNums)\n",
    "    nowtime = datetime.now()\n",
    "    datetimeString = nowtime.strftime('%Y-%m-%d %H:%M:%S')\n",
    "    lotList.append(datetimeString)\n",
    "    return lotList\n",
    "\n",
    "url = 'http://127.0.0.1:5000/api/receive/'\n",
    "headers = {'Content-type':'application/json'}\n",
    "json_data = {'lotdata':getlotDataList('robert_hsu')}\n",
    "\n",
    "response = requests.post(url,headers = headers,json=json_data)\n",
    "response.text"
   ]
  },
  {
   "cell_type": "code",
   "execution_count": 7,
   "id": "afae44ac",
   "metadata": {},
   "outputs": [
    {
     "data": {
      "text/plain": [
       "['robert', 2, 3, 38, 11, 43, 13, 17, '2022-04-23 14:07:08']"
      ]
     },
     "execution_count": 7,
     "metadata": {},
     "output_type": "execute_result"
    }
   ],
   "source": [
    "import random\n",
    "from datetime import datetime\n",
    "\n",
    "random.randint(1,49)\n",
    "lotList = ['robert']\n",
    "lotNums = set()\n",
    "while(len(lotNums)<7):\n",
    "    num = random.randint(1,49)\n",
    "    lotNums.add(num)\n",
    "lotList += list(lotNums)\n",
    "nowtime = datetime.now()\n",
    "datetimeString = nowtime.strftime('%Y-%m-%d %H:%M:%S')\n",
    "lotList.append(datetimeString)\n",
    "lotList"
   ]
  },
  {
   "cell_type": "code",
   "execution_count": 5,
   "id": "6b6dd046",
   "metadata": {},
   "outputs": [
    {
     "name": "stdout",
     "output_type": "stream",
     "text": [
      "[[1, 'robert_hsu', 34, 8, 14, 47, 17, 18, 25, '2022-04-16 16:18:07'], [2, 'robert_hsu', 34, 36, 7, 40, 17, 25, 26, '2022-04-16 16:18:43'], [3, 'robert_hsu', 2, 8, 41, 42, 9, 10, 26, '2022-04-16 16:19:13'], [4, 'robert_hsu', 8, 11, 14, 15, 17, 19, 24, '2022-04-16 16:19:17'], [5, 'robert_hsu', 33, 3, 37, 40, 41, 44, 14, '2022-04-16 16:19:20'], [6, 'robert_hsu', 1, 37, 10, 43, 13, 26, 29, '2022-04-16 16:19:23'], [7, 'robert_hsu', 4, 39, 45, 14, 48, 22, 30, '2022-04-23 13:37:27'], [8, 'robert_hsu', 33, 35, 4, 37, 48, 25, 29, '2022-04-23 13:37:35']]\n"
     ]
    }
   ],
   "source": [
    "#模擬使用者端,接收json資料給\n",
    "\n",
    "import requests\n",
    "\n",
    "response = requests.get('https://robert-api.herokuapp.com/api/v8/')\n",
    "lotData = response.json()\n",
    "print(lotData)"
   ]
  },
  {
   "cell_type": "code",
   "execution_count": null,
   "id": "c9fae41c",
   "metadata": {},
   "outputs": [],
   "source": []
  }
 ],
 "metadata": {
  "kernelspec": {
   "display_name": "Python 3 (ipykernel)",
   "language": "python",
   "name": "python3"
  },
  "language_info": {
   "codemirror_mode": {
    "name": "ipython",
    "version": 3
   },
   "file_extension": ".py",
   "mimetype": "text/x-python",
   "name": "python",
   "nbconvert_exporter": "python",
   "pygments_lexer": "ipython3",
   "version": "3.8.9"
  }
 },
 "nbformat": 4,
 "nbformat_minor": 5
}
