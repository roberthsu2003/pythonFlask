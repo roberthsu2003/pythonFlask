{
 "cells": [
  {
   "cell_type": "code",
   "execution_count": 1,
   "id": "693712e3",
   "metadata": {},
   "outputs": [
    {
     "ename": "NameError",
     "evalue": "name 'Store' is not defined",
     "output_type": "error",
     "traceback": [
      "\u001b[0;31m---------------------------------------------------------------------------\u001b[0m",
      "\u001b[0;31mNameError\u001b[0m                                 Traceback (most recent call last)",
      "\u001b[0;32m<ipython-input-1-c66f05d7d759>\u001b[0m in \u001b[0;36m<module>\u001b[0;34m\u001b[0m\n\u001b[1;32m      3\u001b[0m \u001b[0mconn\u001b[0m \u001b[0;34m=\u001b[0m \u001b[0mcreate_engine\u001b[0m\u001b[0;34m(\u001b[0m\u001b[0;34m'sqlite:///借問站.sqlite'\u001b[0m\u001b[0;34m,\u001b[0m\u001b[0mecho\u001b[0m\u001b[0;34m=\u001b[0m\u001b[0;32mTrue\u001b[0m\u001b[0;34m)\u001b[0m\u001b[0;34m\u001b[0m\u001b[0;34m\u001b[0m\u001b[0m\n\u001b[1;32m      4\u001b[0m \u001b[0msession\u001b[0m \u001b[0;34m=\u001b[0m \u001b[0mSession\u001b[0m\u001b[0;34m(\u001b[0m\u001b[0mconn\u001b[0m\u001b[0;34m)\u001b[0m\u001b[0;34m\u001b[0m\u001b[0;34m\u001b[0m\u001b[0m\n\u001b[0;32m----> 5\u001b[0;31m \u001b[0mresults\u001b[0m \u001b[0;34m=\u001b[0m \u001b[0msession\u001b[0m\u001b[0;34m.\u001b[0m\u001b[0mquery\u001b[0m\u001b[0;34m(\u001b[0m\u001b[0mStore\u001b[0m\u001b[0;34m.\u001b[0m\u001b[0m店家照片\u001b[0m\u001b[0;34m)\u001b[0m\u001b[0;34m.\u001b[0m\u001b[0mall\u001b[0m\u001b[0;34m(\u001b[0m\u001b[0;34m)\u001b[0m\u001b[0;34m\u001b[0m\u001b[0;34m\u001b[0m\u001b[0m\n\u001b[0m\u001b[1;32m      6\u001b[0m \u001b[0mresults\u001b[0m\u001b[0;34m\u001b[0m\u001b[0;34m\u001b[0m\u001b[0m\n",
      "\u001b[0;31mNameError\u001b[0m: name 'Store' is not defined"
     ]
    }
   ],
   "source": [
    "from sqlalchemy.orm import Session\n",
    "from sqlalchemy import create_engine\n",
    "from sqlalchemy import Column,Integer,Float,String\n",
    "from sqlalchemy.ext.declarative import declarative_base\n",
    "\n",
    "Base = declarative_base()\n",
    "class Store(Base):\n",
    "    __tablename__ = '借問站'\n",
    "    id = Column(Integer,primary_key=True)\n",
    "    店家照片 = Column(String,index=True)\n",
    "    店名_中 = Column(String)\n",
    "    店名_英 = Column(String)\n",
    "    店名_日 = Column(String)\n",
    "    地址_中 = Column(String)\n",
    "    地址_英 = Column(String)\n",
    "    地址_日 = Column(String)\n",
    "    緯度 = Column(Float)\n",
    "    經度 = Column(Float)\n",
    "    電話 = Column(String)\n",
    "    網站 = Column(String)\n",
    "    營業時間_中 = Column(String)\n",
    "    營業時間_英 = Column(String)\n",
    "    營業時間_日 = Column(String)\n",
    "    店家介紹_中 = Column(String)\n",
    "    店家介紹_英 = Column(String)\n",
    "    店家介紹_日 = Column(String)\n",
    "    交通資訊_中 = Column(String)\n",
    "    交通資訊_英 = Column(String)\n",
    "    交通資訊_日 = Column(String)\n",
    "    店長照片 = Column(String)\n",
    "    縣市名稱_中 = Column(String)\n",
    "    縣市名稱_英 = Column(String)\n",
    "    縣市名稱_日 = Column(String)\n",
    "\n",
    "\n",
    "conn = create_engine('sqlite:///借問站.sqlite',echo=True)\n",
    "session = Session(conn)\n",
    "results = session.query(Store.店家照片).all()\n",
    "results"
   ]
  },
  {
   "cell_type": "code",
   "execution_count": null,
   "id": "87ce202f",
   "metadata": {},
   "outputs": [],
   "source": []
  }
 ],
 "metadata": {
  "kernelspec": {
   "display_name": "Python 3",
   "language": "python",
   "name": "python3"
  },
  "language_info": {
   "codemirror_mode": {
    "name": "ipython",
    "version": 3
   },
   "file_extension": ".py",
   "mimetype": "text/x-python",
   "name": "python",
   "nbconvert_exporter": "python",
   "pygments_lexer": "ipython3",
   "version": "3.8.7"
  }
 },
 "nbformat": 4,
 "nbformat_minor": 5
}
