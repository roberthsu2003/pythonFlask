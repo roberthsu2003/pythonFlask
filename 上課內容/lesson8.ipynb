{
 "cells": [
  {
   "cell_type": "code",
   "execution_count": 2,
   "id": "40cadf30",
   "metadata": {},
   "outputs": [
    {
     "name": "stdout",
     "output_type": "stream",
     "text": [
      "呼叫函式\n"
     ]
    }
   ],
   "source": [
    "def func_sum():\n",
    "    print(\"呼叫函式\")\n",
    "    \n",
    "\n",
    "func_sum()"
   ]
  },
  {
   "cell_type": "code",
   "execution_count": 3,
   "id": "7d0b0c78",
   "metadata": {},
   "outputs": [],
   "source": [
    "def do_nothing():\n",
    "    pass\n",
    "\n",
    "do_nothing()"
   ]
  },
  {
   "cell_type": "code",
   "execution_count": 4,
   "id": "d9899082",
   "metadata": {},
   "outputs": [
    {
     "name": "stdout",
     "output_type": "stream",
     "text": [
      "7\n"
     ]
    }
   ],
   "source": [
    "def func_sum(a, b):\n",
    "    c = a+b\n",
    "    print(c)\n",
    "    \n",
    "func_sum(3, 4)\n"
   ]
  },
  {
   "cell_type": "code",
   "execution_count": 9,
   "id": "1a3624a2",
   "metadata": {},
   "outputs": [
    {
     "data": {
      "text/plain": [
       "4"
      ]
     },
     "execution_count": 9,
     "metadata": {},
     "output_type": "execute_result"
    }
   ],
   "source": [
    "for i in range(3,5):\n",
    "    a = i\n",
    "\n",
    "def func_sum(a, b):\n",
    "    c = a+b\n",
    "    return c\n",
    "z = func_sum(10, 15)\n",
    "a"
   ]
  },
  {
   "cell_type": "code",
   "execution_count": 14,
   "id": "194e90a0",
   "metadata": {},
   "outputs": [
    {
     "name": "stdout",
     "output_type": "stream",
     "text": [
      "請輸入攝氏溫度:26\n",
      "華氏溫度=78.80\n",
      "程式還要繼續嗎?(輸入N...結束)\n",
      "請輸入攝氏溫度:27\n",
      "華氏溫度=80.60\n",
      "程式還要繼續嗎?(輸入N...結束)n\n"
     ]
    }
   ],
   "source": [
    "def temperature(value):\n",
    "    return 1.8 * value + 32\n",
    "\n",
    "runAgain = True\n",
    "\n",
    "while(runAgain):\n",
    "    value = int(input(\"請輸入攝氏溫度:\"))\n",
    "    result = temperature(value)\n",
    "    print(\"華氏溫度=%.2f\" % result)\n",
    "    inputValue = input('程式還要繼續嗎?(輸入N...結束)')\n",
    "    if inputValue.upper() == \"N\":\n",
    "        runAgain = False\n",
    "    else:\n",
    "        runAgain = True"
   ]
  },
  {
   "cell_type": "code",
   "execution_count": 15,
   "id": "7bb95c51",
   "metadata": {},
   "outputs": [
    {
     "name": "stdout",
     "output_type": "stream",
     "text": [
      "1 8 15\n"
     ]
    }
   ],
   "source": [
    "#傳出多個值\n",
    "def manyvalue(a, b):\n",
    "    c = a *b\n",
    "    return (a-2, b+3, c)\n",
    "\n",
    "x, y, z = manyvalue(3, 5)\n",
    "print(x, y, z)"
   ]
  },
  {
   "cell_type": "code",
   "execution_count": 17,
   "id": "831b93f4",
   "metadata": {},
   "outputs": [
    {
     "name": "stdout",
     "output_type": "stream",
     "text": [
      "請輸入初始速度:50\n",
      "加速前速度: 50\n",
      "加速後的速度: 60\n"
     ]
    }
   ],
   "source": [
    "#call by value\n",
    "def turbo(speed):\n",
    "    print(\"加速前速度:\", speed)\n",
    "    speed += 10\n",
    "    return speed\n",
    "   \n",
    "\n",
    "speed = int(input('請輸入初始速度:'))\n",
    "speed=turbo(speed)\n",
    "print(\"加速後的速度:\",speed)"
   ]
  },
  {
   "cell_type": "code",
   "execution_count": 18,
   "id": "213012e8",
   "metadata": {},
   "outputs": [
    {
     "name": "stdout",
     "output_type": "stream",
     "text": [
      "請輸入初始速度:50\n",
      "加速前速度: 50\n",
      "加速後速度 60\n"
     ]
    }
   ],
   "source": [
    "#call by Reference\n",
    "def turbo(listSpeed):\n",
    "    print(\"加速前速度:\", listSpeed[0])\n",
    "    listSpeed[0] += 10\n",
    "\n",
    "s = int(input('請輸入初始速度:'))\n",
    "listS = [s]\n",
    "turbo(listS)\n",
    "print('加速後速度',listS[0])\n"
   ]
  },
  {
   "cell_type": "code",
   "execution_count": 20,
   "id": "7f175111",
   "metadata": {},
   "outputs": [
    {
     "name": "stdout",
     "output_type": "stream",
     "text": [
      "函式內: 10\n",
      "函式外的: 5\n"
     ]
    }
   ],
   "source": [
    "a = 5\n",
    "def func_sum():\n",
    "    a = 10\n",
    "    print(\"函式內:\", a)\n",
    "    \n",
    "func_sum()\n",
    "print('函式外的:',a)"
   ]
  },
  {
   "cell_type": "code",
   "execution_count": 21,
   "id": "88bade35",
   "metadata": {},
   "outputs": [
    {
     "name": "stdout",
     "output_type": "stream",
     "text": [
      "函式內: 5\n",
      "函式外的: 5\n"
     ]
    }
   ],
   "source": [
    "a = 5\n",
    "def func_sum():\n",
    "    #a = 10\n",
    "    print(\"函式內:\", a)\n",
    "    \n",
    "func_sum()\n",
    "print('函式外的:',a)"
   ]
  },
  {
   "cell_type": "code",
   "execution_count": 22,
   "id": "1f562b70",
   "metadata": {},
   "outputs": [
    {
     "name": "stdout",
     "output_type": "stream",
     "text": [
      "函式內: 10\n",
      "函式外的: 10\n"
     ]
    }
   ],
   "source": [
    "a = 5\n",
    "def func_sum():\n",
    "    global a\n",
    "    a = 10\n",
    "    print(\"函式內:\",a)\n",
    "\n",
    "func_sum()\n",
    "print('函式外的:',a)"
   ]
  },
  {
   "cell_type": "code",
   "execution_count": 24,
   "id": "c7043f3f",
   "metadata": {},
   "outputs": [
    {
     "name": "stdout",
     "output_type": "stream",
     "text": [
      "呼叫失敗\n"
     ]
    }
   ],
   "source": [
    "def container(value):\n",
    "    if value in [1, 2, 3, 4, 5]:\n",
    "        print('值有保含1,2,3,4,5')\n",
    "        return value\n",
    "    else:\n",
    "        return None\n",
    "    \n",
    "receiveValue = container(6)\n",
    "\n",
    "if receiveValue:\n",
    "    print(\"呼叫成功\")\n",
    "else:\n",
    "    print(\"呼叫失敗\")\n",
    "    \n"
   ]
  },
  {
   "cell_type": "code",
   "execution_count": 25,
   "id": "46557f54",
   "metadata": {},
   "outputs": [
    {
     "name": "stdout",
     "output_type": "stream",
     "text": [
      "呼叫失敗\n"
     ]
    }
   ],
   "source": [
    "def container(value):\n",
    "    if value in [1, 2, 3, 4, 5]:\n",
    "        print('值有保含1,2,3,4,5')\n",
    "        return value\n",
    "    else:\n",
    "        return None\n",
    "    \n",
    "receiveValue = container(6)\n",
    "\n",
    "if receiveValue is None:\n",
    "    print(\"呼叫失敗\")\n",
    "\n",
    "    "
   ]
  },
  {
   "cell_type": "code",
   "execution_count": 26,
   "id": "e38f4bec",
   "metadata": {},
   "outputs": [
    {
     "data": {
      "text/plain": [
       "[1, 2, 3, 4, 5, 6]"
      ]
     },
     "execution_count": 26,
     "metadata": {},
     "output_type": "execute_result"
    }
   ],
   "source": [
    "number_list = []\n",
    "number_list.append(1)\n",
    "number_list.append(2)\n",
    "number_list.append(3)\n",
    "number_list.append(4)\n",
    "number_list.append(5)\n",
    "number_list.append(6)\n",
    "number_list"
   ]
  },
  {
   "cell_type": "code",
   "execution_count": 27,
   "id": "f52f8fb3",
   "metadata": {},
   "outputs": [
    {
     "data": {
      "text/plain": [
       "[1, 2, 3, 4, 5, 6]"
      ]
     },
     "execution_count": 27,
     "metadata": {},
     "output_type": "execute_result"
    }
   ],
   "source": [
    "number_list = [number for number in range(1,7)]\n",
    "number_list"
   ]
  },
  {
   "cell_type": "code",
   "execution_count": 31,
   "id": "19d91a16",
   "metadata": {},
   "outputs": [
    {
     "ename": "SyntaxError",
     "evalue": "invalid syntax (<ipython-input-31-5be06cb899d5>, line 1)",
     "output_type": "error",
     "traceback": [
      "\u001b[0;36m  File \u001b[0;32m\"<ipython-input-31-5be06cb899d5>\"\u001b[0;36m, line \u001b[0;32m1\u001b[0m\n\u001b[0;31m    number_list = [number for number in range(1,7) if number % 2 == 0 else: 0]\u001b[0m\n\u001b[0m                                                                      ^\u001b[0m\n\u001b[0;31mSyntaxError\u001b[0m\u001b[0;31m:\u001b[0m invalid syntax\n"
     ]
    }
   ],
   "source": [
    "number_list = [number for number in range(1,7) if number % 2 == 0]\n",
    "number_list"
   ]
  },
  {
   "cell_type": "code",
   "execution_count": 33,
   "id": "4a7e71e9",
   "metadata": {},
   "outputs": [
    {
     "data": {
      "text/plain": [
       "[(1, 1), (1, 2), (2, 1), (2, 2), (3, 1), (3, 2)]"
      ]
     },
     "execution_count": 33,
     "metadata": {},
     "output_type": "execute_result"
    }
   ],
   "source": [
    "rows = range(1, 4)\n",
    "cols = range(1, 3)\n",
    "cells = [(row, col) for row in rows for col in cols]\n",
    "cells"
   ]
  },
  {
   "cell_type": "code",
   "execution_count": null,
   "id": "891ad099",
   "metadata": {},
   "outputs": [],
   "source": []
  }
 ],
 "metadata": {
  "kernelspec": {
   "display_name": "Python 3",
   "language": "python",
   "name": "python3"
  },
  "language_info": {
   "codemirror_mode": {
    "name": "ipython",
    "version": 3
   },
   "file_extension": ".py",
   "mimetype": "text/x-python",
   "name": "python",
   "nbconvert_exporter": "python",
   "pygments_lexer": "ipython3",
   "version": "3.8.7"
  }
 },
 "nbformat": 4,
 "nbformat_minor": 5
}
