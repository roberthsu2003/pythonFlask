{
 "cells": [
  {
   "cell_type": "code",
   "execution_count": 1,
   "id": "f9d772f4",
   "metadata": {},
   "outputs": [],
   "source": [
    "from sqlalchemy import create_engine\n",
    "engine = create_engine(\"sqlite+pysqlite:///:memory:\", echo=True, future=True)"
   ]
  },
  {
   "cell_type": "code",
   "execution_count": 2,
   "id": "6c91a459",
   "metadata": {},
   "outputs": [
    {
     "name": "stdout",
     "output_type": "stream",
     "text": [
      "2021-04-24 14:35:30,095 INFO sqlalchemy.engine.Engine BEGIN (implicit)\n",
      "2021-04-24 14:35:30,096 INFO sqlalchemy.engine.Engine select 'hello world'\n",
      "2021-04-24 14:35:30,097 INFO sqlalchemy.engine.Engine [generated in 0.00176s] ()\n",
      "[('hello world',)]\n",
      "2021-04-24 14:35:30,098 INFO sqlalchemy.engine.Engine ROLLBACK\n"
     ]
    }
   ],
   "source": [
    "from sqlalchemy import text\n",
    "with engine.connect() as conn:\n",
    "    result=conn.execute(text(\"select 'hello world'\"))\n",
    "    print(result.all())"
   ]
  },
  {
   "cell_type": "code",
   "execution_count": 6,
   "id": "a63d77e0",
   "metadata": {},
   "outputs": [
    {
     "name": "stdout",
     "output_type": "stream",
     "text": [
      "2021-04-24 14:47:55,441 INFO sqlalchemy.engine.Engine BEGIN (implicit)\n",
      "2021-04-24 14:47:55,442 INFO sqlalchemy.engine.Engine INSERT INTO some_table (x,y) VALUES (?, ?)\n",
      "2021-04-24 14:47:55,442 INFO sqlalchemy.engine.Engine [generated in 0.00160s] ((1, 1), (2, 4))\n",
      "2021-04-24 14:47:55,444 INFO sqlalchemy.engine.Engine COMMIT\n"
     ]
    }
   ],
   "source": [
    "with engine.connect() as conn:\n",
    "    #conn.execute(text(\"CREATE TABLE some_table (x int,y int)\"))\n",
    "    conn.execute(text(\"INSERT INTO some_table (x,y) VALUES (:x, :y)\"),[{\"x\":1, \"y\":1},{\"x\":2, \"y\":4}])\n",
    "    conn.commit()"
   ]
  },
  {
   "cell_type": "code",
   "execution_count": 8,
   "id": "652b8a1b",
   "metadata": {},
   "outputs": [
    {
     "name": "stdout",
     "output_type": "stream",
     "text": [
      "2021-04-24 14:57:56,650 INFO sqlalchemy.engine.Engine BEGIN (implicit)\n",
      "2021-04-24 14:57:56,651 INFO sqlalchemy.engine.Engine INSERT INTO some_table (x,y) VALUES (?, ?)\n",
      "2021-04-24 14:57:56,652 INFO sqlalchemy.engine.Engine [cached since 601.2s ago] ((6, 8), (9, 10))\n",
      "2021-04-24 14:57:56,653 INFO sqlalchemy.engine.Engine COMMIT\n"
     ]
    }
   ],
   "source": [
    "with engine.connect() as conn:\n",
    "    conn.execute(text(\"INSERT INTO some_table (x,y) VALUES (:x, :y)\"),[{\"x\":6, \"y\":8},{\"x\":9, \"y\":10}])\n",
    "    conn.commit()"
   ]
  },
  {
   "cell_type": "code",
   "execution_count": 10,
   "id": "d6ad68f7",
   "metadata": {},
   "outputs": [
    {
     "name": "stdout",
     "output_type": "stream",
     "text": [
      "2021-04-24 15:00:58,086 INFO sqlalchemy.engine.Engine BEGIN (implicit)\n",
      "2021-04-24 15:00:58,087 INFO sqlalchemy.engine.Engine SELECT x, y FROM  some_table\n",
      "2021-04-24 15:00:58,088 INFO sqlalchemy.engine.Engine [generated in 0.00160s] ()\n",
      "x:1 y:1\n",
      "x:2 y:4\n",
      "x:6 y:8\n",
      "x:9 y:10\n",
      "2021-04-24 15:00:58,089 INFO sqlalchemy.engine.Engine ROLLBACK\n"
     ]
    }
   ],
   "source": [
    "with engine.connect() as conn:\n",
    "    result = conn.execute(text(\"SELECT x, y FROM  some_table\"))\n",
    "    for row in result:\n",
    "        print(f\"x:{row.x} y:{row.y}\")"
   ]
  },
  {
   "cell_type": "code",
   "execution_count": null,
   "id": "0101bd2a",
   "metadata": {},
   "outputs": [],
   "source": []
  }
 ],
 "metadata": {
  "kernelspec": {
   "display_name": "Python 3",
   "language": "python",
   "name": "python3"
  },
  "language_info": {
   "codemirror_mode": {
    "name": "ipython",
    "version": 3
   },
   "file_extension": ".py",
   "mimetype": "text/x-python",
   "name": "python",
   "nbconvert_exporter": "python",
   "pygments_lexer": "ipython3",
   "version": "3.8.7"
  }
 },
 "nbformat": 4,
 "nbformat_minor": 5
}
