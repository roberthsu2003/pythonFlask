{
 "cells": [
  {
   "cell_type": "code",
   "execution_count": 1,
   "id": "13ac8daa",
   "metadata": {},
   "outputs": [],
   "source": [
    "from sqlalchemy import MetaData\n",
    "metadata = MetaData()\n",
    "\n",
    "from sqlalchemy import Table,Column, Integer, String\n",
    "user_table = Table(\n",
    "    \"user_account\",\n",
    "    metadata,\n",
    "    Column('id',Integer, primary_key=True),\n",
    "    Column('name', String(30)),\n",
    "    Column('fullname',String)\n",
    ")"
   ]
  },
  {
   "cell_type": "code",
   "execution_count": 2,
   "id": "3f5b58ca",
   "metadata": {},
   "outputs": [
    {
     "data": {
      "text/plain": [
       "Column('name', String(length=30), table=<user_account>)"
      ]
     },
     "execution_count": 2,
     "metadata": {},
     "output_type": "execute_result"
    }
   ],
   "source": [
    "user_table.c.name"
   ]
  },
  {
   "cell_type": "code",
   "execution_count": 3,
   "id": "82749e02",
   "metadata": {},
   "outputs": [
    {
     "data": {
      "text/plain": [
       "['id', 'name', 'fullname']"
      ]
     },
     "execution_count": 3,
     "metadata": {},
     "output_type": "execute_result"
    }
   ],
   "source": [
    "user_table.c.keys()"
   ]
  },
  {
   "cell_type": "code",
   "execution_count": 4,
   "id": "17d4e953",
   "metadata": {},
   "outputs": [
    {
     "data": {
      "text/plain": [
       "PrimaryKeyConstraint(Column('id', Integer(), table=<user_account>, primary_key=True, nullable=False))"
      ]
     },
     "execution_count": 4,
     "metadata": {},
     "output_type": "execute_result"
    }
   ],
   "source": [
    "user_table.primary_key"
   ]
  },
  {
   "cell_type": "code",
   "execution_count": 5,
   "id": "bc13a513",
   "metadata": {},
   "outputs": [],
   "source": [
    "from sqlalchemy import ForeignKey\n",
    "address_table = Table(\n",
    "    \"address\",\n",
    "    metadata,\n",
    "    Column('id',Integer, primary_key=True),\n",
    "    Column('user_id', ForeignKey('user_account.id'),nullable=False),\n",
    "    Column('email_address',String,nullable=False)\n",
    ")"
   ]
  },
  {
   "cell_type": "code",
   "execution_count": 8,
   "id": "cc6e7d0b",
   "metadata": {},
   "outputs": [
    {
     "name": "stdout",
     "output_type": "stream",
     "text": [
      "2021-04-27 08:40:40,039 INFO sqlalchemy.engine.Engine BEGIN (implicit)\n",
      "2021-04-27 08:40:40,040 INFO sqlalchemy.engine.Engine PRAGMA main.table_info(\"user_account\")\n",
      "2021-04-27 08:40:40,040 INFO sqlalchemy.engine.Engine [raw sql] ()\n",
      "2021-04-27 08:40:40,042 INFO sqlalchemy.engine.Engine PRAGMA main.table_info(\"address\")\n",
      "2021-04-27 08:40:40,042 INFO sqlalchemy.engine.Engine [raw sql] ()\n",
      "2021-04-27 08:40:40,043 INFO sqlalchemy.engine.Engine COMMIT\n"
     ]
    }
   ],
   "source": [
    "from sqlalchemy import create_engine\n",
    "engine = create_engine(\"sqlite+pysqlite:///user.sqlite\",echo=True,future=True)\n",
    "metadata.create_all(engine)"
   ]
  },
  {
   "cell_type": "code",
   "execution_count": 9,
   "id": "ad6756d5",
   "metadata": {},
   "outputs": [],
   "source": [
    "from sqlalchemy.orm import declarative_base\n",
    "Base = declarative_base()\n",
    "\n",
    "from sqlalchemy.orm import relationship\n",
    "class User(Base):\n",
    "    __tablename__ = 'user_account'\n",
    "    id = Column(Integer, primary_key=True)\n",
    "    name = Column(String(30))\n",
    "    fullname = Column(String)\n",
    "    addresses = relationship(\"Address\",back_populates=\"user\")\n",
    "    \n",
    "    def __repr__(self):\n",
    "        return f\"User(id={self.id!r},name={self.name!r}, fullname={self.fullname!r})\"\n"
   ]
  },
  {
   "cell_type": "code",
   "execution_count": 10,
   "id": "ffa3ac68",
   "metadata": {},
   "outputs": [],
   "source": [
    "class Address(Base):\n",
    "    __tablename__ = 'address'\n",
    "    id = Column(Integer, primary_key=True)\n",
    "    email_address = Column(String, nullable=False)\n",
    "    user_id = Column(Integer, ForeignKey('user_account.id'))\n",
    "    user = relationship(\"User\",back_populates=\"addresses\")\n",
    "    def __repr__(self):\n",
    "        return f\"Address(id={self.id!r}, email_address={self.email_address!r})\""
   ]
  },
  {
   "cell_type": "code",
   "execution_count": 11,
   "id": "24f3d347",
   "metadata": {},
   "outputs": [
    {
     "data": {
      "text/plain": [
       "Table('user_account', MetaData(), Column('id', Integer(), table=<user_account>, primary_key=True, nullable=False), Column('name', String(length=30), table=<user_account>), Column('fullname', String(), table=<user_account>), schema=None)"
      ]
     },
     "execution_count": 11,
     "metadata": {},
     "output_type": "execute_result"
    }
   ],
   "source": [
    "User.__table__"
   ]
  },
  {
   "cell_type": "code",
   "execution_count": 12,
   "id": "2a4b026e",
   "metadata": {},
   "outputs": [
    {
     "name": "stdout",
     "output_type": "stream",
     "text": [
      "2021-04-27 08:55:53,925 INFO sqlalchemy.engine.Engine BEGIN (implicit)\n",
      "2021-04-27 08:55:53,926 INFO sqlalchemy.engine.Engine PRAGMA main.table_info(\"user_account\")\n",
      "2021-04-27 08:55:53,926 INFO sqlalchemy.engine.Engine [raw sql] ()\n",
      "2021-04-27 08:55:53,927 INFO sqlalchemy.engine.Engine PRAGMA temp.table_info(\"user_account\")\n",
      "2021-04-27 08:55:53,928 INFO sqlalchemy.engine.Engine [raw sql] ()\n",
      "2021-04-27 08:55:53,929 INFO sqlalchemy.engine.Engine PRAGMA main.table_info(\"address\")\n",
      "2021-04-27 08:55:53,929 INFO sqlalchemy.engine.Engine [raw sql] ()\n",
      "2021-04-27 08:55:53,930 INFO sqlalchemy.engine.Engine PRAGMA temp.table_info(\"address\")\n",
      "2021-04-27 08:55:53,931 INFO sqlalchemy.engine.Engine [raw sql] ()\n",
      "2021-04-27 08:55:53,932 INFO sqlalchemy.engine.Engine \n",
      "CREATE TABLE user_account (\n",
      "\tid INTEGER NOT NULL, \n",
      "\tname VARCHAR(30), \n",
      "\tfullname VARCHAR, \n",
      "\tPRIMARY KEY (id)\n",
      ")\n",
      "\n",
      "\n",
      "2021-04-27 08:55:53,933 INFO sqlalchemy.engine.Engine [no key 0.00065s] ()\n",
      "2021-04-27 08:55:53,935 INFO sqlalchemy.engine.Engine \n",
      "CREATE TABLE address (\n",
      "\tid INTEGER NOT NULL, \n",
      "\temail_address VARCHAR NOT NULL, \n",
      "\tuser_id INTEGER, \n",
      "\tPRIMARY KEY (id), \n",
      "\tFOREIGN KEY(user_id) REFERENCES user_account (id)\n",
      ")\n",
      "\n",
      "\n",
      "2021-04-27 08:55:53,935 INFO sqlalchemy.engine.Engine [no key 0.00081s] ()\n",
      "2021-04-27 08:55:53,937 INFO sqlalchemy.engine.Engine COMMIT\n"
     ]
    }
   ],
   "source": [
    "from sqlalchemy import create_engine\n",
    "engine = create_engine(\"sqlite+pysqlite:///user1.sqlite\",echo=True,future=True)\n",
    "Base.metadata.create_all(engine)"
   ]
  },
  {
   "cell_type": "code",
   "execution_count": 13,
   "id": "c428bbe9",
   "metadata": {},
   "outputs": [
    {
     "data": {
      "text/plain": [
       "User(id=None,name='國堂', fullname='徐國堂')"
      ]
     },
     "execution_count": 13,
     "metadata": {},
     "output_type": "execute_result"
    }
   ],
   "source": [
    "squidward = User(name=\"國堂\", fullname=\"徐國堂\")\n",
    "krabs = User(name='ehkrabs', fullname=\"Eugene H. Krabss\")\n",
    "squidward"
   ]
  },
  {
   "cell_type": "code",
   "execution_count": 16,
   "id": "8780cfb7",
   "metadata": {},
   "outputs": [],
   "source": [
    "from sqlalchemy.orm import Session\n",
    "session = Session(engine)"
   ]
  },
  {
   "cell_type": "code",
   "execution_count": 17,
   "id": "48657282",
   "metadata": {},
   "outputs": [],
   "source": [
    "session.add(squidward)\n",
    "session.add(krabs)"
   ]
  },
  {
   "cell_type": "code",
   "execution_count": 18,
   "id": "ae0886b5",
   "metadata": {},
   "outputs": [
    {
     "data": {
      "text/plain": [
       "IdentitySet([User(id=None,name='國堂', fullname='徐國堂'), User(id=None,name='ehkrabs', fullname='Eugene H. Krabss')])"
      ]
     },
     "execution_count": 18,
     "metadata": {},
     "output_type": "execute_result"
    }
   ],
   "source": [
    "session.new"
   ]
  },
  {
   "cell_type": "code",
   "execution_count": 19,
   "id": "348ef56f",
   "metadata": {},
   "outputs": [
    {
     "name": "stdout",
     "output_type": "stream",
     "text": [
      "2021-04-27 09:14:33,653 INFO sqlalchemy.engine.Engine BEGIN (implicit)\n",
      "2021-04-27 09:14:33,655 INFO sqlalchemy.engine.Engine INSERT INTO user_account (name, fullname) VALUES (?, ?)\n",
      "2021-04-27 09:14:33,656 INFO sqlalchemy.engine.Engine [generated in 0.00086s] ('國堂', '徐國堂')\n",
      "2021-04-27 09:14:33,657 INFO sqlalchemy.engine.Engine INSERT INTO user_account (name, fullname) VALUES (?, ?)\n",
      "2021-04-27 09:14:33,658 INFO sqlalchemy.engine.Engine [cached since 0.002793s ago] ('ehkrabs', 'Eugene H. Krabss')\n"
     ]
    }
   ],
   "source": [
    "session.flush()"
   ]
  },
  {
   "cell_type": "code",
   "execution_count": 20,
   "id": "e64c4782",
   "metadata": {},
   "outputs": [
    {
     "data": {
      "text/plain": [
       "1"
      ]
     },
     "execution_count": 20,
     "metadata": {},
     "output_type": "execute_result"
    }
   ],
   "source": [
    "squidward.id"
   ]
  },
  {
   "cell_type": "code",
   "execution_count": 21,
   "id": "1d604d5c",
   "metadata": {},
   "outputs": [
    {
     "name": "stdout",
     "output_type": "stream",
     "text": [
      "2021-04-27 09:17:53,371 INFO sqlalchemy.engine.Engine COMMIT\n"
     ]
    }
   ],
   "source": [
    "session.commit()"
   ]
  },
  {
   "cell_type": "code",
   "execution_count": 24,
   "id": "edf350fe",
   "metadata": {},
   "outputs": [
    {
     "name": "stdout",
     "output_type": "stream",
     "text": [
      "2021-04-27 09:31:47,785 INFO sqlalchemy.engine.Engine BEGIN (implicit)\n",
      "2021-04-27 09:31:47,786 INFO sqlalchemy.engine.Engine SELECT user_account.id, user_account.name, user_account.fullname \n",
      "FROM user_account \n",
      "WHERE user_account.name = ?\n",
      "2021-04-27 09:31:47,787 INFO sqlalchemy.engine.Engine [cached since 127.2s ago] ('國堂',)\n",
      "<class 'sqlalchemy.engine.row.Row'>\n",
      "(User(id=1,name='國堂', fullname='徐國堂'),)\n",
      "2021-04-27 09:31:47,789 INFO sqlalchemy.engine.Engine ROLLBACK\n"
     ]
    }
   ],
   "source": [
    "from sqlalchemy import select\n",
    "stmt = select(User).where(User.name == '國堂')\n",
    "with Session(engine) as session:\n",
    "    for row in session.execute(stmt):\n",
    "        print(row.__class__)\n",
    "        print(row)"
   ]
  },
  {
   "cell_type": "code",
   "execution_count": 23,
   "id": "c5d940d0",
   "metadata": {},
   "outputs": [
    {
     "name": "stdout",
     "output_type": "stream",
     "text": [
      "SELECT user_account.id, user_account.name, user_account.fullname \n",
      "FROM user_account\n"
     ]
    }
   ],
   "source": [
    "print(select(User))"
   ]
  },
  {
   "cell_type": "code",
   "execution_count": 26,
   "id": "822c2c31",
   "metadata": {},
   "outputs": [
    {
     "name": "stdout",
     "output_type": "stream",
     "text": [
      "2021-04-27 09:32:59,085 INFO sqlalchemy.engine.Engine SELECT user_account.id, user_account.name, user_account.fullname \n",
      "FROM user_account\n",
      "2021-04-27 09:32:59,086 INFO sqlalchemy.engine.Engine [cached since 24.39s ago] ()\n"
     ]
    }
   ],
   "source": [
    "row=session.execute(select(User)).first()"
   ]
  },
  {
   "cell_type": "code",
   "execution_count": 27,
   "id": "410d5621",
   "metadata": {},
   "outputs": [
    {
     "data": {
      "text/plain": [
       "(User(id=1,name='國堂', fullname='徐國堂'),)"
      ]
     },
     "execution_count": 27,
     "metadata": {},
     "output_type": "execute_result"
    }
   ],
   "source": [
    "row"
   ]
  },
  {
   "cell_type": "code",
   "execution_count": 28,
   "id": "6ea59ce8",
   "metadata": {},
   "outputs": [
    {
     "name": "stdout",
     "output_type": "stream",
     "text": [
      "SELECT user_account.name, user_account.fullname \n",
      "FROM user_account\n"
     ]
    }
   ],
   "source": [
    "print(select(User.name, User.fullname))"
   ]
  },
  {
   "cell_type": "code",
   "execution_count": 29,
   "id": "4c46e5f3",
   "metadata": {},
   "outputs": [
    {
     "name": "stdout",
     "output_type": "stream",
     "text": [
      "2021-04-27 09:34:34,267 INFO sqlalchemy.engine.Engine SELECT user_account.name, user_account.fullname \n",
      "FROM user_account\n",
      "2021-04-27 09:34:34,268 INFO sqlalchemy.engine.Engine [generated in 0.00103s] ()\n"
     ]
    }
   ],
   "source": [
    "row = session.execute(select(User.name, User.fullname)).first()"
   ]
  },
  {
   "cell_type": "code",
   "execution_count": 30,
   "id": "a6bd44d5",
   "metadata": {},
   "outputs": [
    {
     "name": "stdout",
     "output_type": "stream",
     "text": [
      "2021-04-27 09:43:13,657 INFO sqlalchemy.engine.Engine BEGIN (implicit)\n",
      "2021-04-27 09:43:13,658 INFO sqlalchemy.engine.Engine INSERT INTO user_account (name, fullname) VALUES (?, ?)\n",
      "2021-04-27 09:43:13,658 INFO sqlalchemy.engine.Engine [cached since 1720s ago] ('sandy', 'Sandy Cheeks')\n",
      "2021-04-27 09:43:13,660 INFO sqlalchemy.engine.Engine INSERT INTO user_account (name, fullname) VALUES (?, ?)\n",
      "2021-04-27 09:43:13,660 INFO sqlalchemy.engine.Engine [cached since 1720s ago] ('patrick', 'Patrick Star')\n",
      "2021-04-27 09:43:13,661 INFO sqlalchemy.engine.Engine COMMIT\n"
     ]
    }
   ],
   "source": [
    "user1 = User(name='sandy', fullname='Sandy Cheeks')\n",
    "user2 = User(name='patrick', fullname='Patrick Star')\n",
    "with Session(engine) as session:\n",
    "    session.add(user1)\n",
    "    session.add(user2)\n",
    "    session.commit()"
   ]
  },
  {
   "cell_type": "code",
   "execution_count": 36,
   "id": "59c4c680",
   "metadata": {},
   "outputs": [
    {
     "name": "stdout",
     "output_type": "stream",
     "text": [
      "2021-04-27 09:53:46,793 INFO sqlalchemy.engine.Engine BEGIN (implicit)\n",
      "2021-04-27 09:53:46,795 INFO sqlalchemy.engine.Engine SELECT user_account.id, user_account.name, user_account.fullname \n",
      "FROM user_account \n",
      "WHERE user_account.name = ?\n",
      "2021-04-27 09:53:46,795 INFO sqlalchemy.engine.Engine [cached since 1446s ago] ('sandy',)\n",
      "2021-04-27 09:53:46,798 INFO sqlalchemy.engine.Engine UPDATE user_account SET fullname=? WHERE user_account.id = ?\n",
      "2021-04-27 09:53:46,799 INFO sqlalchemy.engine.Engine [generated in 0.00081s] ('Sandy Squirrel', 3)\n",
      "2021-04-27 09:53:46,800 INFO sqlalchemy.engine.Engine COMMIT\n"
     ]
    }
   ],
   "source": [
    "with Session(engine) as session:\n",
    "    sandy = session.execute(select(User).filter_by(name=\"sandy\")).scalar_one()\n",
    "    sandy.name\n",
    "    sandy.fullname = \"Sandy Squirrel\" \n",
    "    session.commit()"
   ]
  },
  {
   "cell_type": "code",
   "execution_count": 38,
   "id": "9b27f3bc",
   "metadata": {},
   "outputs": [
    {
     "name": "stdout",
     "output_type": "stream",
     "text": [
      "2021-04-27 09:57:02,779 INFO sqlalchemy.engine.Engine SELECT user_account.fullname \n",
      "FROM user_account \n",
      "WHERE user_account.id = ?\n",
      "2021-04-27 09:57:02,780 INFO sqlalchemy.engine.Engine [cached since 33.1s ago] (3,)\n"
     ]
    },
    {
     "data": {
      "text/plain": [
       "'Sandy Squirrel'"
      ]
     },
     "execution_count": 38,
     "metadata": {},
     "output_type": "execute_result"
    }
   ],
   "source": [
    "sandy_fullname = session.execute(select(User.fullname).where(User.id==3)).scalar_one()\n",
    "sandy_fullname"
   ]
  },
  {
   "cell_type": "code",
   "execution_count": 56,
   "id": "67c3daa5",
   "metadata": {},
   "outputs": [
    {
     "name": "stdout",
     "output_type": "stream",
     "text": [
      "2021-04-27 10:14:43,601 INFO sqlalchemy.engine.Engine BEGIN (implicit)\n",
      "2021-04-27 10:14:43,602 INFO sqlalchemy.engine.Engine UPDATE user_account SET fullname=? WHERE user_account.name = ?\n",
      "2021-04-27 10:14:43,603 INFO sqlalchemy.engine.Engine [cached since 770.3s ago] ('Sandy Squirrel Extraodinaire', 'sandy')\n",
      "2021-04-27 10:14:43,604 INFO sqlalchemy.engine.Engine ROLLBACK\n"
     ]
    }
   ],
   "source": [
    "from sqlalchemy import update\n",
    "with Session(engine) as session:\n",
    "    session.execute(\n",
    "        update(User).\n",
    "        where(User.name==\"sandy\").\n",
    "        values(fullname=\"Sandy Squirrel Extraodinaire\")\n",
    "    )\n",
    "  "
   ]
  },
  {
   "cell_type": "code",
   "execution_count": 57,
   "id": "4e34996e",
   "metadata": {},
   "outputs": [
    {
     "name": "stdout",
     "output_type": "stream",
     "text": [
      "2021-04-27 10:14:49,660 INFO sqlalchemy.engine.Engine BEGIN (implicit)\n",
      "2021-04-27 10:14:49,661 INFO sqlalchemy.engine.Engine SELECT user_account.id, user_account.name, user_account.fullname \n",
      "FROM user_account \n",
      "WHERE user_account.id = ?\n",
      "2021-04-27 10:14:49,662 INFO sqlalchemy.engine.Engine [cached since 17.7s ago] (3,)\n",
      "User(id=3,name='sandy', fullname='Sandy Squirrel')\n",
      "2021-04-27 10:14:49,663 INFO sqlalchemy.engine.Engine ROLLBACK\n"
     ]
    }
   ],
   "source": [
    "with Session(engine) as session:\n",
    "    sandy=session.execute(select(User).where(User.id==3)).scalar_one()\n",
    "    print(sandy)"
   ]
  },
  {
   "cell_type": "code",
   "execution_count": null,
   "id": "ac46e8cc",
   "metadata": {},
   "outputs": [],
   "source": []
  }
 ],
 "metadata": {
  "kernelspec": {
   "display_name": "Python 3",
   "language": "python",
   "name": "python3"
  },
  "language_info": {
   "codemirror_mode": {
    "name": "ipython",
    "version": 3
   },
   "file_extension": ".py",
   "mimetype": "text/x-python",
   "name": "python",
   "nbconvert_exporter": "python",
   "pygments_lexer": "ipython3",
   "version": "3.8.7"
  }
 },
 "nbformat": 4,
 "nbformat_minor": 5
}
