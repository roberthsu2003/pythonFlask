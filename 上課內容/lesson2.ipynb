{
 "cells": [
  {
   "cell_type": "code",
   "execution_count": 1,
   "id": "671cbda3",
   "metadata": {},
   "outputs": [
    {
     "data": {
      "text/plain": [
       "13"
      ]
     },
     "execution_count": 1,
     "metadata": {},
     "output_type": "execute_result"
    }
   ],
   "source": [
    "5+8"
   ]
  },
  {
   "cell_type": "code",
   "execution_count": 2,
   "id": "4ccfa269",
   "metadata": {},
   "outputs": [
    {
     "data": {
      "text/plain": [
       "80"
      ]
     },
     "execution_count": 2,
     "metadata": {},
     "output_type": "execute_result"
    }
   ],
   "source": [
    "90-10"
   ]
  },
  {
   "cell_type": "code",
   "execution_count": 3,
   "id": "c1dd823d",
   "metadata": {},
   "outputs": [
    {
     "data": {
      "text/plain": [
       "28"
      ]
     },
     "execution_count": 3,
     "metadata": {},
     "output_type": "execute_result"
    }
   ],
   "source": [
    "4*7"
   ]
  },
  {
   "cell_type": "code",
   "execution_count": 4,
   "id": "3d351011",
   "metadata": {},
   "outputs": [
    {
     "data": {
      "text/plain": [
       "3.5"
      ]
     },
     "execution_count": 4,
     "metadata": {},
     "output_type": "execute_result"
    }
   ],
   "source": [
    "7/2"
   ]
  },
  {
   "cell_type": "code",
   "execution_count": 5,
   "id": "a924f828",
   "metadata": {},
   "outputs": [
    {
     "data": {
      "text/plain": [
       "3"
      ]
     },
     "execution_count": 5,
     "metadata": {},
     "output_type": "execute_result"
    }
   ],
   "source": [
    "7//2"
   ]
  },
  {
   "cell_type": "code",
   "execution_count": 6,
   "id": "8242495e",
   "metadata": {},
   "outputs": [
    {
     "data": {
      "text/plain": [
       "1"
      ]
     },
     "execution_count": 6,
     "metadata": {},
     "output_type": "execute_result"
    }
   ],
   "source": [
    "7%2"
   ]
  },
  {
   "cell_type": "code",
   "execution_count": 7,
   "id": "12c5608e",
   "metadata": {},
   "outputs": [
    {
     "data": {
      "text/plain": [
       "256"
      ]
     },
     "execution_count": 7,
     "metadata": {},
     "output_type": "execute_result"
    }
   ],
   "source": [
    "4 ** 4"
   ]
  },
  {
   "cell_type": "code",
   "execution_count": 8,
   "id": "619be085",
   "metadata": {},
   "outputs": [
    {
     "data": {
      "text/plain": [
       "20"
      ]
     },
     "execution_count": 8,
     "metadata": {},
     "output_type": "execute_result"
    }
   ],
   "source": [
    "(2+3)*4"
   ]
  },
  {
   "cell_type": "code",
   "execution_count": 9,
   "id": "a88fdd89",
   "metadata": {},
   "outputs": [
    {
     "data": {
      "text/plain": [
       "-2"
      ]
     },
     "execution_count": 9,
     "metadata": {},
     "output_type": "execute_result"
    }
   ],
   "source": [
    "2 * 1 + 2 ** 2 - 2 ** 2 * 2"
   ]
  },
  {
   "cell_type": "code",
   "execution_count": 11,
   "id": "0b3df645",
   "metadata": {},
   "outputs": [
    {
     "data": {
      "text/plain": [
       "1"
      ]
     },
     "execution_count": 11,
     "metadata": {},
     "output_type": "execute_result"
    }
   ],
   "source": [
    "int(True)"
   ]
  },
  {
   "cell_type": "code",
   "execution_count": 12,
   "id": "429d49cf",
   "metadata": {},
   "outputs": [
    {
     "data": {
      "text/plain": [
       "98"
      ]
     },
     "execution_count": 12,
     "metadata": {},
     "output_type": "execute_result"
    }
   ],
   "source": [
    "int(98.6)"
   ]
  },
  {
   "cell_type": "code",
   "execution_count": 13,
   "id": "e4673e28",
   "metadata": {},
   "outputs": [
    {
     "data": {
      "text/plain": [
       "99"
      ]
     },
     "execution_count": 13,
     "metadata": {},
     "output_type": "execute_result"
    }
   ],
   "source": [
    "int('99')"
   ]
  },
  {
   "cell_type": "code",
   "execution_count": 14,
   "id": "e86ee058",
   "metadata": {},
   "outputs": [
    {
     "ename": "ValueError",
     "evalue": "invalid literal for int() with base 10: '99a'",
     "output_type": "error",
     "traceback": [
      "\u001b[0;31m---------------------------------------------------------------------------\u001b[0m",
      "\u001b[0;31mValueError\u001b[0m                                Traceback (most recent call last)",
      "\u001b[0;32m<ipython-input-14-a02ed6c83e7a>\u001b[0m in \u001b[0;36m<module>\u001b[0;34m\u001b[0m\n\u001b[0;32m----> 1\u001b[0;31m \u001b[0mint\u001b[0m\u001b[0;34m(\u001b[0m\u001b[0;34m'99a'\u001b[0m\u001b[0;34m)\u001b[0m\u001b[0;34m\u001b[0m\u001b[0;34m\u001b[0m\u001b[0m\n\u001b[0m",
      "\u001b[0;31mValueError\u001b[0m: invalid literal for int() with base 10: '99a'"
     ]
    }
   ],
   "source": [
    "int('99a')"
   ]
  },
  {
   "cell_type": "code",
   "execution_count": 15,
   "id": "71e961fe",
   "metadata": {},
   "outputs": [
    {
     "data": {
      "text/plain": [
       "98.0"
      ]
     },
     "execution_count": 15,
     "metadata": {},
     "output_type": "execute_result"
    }
   ],
   "source": [
    "float(98)"
   ]
  },
  {
   "cell_type": "code",
   "execution_count": 16,
   "id": "f7fea16c",
   "metadata": {},
   "outputs": [
    {
     "data": {
      "text/plain": [
       "'snap'"
      ]
     },
     "execution_count": 16,
     "metadata": {},
     "output_type": "execute_result"
    }
   ],
   "source": [
    "'snap'"
   ]
  },
  {
   "cell_type": "code",
   "execution_count": 17,
   "id": "73098fef",
   "metadata": {},
   "outputs": [
    {
     "data": {
      "text/plain": [
       "'A \"two by four\" is actually '"
      ]
     },
     "execution_count": 17,
     "metadata": {},
     "output_type": "execute_result"
    }
   ],
   "source": [
    "'A \"two by four\" is actually '"
   ]
  },
  {
   "cell_type": "code",
   "execution_count": 19,
   "id": "4baf531a",
   "metadata": {},
   "outputs": [
    {
     "data": {
      "text/plain": [
       "'Apple Arcade 推出的最新遊戲《Next Stop Nowhere》，由位於洛杉磯的開發商 Night School Studio 出品。這款遊戲是太空公路之旅的夥伴冒險，其中不同角色間展開了一些精彩的劇情。在銀河系的外圍，每個人和所有事物之間都有充分的空間，Night School 希望這款遊戲可為近來可能感到孤立的玩家提供一些慰藉。'"
      ]
     },
     "execution_count": 19,
     "metadata": {},
     "output_type": "execute_result"
    }
   ],
   "source": [
    "'\\\n",
    "Apple Arcade 推出的最新遊戲《Next Stop Nowhere》，由位於洛杉磯的開發\\\n",
    "商 Night School Studio 出品。這款遊戲是太空公路之旅的夥伴冒險\\\n",
    "，其中不同角色間展開了一些精彩的劇情。在銀河系的外圍，每個人和所有\\\n",
    "事物之間都有充分的空間，Night School 希望這款遊戲可為近來可能感\\\n",
    "到孤立的玩家提供一些慰藉。\\\n",
    "'"
   ]
  },
  {
   "cell_type": "code",
   "execution_count": 21,
   "id": "9035bb57",
   "metadata": {},
   "outputs": [
    {
     "data": {
      "text/plain": [
       "'\\nApple Arcade 推出的最新遊戲《Next Stop Nowhere》，由位於洛杉磯的開發\\n商 Night School Studio 出品。這款遊戲是太空公路之旅的夥伴冒險\\n，其中不同角色間展開了一些精彩的劇情。在銀河系的外圍，每個人和所有\\n事物之間都有充分的空間，Night School 希望這款遊戲可為近來可能感\\n到孤立的玩家提供一些慰藉。\\n'"
      ]
     },
     "execution_count": 21,
     "metadata": {},
     "output_type": "execute_result"
    }
   ],
   "source": [
    "'''\n",
    "Apple Arcade 推出的最新遊戲《Next Stop Nowhere》，由位於洛杉磯的開發\n",
    "商 Night School Studio 出品。這款遊戲是太空公路之旅的夥伴冒險\n",
    "，其中不同角色間展開了一些精彩的劇情。在銀河系的外圍，每個人和所有\n",
    "事物之間都有充分的空間，Night School 希望這款遊戲可為近來可能感\n",
    "到孤立的玩家提供一些慰藉。\n",
    "'''"
   ]
  },
  {
   "cell_type": "code",
   "execution_count": 22,
   "id": "bdb57241",
   "metadata": {},
   "outputs": [
    {
     "name": "stdout",
     "output_type": "stream",
     "text": [
      "99 boottles would be enough\n"
     ]
    }
   ],
   "source": [
    "print(99,'boottles', 'would be enough')"
   ]
  },
  {
   "cell_type": "code",
   "execution_count": 23,
   "id": "3a8d30b5",
   "metadata": {},
   "outputs": [
    {
     "data": {
      "text/plain": [
       "'abcdefghijklmnopqrstuvwxyz'"
      ]
     },
     "execution_count": 23,
     "metadata": {},
     "output_type": "execute_result"
    }
   ],
   "source": [
    "#字串運算\n",
    "alphabet = ''\n",
    "alphabet + 'abcdefg'\n",
    "alphabet += 'abcdefg'\n",
    "alphabet += 'hijklmn'\n",
    "alphabet += 'opqrstuvwxyz'\n",
    "alphabet"
   ]
  },
  {
   "cell_type": "code",
   "execution_count": 24,
   "id": "b91d00b1",
   "metadata": {},
   "outputs": [
    {
     "data": {
      "text/plain": [
       "'abcdefghijklmnopqrstuvwxyz'"
      ]
     },
     "execution_count": 24,
     "metadata": {},
     "output_type": "execute_result"
    }
   ],
   "source": [
    "alphabet"
   ]
  },
  {
   "cell_type": "code",
   "execution_count": 26,
   "id": "bcb17ff0",
   "metadata": {},
   "outputs": [
    {
     "name": "stdout",
     "output_type": "stream",
     "text": [
      "輸入整數1a:567\n"
     ]
    },
    {
     "data": {
      "text/plain": [
       "567"
      ]
     },
     "execution_count": 26,
     "metadata": {},
     "output_type": "execute_result"
    }
   ],
   "source": [
    "a = int(input(\"輸入整數1a:\"))\n",
    "a"
   ]
  },
  {
   "cell_type": "code",
   "execution_count": 27,
   "id": "a41317ff",
   "metadata": {},
   "outputs": [
    {
     "data": {
      "text/plain": [
       "int"
      ]
     },
     "execution_count": 27,
     "metadata": {},
     "output_type": "execute_result"
    }
   ],
   "source": [
    "a.__class__"
   ]
  },
  {
   "cell_type": "code",
   "execution_count": 30,
   "id": "86c7dc27",
   "metadata": {},
   "outputs": [
    {
     "data": {
      "text/plain": [
       "{'__name__': '__main__',\n",
       " '__doc__': 'Automatically created module for IPython interactive environment',\n",
       " '__package__': None,\n",
       " '__loader__': None,\n",
       " '__spec__': None,\n",
       " '__builtin__': <module 'builtins' (built-in)>,\n",
       " '__builtins__': <module 'builtins' (built-in)>,\n",
       " '_ih': ['',\n",
       "  '5+8',\n",
       "  '90-10',\n",
       "  '4*7',\n",
       "  '7/2',\n",
       "  '7//2',\n",
       "  '7%2',\n",
       "  '4 ** 4',\n",
       "  '(2+3)*4',\n",
       "  '2 * 1 + 2 ** 2 - 2 ** 2 * 2',\n",
       "  'True',\n",
       "  'int(True)',\n",
       "  'int(98.6)',\n",
       "  \"int('99')\",\n",
       "  \"int('99a')\",\n",
       "  'float(98)',\n",
       "  \"'snap'\",\n",
       "  '\\'A \"two by four\" is actually \\'',\n",
       "  \"'\\\\\\nApple Arcade 推出的最新遊戲《Next Stop Nowhere》，由位於洛杉磯的開發\\\\\\n商 Night School Studio 出品。這款遊戲是太空公路之旅的夥伴冒險\\\\\\n，其中不同角色間展開了一些精彩的劇情。在銀河系的外圍，每個人和所有\\\\\\n事物之間都有充分的空間，Night School 希望這款遊戲可為近來可能感\\\\\\n到孤立的玩家提供一些慰藉。\\n'\",\n",
       "  \"'\\\\\\nApple Arcade 推出的最新遊戲《Next Stop Nowhere》，由位於洛杉磯的開發\\\\\\n商 Night School Studio 出品。這款遊戲是太空公路之旅的夥伴冒險\\\\\\n，其中不同角色間展開了一些精彩的劇情。在銀河系的外圍，每個人和所有\\\\\\n事物之間都有充分的空間，Night School 希望這款遊戲可為近來可能感\\\\\\n到孤立的玩家提供一些慰藉。\\\\\\n'\",\n",
       "  \"'''\\nApple Arcade 推出的最新遊戲《Next Stop Nowhere》，由位於洛杉磯的開發\\\\\\n商 Night School Studio 出品。這款遊戲是太空公路之旅的夥伴冒險\\\\\\n，其中不同角色間展開了一些精彩的劇情。在銀河系的外圍，每個人和所有\\\\\\n事物之間都有充分的空間，Night School 希望這款遊戲可為近來可能感\\\\\\n到孤立的玩家提供一些慰藉。\\\\\\n'''\",\n",
       "  \"'''\\nApple Arcade 推出的最新遊戲《Next Stop Nowhere》，由位於洛杉磯的開發\\n商 Night School Studio 出品。這款遊戲是太空公路之旅的夥伴冒險\\n，其中不同角色間展開了一些精彩的劇情。在銀河系的外圍，每個人和所有\\n事物之間都有充分的空間，Night School 希望這款遊戲可為近來可能感\\n到孤立的玩家提供一些慰藉。\\n'''\",\n",
       "  \"print(99,'boottles', 'would be enough')\",\n",
       "  \"#字串運算\\nalphabet = ''\\nalphabet + 'abcdefg'\\nalphabet += 'abcdefg'\\nalphabet += 'hijklmn'\\nalphabet += 'opqrstuvwxyz'\\nalphabet\",\n",
       "  'alphabet',\n",
       "  'a = input(\"輸入整數1a:\")\\na',\n",
       "  'a = int(input(\"輸入整數1a:\"))\\na',\n",
       "  'a.__class__',\n",
       "  'locals()',\n",
       "  'gobals()',\n",
       "  'globals()'],\n",
       " '_oh': {1: 13,\n",
       "  2: 80,\n",
       "  3: 28,\n",
       "  4: 3.5,\n",
       "  5: 3,\n",
       "  6: 1,\n",
       "  7: 256,\n",
       "  8: 20,\n",
       "  9: -2,\n",
       "  10: True,\n",
       "  11: 1,\n",
       "  12: 98,\n",
       "  13: 99,\n",
       "  15: 98.0,\n",
       "  16: 'snap',\n",
       "  17: 'A \"two by four\" is actually ',\n",
       "  19: 'Apple Arcade 推出的最新遊戲《Next Stop Nowhere》，由位於洛杉磯的開發商 Night School Studio 出品。這款遊戲是太空公路之旅的夥伴冒險，其中不同角色間展開了一些精彩的劇情。在銀河系的外圍，每個人和所有事物之間都有充分的空間，Night School 希望這款遊戲可為近來可能感到孤立的玩家提供一些慰藉。',\n",
       "  20: '\\nApple Arcade 推出的最新遊戲《Next Stop Nowhere》，由位於洛杉磯的開發商 Night School Studio 出品。這款遊戲是太空公路之旅的夥伴冒險，其中不同角色間展開了一些精彩的劇情。在銀河系的外圍，每個人和所有事物之間都有充分的空間，Night School 希望這款遊戲可為近來可能感到孤立的玩家提供一些慰藉。',\n",
       "  21: '\\nApple Arcade 推出的最新遊戲《Next Stop Nowhere》，由位於洛杉磯的開發\\n商 Night School Studio 出品。這款遊戲是太空公路之旅的夥伴冒險\\n，其中不同角色間展開了一些精彩的劇情。在銀河系的外圍，每個人和所有\\n事物之間都有充分的空間，Night School 希望這款遊戲可為近來可能感\\n到孤立的玩家提供一些慰藉。\\n',\n",
       "  23: 'abcdefghijklmnopqrstuvwxyz',\n",
       "  24: 'abcdefghijklmnopqrstuvwxyz',\n",
       "  25: '678',\n",
       "  26: 567,\n",
       "  27: int,\n",
       "  28: {...}},\n",
       " '_dh': ['/Users/roberthsu2003/Documents/GitHub/pythonFlask/上課內容'],\n",
       " 'In': ['',\n",
       "  '5+8',\n",
       "  '90-10',\n",
       "  '4*7',\n",
       "  '7/2',\n",
       "  '7//2',\n",
       "  '7%2',\n",
       "  '4 ** 4',\n",
       "  '(2+3)*4',\n",
       "  '2 * 1 + 2 ** 2 - 2 ** 2 * 2',\n",
       "  'True',\n",
       "  'int(True)',\n",
       "  'int(98.6)',\n",
       "  \"int('99')\",\n",
       "  \"int('99a')\",\n",
       "  'float(98)',\n",
       "  \"'snap'\",\n",
       "  '\\'A \"two by four\" is actually \\'',\n",
       "  \"'\\\\\\nApple Arcade 推出的最新遊戲《Next Stop Nowhere》，由位於洛杉磯的開發\\\\\\n商 Night School Studio 出品。這款遊戲是太空公路之旅的夥伴冒險\\\\\\n，其中不同角色間展開了一些精彩的劇情。在銀河系的外圍，每個人和所有\\\\\\n事物之間都有充分的空間，Night School 希望這款遊戲可為近來可能感\\\\\\n到孤立的玩家提供一些慰藉。\\n'\",\n",
       "  \"'\\\\\\nApple Arcade 推出的最新遊戲《Next Stop Nowhere》，由位於洛杉磯的開發\\\\\\n商 Night School Studio 出品。這款遊戲是太空公路之旅的夥伴冒險\\\\\\n，其中不同角色間展開了一些精彩的劇情。在銀河系的外圍，每個人和所有\\\\\\n事物之間都有充分的空間，Night School 希望這款遊戲可為近來可能感\\\\\\n到孤立的玩家提供一些慰藉。\\\\\\n'\",\n",
       "  \"'''\\nApple Arcade 推出的最新遊戲《Next Stop Nowhere》，由位於洛杉磯的開發\\\\\\n商 Night School Studio 出品。這款遊戲是太空公路之旅的夥伴冒險\\\\\\n，其中不同角色間展開了一些精彩的劇情。在銀河系的外圍，每個人和所有\\\\\\n事物之間都有充分的空間，Night School 希望這款遊戲可為近來可能感\\\\\\n到孤立的玩家提供一些慰藉。\\\\\\n'''\",\n",
       "  \"'''\\nApple Arcade 推出的最新遊戲《Next Stop Nowhere》，由位於洛杉磯的開發\\n商 Night School Studio 出品。這款遊戲是太空公路之旅的夥伴冒險\\n，其中不同角色間展開了一些精彩的劇情。在銀河系的外圍，每個人和所有\\n事物之間都有充分的空間，Night School 希望這款遊戲可為近來可能感\\n到孤立的玩家提供一些慰藉。\\n'''\",\n",
       "  \"print(99,'boottles', 'would be enough')\",\n",
       "  \"#字串運算\\nalphabet = ''\\nalphabet + 'abcdefg'\\nalphabet += 'abcdefg'\\nalphabet += 'hijklmn'\\nalphabet += 'opqrstuvwxyz'\\nalphabet\",\n",
       "  'alphabet',\n",
       "  'a = input(\"輸入整數1a:\")\\na',\n",
       "  'a = int(input(\"輸入整數1a:\"))\\na',\n",
       "  'a.__class__',\n",
       "  'locals()',\n",
       "  'gobals()',\n",
       "  'globals()'],\n",
       " 'Out': {1: 13,\n",
       "  2: 80,\n",
       "  3: 28,\n",
       "  4: 3.5,\n",
       "  5: 3,\n",
       "  6: 1,\n",
       "  7: 256,\n",
       "  8: 20,\n",
       "  9: -2,\n",
       "  10: True,\n",
       "  11: 1,\n",
       "  12: 98,\n",
       "  13: 99,\n",
       "  15: 98.0,\n",
       "  16: 'snap',\n",
       "  17: 'A \"two by four\" is actually ',\n",
       "  19: 'Apple Arcade 推出的最新遊戲《Next Stop Nowhere》，由位於洛杉磯的開發商 Night School Studio 出品。這款遊戲是太空公路之旅的夥伴冒險，其中不同角色間展開了一些精彩的劇情。在銀河系的外圍，每個人和所有事物之間都有充分的空間，Night School 希望這款遊戲可為近來可能感到孤立的玩家提供一些慰藉。',\n",
       "  20: '\\nApple Arcade 推出的最新遊戲《Next Stop Nowhere》，由位於洛杉磯的開發商 Night School Studio 出品。這款遊戲是太空公路之旅的夥伴冒險，其中不同角色間展開了一些精彩的劇情。在銀河系的外圍，每個人和所有事物之間都有充分的空間，Night School 希望這款遊戲可為近來可能感到孤立的玩家提供一些慰藉。',\n",
       "  21: '\\nApple Arcade 推出的最新遊戲《Next Stop Nowhere》，由位於洛杉磯的開發\\n商 Night School Studio 出品。這款遊戲是太空公路之旅的夥伴冒險\\n，其中不同角色間展開了一些精彩的劇情。在銀河系的外圍，每個人和所有\\n事物之間都有充分的空間，Night School 希望這款遊戲可為近來可能感\\n到孤立的玩家提供一些慰藉。\\n',\n",
       "  23: 'abcdefghijklmnopqrstuvwxyz',\n",
       "  24: 'abcdefghijklmnopqrstuvwxyz',\n",
       "  25: '678',\n",
       "  26: 567,\n",
       "  27: int,\n",
       "  28: {...}},\n",
       " 'get_ipython': <bound method InteractiveShell.get_ipython of <ipykernel.zmqshell.ZMQInteractiveShell object at 0x7fd4142c6250>>,\n",
       " 'exit': <IPython.core.autocall.ZMQExitAutocall at 0x7fd4142ed4c0>,\n",
       " 'quit': <IPython.core.autocall.ZMQExitAutocall at 0x7fd4142ed4c0>,\n",
       " '_': {...},\n",
       " '__': int,\n",
       " '___': 567,\n",
       " '_i': 'gobals()',\n",
       " '_ii': 'locals()',\n",
       " '_iii': 'a.__class__',\n",
       " '_i1': '5+8',\n",
       " '_1': 13,\n",
       " '_i2': '90-10',\n",
       " '_2': 80,\n",
       " '_i3': '4*7',\n",
       " '_3': 28,\n",
       " '_i4': '7/2',\n",
       " '_4': 3.5,\n",
       " '_i5': '7//2',\n",
       " '_5': 3,\n",
       " '_i6': '7%2',\n",
       " '_6': 1,\n",
       " '_i7': '4 ** 4',\n",
       " '_7': 256,\n",
       " '_i8': '(2+3)*4',\n",
       " '_8': 20,\n",
       " '_i9': '2 * 1 + 2 ** 2 - 2 ** 2 * 2',\n",
       " '_9': -2,\n",
       " '_i10': 'True',\n",
       " '_10': True,\n",
       " '_i11': 'int(True)',\n",
       " '_11': 1,\n",
       " '_i12': 'int(98.6)',\n",
       " '_12': 98,\n",
       " '_i13': \"int('99')\",\n",
       " '_13': 99,\n",
       " '_i14': \"int('99a')\",\n",
       " '_i15': 'float(98)',\n",
       " '_15': 98.0,\n",
       " '_i16': \"'snap'\",\n",
       " '_16': 'snap',\n",
       " '_i17': '\\'A \"two by four\" is actually \\'',\n",
       " '_17': 'A \"two by four\" is actually ',\n",
       " '_i18': \"'\\\\\\nApple Arcade 推出的最新遊戲《Next Stop Nowhere》，由位於洛杉磯的開發\\\\\\n商 Night School Studio 出品。這款遊戲是太空公路之旅的夥伴冒險\\\\\\n，其中不同角色間展開了一些精彩的劇情。在銀河系的外圍，每個人和所有\\\\\\n事物之間都有充分的空間，Night School 希望這款遊戲可為近來可能感\\\\\\n到孤立的玩家提供一些慰藉。\\n'\",\n",
       " '_i19': \"'\\\\\\nApple Arcade 推出的最新遊戲《Next Stop Nowhere》，由位於洛杉磯的開發\\\\\\n商 Night School Studio 出品。這款遊戲是太空公路之旅的夥伴冒險\\\\\\n，其中不同角色間展開了一些精彩的劇情。在銀河系的外圍，每個人和所有\\\\\\n事物之間都有充分的空間，Night School 希望這款遊戲可為近來可能感\\\\\\n到孤立的玩家提供一些慰藉。\\\\\\n'\",\n",
       " '_19': 'Apple Arcade 推出的最新遊戲《Next Stop Nowhere》，由位於洛杉磯的開發商 Night School Studio 出品。這款遊戲是太空公路之旅的夥伴冒險，其中不同角色間展開了一些精彩的劇情。在銀河系的外圍，每個人和所有事物之間都有充分的空間，Night School 希望這款遊戲可為近來可能感到孤立的玩家提供一些慰藉。',\n",
       " '_i20': \"'''\\nApple Arcade 推出的最新遊戲《Next Stop Nowhere》，由位於洛杉磯的開發\\\\\\n商 Night School Studio 出品。這款遊戲是太空公路之旅的夥伴冒險\\\\\\n，其中不同角色間展開了一些精彩的劇情。在銀河系的外圍，每個人和所有\\\\\\n事物之間都有充分的空間，Night School 希望這款遊戲可為近來可能感\\\\\\n到孤立的玩家提供一些慰藉。\\\\\\n'''\",\n",
       " '_20': '\\nApple Arcade 推出的最新遊戲《Next Stop Nowhere》，由位於洛杉磯的開發商 Night School Studio 出品。這款遊戲是太空公路之旅的夥伴冒險，其中不同角色間展開了一些精彩的劇情。在銀河系的外圍，每個人和所有事物之間都有充分的空間，Night School 希望這款遊戲可為近來可能感到孤立的玩家提供一些慰藉。',\n",
       " '_i21': \"'''\\nApple Arcade 推出的最新遊戲《Next Stop Nowhere》，由位於洛杉磯的開發\\n商 Night School Studio 出品。這款遊戲是太空公路之旅的夥伴冒險\\n，其中不同角色間展開了一些精彩的劇情。在銀河系的外圍，每個人和所有\\n事物之間都有充分的空間，Night School 希望這款遊戲可為近來可能感\\n到孤立的玩家提供一些慰藉。\\n'''\",\n",
       " '_21': '\\nApple Arcade 推出的最新遊戲《Next Stop Nowhere》，由位於洛杉磯的開發\\n商 Night School Studio 出品。這款遊戲是太空公路之旅的夥伴冒險\\n，其中不同角色間展開了一些精彩的劇情。在銀河系的外圍，每個人和所有\\n事物之間都有充分的空間，Night School 希望這款遊戲可為近來可能感\\n到孤立的玩家提供一些慰藉。\\n',\n",
       " '_i22': \"print(99,'boottles', 'would be enough')\",\n",
       " '_i23': \"#字串運算\\nalphabet = ''\\nalphabet + 'abcdefg'\\nalphabet += 'abcdefg'\\nalphabet += 'hijklmn'\\nalphabet += 'opqrstuvwxyz'\\nalphabet\",\n",
       " 'alphabet': 'abcdefghijklmnopqrstuvwxyz',\n",
       " '_23': 'abcdefghijklmnopqrstuvwxyz',\n",
       " '_i24': 'alphabet',\n",
       " '_24': 'abcdefghijklmnopqrstuvwxyz',\n",
       " '_i25': 'a = input(\"輸入整數1a:\")\\na',\n",
       " 'a': 567,\n",
       " '_25': '678',\n",
       " '_i26': 'a = int(input(\"輸入整數1a:\"))\\na',\n",
       " '_26': 567,\n",
       " '_i27': 'a.__class__',\n",
       " '_27': int,\n",
       " '_i28': 'locals()',\n",
       " '_28': {...},\n",
       " '_i29': 'gobals()',\n",
       " '_i30': 'globals()'}"
      ]
     },
     "execution_count": 30,
     "metadata": {},
     "output_type": "execute_result"
    }
   ],
   "source": [
    "globals()"
   ]
  },
  {
   "cell_type": "code",
   "execution_count": 32,
   "id": "413d1458",
   "metadata": {},
   "outputs": [
    {
     "name": "stdout",
     "output_type": "stream",
     "text": [
      "請輸入梯形的上底(公分):32\n",
      "請輸入梯形的下底(公分):45\n",
      "請輸入梯形的高(公分):12\n",
      "梯形的面積: 462.0 平方公分\n",
      "梯形的面積:462.0平方公分\n"
     ]
    }
   ],
   "source": [
    "top=float(input(\"請輸入梯形的上底(公分):\"))\n",
    "bottom=float(input(\"請輸入梯形的下底(公分):\"))\n",
    "height=float(input(\"請輸入梯形的高(公分):\"))\n",
    "area = (top+bottom)*height/2\n",
    "print(\"梯形的面積:\",area,\"平方公分\")\n",
    "print(f\"梯形的面積:{area}平方公分\")"
   ]
  },
  {
   "cell_type": "code",
   "execution_count": 34,
   "id": "1687f4ec",
   "metadata": {},
   "outputs": [
    {
     "name": "stdout",
     "output_type": "stream",
     "text": [
      "請輸入年紀?20\n",
      "青年\n"
     ]
    }
   ],
   "source": [
    "age = int(input(\"請輸入年紀?\"))\n",
    "if age < 12:\n",
    "    print(\"少年\")\n",
    "elif age < 18:\n",
    "    print(\"青少年\")\n",
    "else: \n",
    "    print(\"青年\")"
   ]
  },
  {
   "cell_type": "code",
   "execution_count": 35,
   "id": "b1c1b66c",
   "metadata": {},
   "outputs": [
    {
     "data": {
      "text/plain": [
       "True"
      ]
     },
     "execution_count": 35,
     "metadata": {},
     "output_type": "execute_result"
    }
   ],
   "source": [
    "x = 8\n",
    "5 < x and x < 10"
   ]
  },
  {
   "cell_type": "code",
   "execution_count": 36,
   "id": "fe27b2c8",
   "metadata": {},
   "outputs": [
    {
     "data": {
      "text/plain": [
       "False"
      ]
     },
     "execution_count": 36,
     "metadata": {},
     "output_type": "execute_result"
    }
   ],
   "source": [
    "5 < x and x > 10"
   ]
  },
  {
   "cell_type": "code",
   "execution_count": 37,
   "id": "378cfeae",
   "metadata": {},
   "outputs": [
    {
     "data": {
      "text/plain": [
       "True"
      ]
     },
     "execution_count": 37,
     "metadata": {},
     "output_type": "execute_result"
    }
   ],
   "source": [
    "5 < x or x > 10"
   ]
  },
  {
   "cell_type": "code",
   "execution_count": 38,
   "id": "209f4f1c",
   "metadata": {},
   "outputs": [
    {
     "data": {
      "text/plain": [
       "False"
      ]
     },
     "execution_count": 38,
     "metadata": {},
     "output_type": "execute_result"
    }
   ],
   "source": [
    "not True"
   ]
  },
  {
   "cell_type": "code",
   "execution_count": 39,
   "id": "eb3ddd35",
   "metadata": {},
   "outputs": [
    {
     "data": {
      "text/plain": [
       "True"
      ]
     },
     "execution_count": 39,
     "metadata": {},
     "output_type": "execute_result"
    }
   ],
   "source": [
    "not False"
   ]
  },
  {
   "cell_type": "code",
   "execution_count": 40,
   "id": "d4f752bc",
   "metadata": {},
   "outputs": [
    {
     "name": "stdout",
     "output_type": "stream",
     "text": [
      "6\n",
      "5\n",
      "4\n",
      "3\n",
      "2\n",
      "1\n"
     ]
    }
   ],
   "source": [
    "#明確次數(不建議)\n",
    "a = 6\n",
    "while a > 0:\n",
    "    print(a)\n",
    "    a -= 1"
   ]
  },
  {
   "cell_type": "code",
   "execution_count": 41,
   "id": "3a44d9a1",
   "metadata": {},
   "outputs": [
    {
     "name": "stdout",
     "output_type": "stream",
     "text": [
      "0\n",
      "1\n",
      "2\n",
      "3\n",
      "4\n",
      "5\n"
     ]
    }
   ],
   "source": [
    "#明確次數\n",
    "for i in range(6):\n",
    "    print(i)"
   ]
  },
  {
   "cell_type": "code",
   "execution_count": 42,
   "id": "1e765269",
   "metadata": {},
   "outputs": [
    {
     "name": "stdout",
     "output_type": "stream",
     "text": [
      "1\n",
      "2\n",
      "3\n",
      "4\n",
      "5\n",
      "6\n"
     ]
    }
   ],
   "source": [
    "#明確次數\n",
    "for i in range(1,7):\n",
    "    print(i)"
   ]
  },
  {
   "cell_type": "code",
   "execution_count": 44,
   "id": "3574cfd4",
   "metadata": {},
   "outputs": [
    {
     "name": "stdout",
     "output_type": "stream",
     "text": [
      "請輸入第1學生的成績:78\n",
      "請輸入第2學生的成績:87\n",
      "請輸入第3學生的成績:67\n",
      "請輸入第4學生的成績:98\n",
      "請輸入第5學生的成績:94\n",
      "請輸入第6學生的成績:85\n",
      "請輸入第7學生的成績:-1\n",
      "全班成績為:509,平均分數為:84.83333333333333\n"
     ]
    }
   ],
   "source": [
    "#小美是一位教師，請你以while迴圈方式為小美設計一個輸入成績的程式，如果輸入負數表示成績輸入結束，\n",
    "#在輸入成績結束後顯示班上總成績及平均成績。\n",
    "\n",
    "'''顯示===============\n",
    "請輸入第1學生的成績:89\n",
    "請輸入第2學生的成績:78\n",
    "請輸入第3學生的成績:68\n",
    "請輸入第4學生的成績:89\n",
    "請輸入第5學生的成績:-1\n",
    "全班總成績為: 324 平均分數為: 64.8\n",
    "#========================================='''\n",
    "\n",
    "sum = 0\n",
    "num = 0\n",
    "while True:\n",
    "    num+=1\n",
    "    score=int(input(f\"請輸入第{num}學生的成績:\"))\n",
    "    if score < 0:\n",
    "        break\n",
    "    sum += score\n",
    "print(f\"全班成績為:{sum},平均分數為:{sum/(num-1)}\")\n"
   ]
  },
  {
   "cell_type": "code",
   "execution_count": null,
   "id": "b18db59f",
   "metadata": {},
   "outputs": [],
   "source": []
  }
 ],
 "metadata": {
  "kernelspec": {
   "display_name": "Python 3",
   "language": "python",
   "name": "python3"
  },
  "language_info": {
   "codemirror_mode": {
    "name": "ipython",
    "version": 3
   },
   "file_extension": ".py",
   "mimetype": "text/x-python",
   "name": "python",
   "nbconvert_exporter": "python",
   "pygments_lexer": "ipython3",
   "version": "3.8.7"
  }
 },
 "nbformat": 4,
 "nbformat_minor": 5
}
