{
 "cells": [
  {
   "cell_type": "code",
   "execution_count": 1,
   "id": "45c9d482",
   "metadata": {},
   "outputs": [
    {
     "data": {
      "text/plain": [
       "54"
      ]
     },
     "execution_count": 1,
     "metadata": {},
     "output_type": "execute_result"
    }
   ],
   "source": [
    "import random\n",
    "random.randint(50,100)"
   ]
  },
  {
   "cell_type": "code",
   "execution_count": 2,
   "id": "d2ff3c94",
   "metadata": {},
   "outputs": [
    {
     "data": {
      "text/plain": [
       "90"
      ]
     },
     "execution_count": 2,
     "metadata": {},
     "output_type": "execute_result"
    }
   ],
   "source": [
    "from random import randint\n",
    "randint(50,100)"
   ]
  },
  {
   "cell_type": "code",
   "execution_count": 3,
   "id": "6d49a6e2",
   "metadata": {},
   "outputs": [
    {
     "data": {
      "text/plain": [
       "80"
      ]
     },
     "execution_count": 3,
     "metadata": {},
     "output_type": "execute_result"
    }
   ],
   "source": [
    "from random import randint as randiint\n",
    "randiint(50,100)"
   ]
  },
  {
   "cell_type": "code",
   "execution_count": 4,
   "id": "3fe1f7d2",
   "metadata": {},
   "outputs": [
    {
     "name": "stdout",
     "output_type": "stream",
     "text": [
      "我是report被讀一遍了\n"
     ]
    },
    {
     "data": {
      "text/plain": [
       "'晴天'"
      ]
     },
     "execution_count": 4,
     "metadata": {},
     "output_type": "execute_result"
    }
   ],
   "source": [
    "import report \n",
    "report.get_description()"
   ]
  },
  {
   "cell_type": "code",
   "execution_count": 5,
   "id": "bf9accfd",
   "metadata": {},
   "outputs": [
    {
     "data": {
      "text/plain": [
       "'下雨'"
      ]
     },
     "execution_count": 5,
     "metadata": {},
     "output_type": "execute_result"
    }
   ],
   "source": [
    "from report import get_description\n",
    "get_description()"
   ]
  },
  {
   "cell_type": "code",
   "execution_count": 6,
   "id": "7a2c10bf",
   "metadata": {},
   "outputs": [
    {
     "data": {
      "text/plain": [
       "'陰天'"
      ]
     },
     "execution_count": 6,
     "metadata": {},
     "output_type": "execute_result"
    }
   ],
   "source": [
    "from report import get_description as desc\n",
    "desc()"
   ]
  },
  {
   "cell_type": "code",
   "execution_count": 7,
   "id": "7abd76ef",
   "metadata": {},
   "outputs": [
    {
     "data": {
      "text/plain": [
       "'1.1'"
      ]
     },
     "execution_count": 7,
     "metadata": {},
     "output_type": "execute_result"
    }
   ],
   "source": [
    "from report import version\n",
    "version"
   ]
  },
  {
   "cell_type": "code",
   "execution_count": 10,
   "id": "47e3b44b",
   "metadata": {},
   "outputs": [],
   "source": [
    "from report import version"
   ]
  },
  {
   "cell_type": "code",
   "execution_count": null,
   "id": "4c96afa0",
   "metadata": {},
   "outputs": [],
   "source": []
  }
 ],
 "metadata": {
  "kernelspec": {
   "display_name": "Python 3",
   "language": "python",
   "name": "python3"
  },
  "language_info": {
   "codemirror_mode": {
    "name": "ipython",
    "version": 3
   },
   "file_extension": ".py",
   "mimetype": "text/x-python",
   "name": "python",
   "nbconvert_exporter": "python",
   "pygments_lexer": "ipython3",
   "version": "3.8.7"
  }
 },
 "nbformat": 4,
 "nbformat_minor": 5
}
