{
 "cells": [
  {
   "cell_type": "code",
   "execution_count": 1,
   "id": "82eaf4ea",
   "metadata": {},
   "outputs": [
    {
     "name": "stdout",
     "output_type": "stream",
     "text": [
      "[]\n"
     ]
    }
   ],
   "source": [
    "empty_list = []\n",
    "print(empty_list)"
   ]
  },
  {
   "cell_type": "code",
   "execution_count": 2,
   "id": "9e8d01e5",
   "metadata": {},
   "outputs": [
    {
     "name": "stdout",
     "output_type": "stream",
     "text": [
      "['星期一', '星期二', '星期三', '星期四', '星期五', '星期六', '星期日']\n"
     ]
    }
   ],
   "source": [
    "weekdays = ['星期一', '星期二', '星期三', '星期四', '星期五', '星期六', '星期日']\n",
    "print(weekdays)"
   ]
  },
  {
   "cell_type": "code",
   "execution_count": 3,
   "id": "1be64e7e",
   "metadata": {},
   "outputs": [
    {
     "name": "stdout",
     "output_type": "stream",
     "text": [
      "['Graham', 'John', 'Terry', 'Terry', 'Michael']\n"
     ]
    }
   ],
   "source": [
    "first_names = ['Graham', 'John', 'Terry', 'Terry', 'Michael']\n",
    "print(first_names)"
   ]
  },
  {
   "cell_type": "code",
   "execution_count": null,
   "id": "52deb988",
   "metadata": {},
   "outputs": [],
   "source": []
  }
 ],
 "metadata": {
  "kernelspec": {
   "display_name": "Python 3",
   "language": "python",
   "name": "python3"
  },
  "language_info": {
   "codemirror_mode": {
    "name": "ipython",
    "version": 3
   },
   "file_extension": ".py",
   "mimetype": "text/x-python",
   "name": "python",
   "nbconvert_exporter": "python",
   "pygments_lexer": "ipython3",
   "version": "3.8.7"
  }
 },
 "nbformat": 4,
 "nbformat_minor": 5
}
