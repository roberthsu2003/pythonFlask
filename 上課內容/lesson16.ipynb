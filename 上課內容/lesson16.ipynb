{
 "cells": [
  {
   "cell_type": "code",
   "execution_count": 1,
   "id": "72881cf7",
   "metadata": {},
   "outputs": [],
   "source": [
    "#create engine\n",
    "import os\n",
    "from sqlalchemy import create_engine\n",
    "enginePath = os.path.abspath('stock.sqlite')\n",
    "engine = create_engine(\"sqlite+pysqlite:///\"+enginePath, echo=True, future=True)\n"
   ]
  },
  {
   "cell_type": "code",
   "execution_count": 4,
   "id": "64bbcac9",
   "metadata": {},
   "outputs": [],
   "source": [
    "#declarative mapping\n",
    "from sqlalchemy.orm import declarative_base\n",
    "from sqlalchemy import Column, Integer, String, Float\n",
    "Base = declarative_base()\n",
    "class Stock(Base):\n",
    "    __tablename__ = \"stockInTaiwan\"\n",
    "    id = Column(Integer,primary_key=True)\n",
    "    證券代號 = Column(String(20))\n",
    "    證券名稱 = Column(String(20))\n",
    "    成交股數 = Column(Integer)\n",
    "    成交金額 = Column(Integer)\n",
    "    開盤價 = Column(Float)\n",
    "    最高價 = Column(Float)\n",
    "    最低價 = Column(Float)\n",
    "    收盤價 = Column(Float)\n",
    "    漲跌價差 = Column(Integer)\n",
    "    成交筆數 = Column(Integer)"
   ]
  },
  {
   "cell_type": "code",
   "execution_count": 5,
   "id": "ec81723a",
   "metadata": {},
   "outputs": [
    {
     "name": "stdout",
     "output_type": "stream",
     "text": [
      "2021-05-03 15:19:33,942 INFO sqlalchemy.engine.Engine BEGIN (implicit)\n",
      "2021-05-03 15:19:33,943 INFO sqlalchemy.engine.Engine PRAGMA main.table_info(\"stockInTaiwan\")\n",
      "2021-05-03 15:19:33,944 INFO sqlalchemy.engine.Engine [raw sql] ()\n",
      "2021-05-03 15:19:33,945 INFO sqlalchemy.engine.Engine PRAGMA temp.table_info(\"stockInTaiwan\")\n",
      "2021-05-03 15:19:33,946 INFO sqlalchemy.engine.Engine [raw sql] ()\n",
      "2021-05-03 15:19:33,947 INFO sqlalchemy.engine.Engine \n",
      "CREATE TABLE \"stockInTaiwan\" (\n",
      "\tid INTEGER NOT NULL, \n",
      "\t\"證券代號\" VARCHAR(20), \n",
      "\t\"證券名稱\" VARCHAR(20), \n",
      "\t\"成交股數\" INTEGER, \n",
      "\t\"成交金額\" INTEGER, \n",
      "\t\"開盤價\" FLOAT, \n",
      "\t\"最高價\" FLOAT, \n",
      "\t\"最低價\" FLOAT, \n",
      "\t\"收盤價\" FLOAT, \n",
      "\t\"漲跌價差\" INTEGER, \n",
      "\t\"成交筆數\" INTEGER, \n",
      "\tPRIMARY KEY (id)\n",
      ")\n",
      "\n",
      "\n",
      "2021-05-03 15:19:33,948 INFO sqlalchemy.engine.Engine [no key 0.00078s] ()\n",
      "2021-05-03 15:19:33,950 INFO sqlalchemy.engine.Engine COMMIT\n"
     ]
    }
   ],
   "source": [
    "Base.metadata.create_all(engine)"
   ]
  },
  {
   "cell_type": "code",
   "execution_count": null,
   "id": "5b576014",
   "metadata": {},
   "outputs": [],
   "source": []
  }
 ],
 "metadata": {
  "kernelspec": {
   "display_name": "Python 3",
   "language": "python",
   "name": "python3"
  },
  "language_info": {
   "codemirror_mode": {
    "name": "ipython",
    "version": 3
   },
   "file_extension": ".py",
   "mimetype": "text/x-python",
   "name": "python",
   "nbconvert_exporter": "python",
   "pygments_lexer": "ipython3",
   "version": "3.8.7"
  }
 },
 "nbformat": 4,
 "nbformat_minor": 5
}
