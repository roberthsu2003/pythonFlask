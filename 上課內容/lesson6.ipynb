{
 "cells": [
  {
   "cell_type": "code",
   "execution_count": 1,
   "id": "b058e964",
   "metadata": {},
   "outputs": [
    {
     "data": {
      "text/plain": [
       "4"
      ]
     },
     "execution_count": 1,
     "metadata": {},
     "output_type": "execute_result"
    }
   ],
   "source": [
    "#value type\n",
    "c = 4\n",
    "d = c\n",
    "c = 5\n",
    "d"
   ]
  },
  {
   "cell_type": "code",
   "execution_count": 3,
   "id": "3d4086de",
   "metadata": {},
   "outputs": [
    {
     "data": {
      "text/plain": [
       "10"
      ]
     },
     "execution_count": 3,
     "metadata": {},
     "output_type": "execute_result"
    }
   ],
   "source": [
    "#reference\n",
    "a = [1,2,3]\n",
    "b = a\n",
    "a[0] = 10\n",
    "b[0]"
   ]
  },
  {
   "cell_type": "code",
   "execution_count": 4,
   "id": "bdfbc7ef",
   "metadata": {},
   "outputs": [
    {
     "data": {
      "text/plain": [
       "1"
      ]
     },
     "execution_count": 4,
     "metadata": {},
     "output_type": "execute_result"
    }
   ],
   "source": [
    "e = [1,2,3]\n",
    "f = e.copy()\n",
    "e[0] = 10\n",
    "f[0]"
   ]
  },
  {
   "cell_type": "code",
   "execution_count": 5,
   "id": "7c85905d",
   "metadata": {},
   "outputs": [
    {
     "data": {
      "text/plain": [
       "()"
      ]
     },
     "execution_count": 5,
     "metadata": {},
     "output_type": "execute_result"
    }
   ],
   "source": [
    "#tuple\n",
    "empty_tuple = ()\n",
    "empty_tuple"
   ]
  },
  {
   "cell_type": "code",
   "execution_count": 7,
   "id": "cfbad881",
   "metadata": {},
   "outputs": [
    {
     "data": {
      "text/plain": [
       "('台北',)"
      ]
     },
     "execution_count": 7,
     "metadata": {},
     "output_type": "execute_result"
    }
   ],
   "source": [
    "one_city = (\"台北\",)\n",
    "one_city"
   ]
  },
  {
   "cell_type": "code",
   "execution_count": null,
   "id": "183b12dc",
   "metadata": {},
   "outputs": [],
   "source": [
    "citys = "
   ]
  }
 ],
 "metadata": {
  "kernelspec": {
   "display_name": "Python 3",
   "language": "python",
   "name": "python3"
  },
  "language_info": {
   "codemirror_mode": {
    "name": "ipython",
    "version": 3
   },
   "file_extension": ".py",
   "mimetype": "text/x-python",
   "name": "python",
   "nbconvert_exporter": "python",
   "pygments_lexer": "ipython3",
   "version": "3.8.7"
  }
 },
 "nbformat": 4,
 "nbformat_minor": 5
}
