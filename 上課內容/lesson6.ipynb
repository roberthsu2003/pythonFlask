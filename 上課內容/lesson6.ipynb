{
 "cells": [
  {
   "cell_type": "code",
   "execution_count": 1,
   "id": "df563f7a",
   "metadata": {},
   "outputs": [
    {
     "data": {
      "text/plain": [
       "4"
      ]
     },
     "execution_count": 1,
     "metadata": {},
     "output_type": "execute_result"
    }
   ],
   "source": [
    "#value type\n",
    "c = 4\n",
    "d = c\n",
    "c = 5\n",
    "d"
   ]
  },
  {
   "cell_type": "code",
   "execution_count": 3,
   "id": "fe34d7dc",
   "metadata": {},
   "outputs": [
    {
     "data": {
      "text/plain": [
       "10"
      ]
     },
     "execution_count": 3,
     "metadata": {},
     "output_type": "execute_result"
    }
   ],
   "source": [
    "#reference\n",
    "a = [1,2,3]\n",
    "b = a\n",
    "a[0] = 10\n",
    "b[0]"
   ]
  },
  {
   "cell_type": "code",
   "execution_count": 4,
   "id": "011c1704",
   "metadata": {},
   "outputs": [
    {
     "data": {
      "text/plain": [
       "1"
      ]
     },
     "execution_count": 4,
     "metadata": {},
     "output_type": "execute_result"
    }
   ],
   "source": [
    "e = [1,2,3]\n",
    "f = e.copy()\n",
    "e[0] = 10\n",
    "f[0]"
   ]
  },
  {
   "cell_type": "code",
   "execution_count": 5,
   "id": "ab8d16c3",
   "metadata": {},
   "outputs": [
    {
     "data": {
      "text/plain": [
       "()"
      ]
     },
     "execution_count": 5,
     "metadata": {},
     "output_type": "execute_result"
    }
   ],
   "source": [
    "#tuple\n",
    "empty_tuple = ()\n",
    "empty_tuple"
   ]
  },
  {
   "cell_type": "code",
   "execution_count": 7,
   "id": "15b7a361",
   "metadata": {},
   "outputs": [
    {
     "data": {
      "text/plain": [
       "('台北',)"
      ]
     },
     "execution_count": 7,
     "metadata": {},
     "output_type": "execute_result"
    }
   ],
   "source": [
    "one_city = (\"台北\",)\n",
    "one_city"
   ]
  },
  {
   "cell_type": "code",
   "execution_count": 10,
   "id": "446480aa",
   "metadata": {},
   "outputs": [
    {
     "data": {
      "text/plain": [
       "'高雄'"
      ]
     },
     "execution_count": 10,
     "metadata": {},
     "output_type": "execute_result"
    }
   ],
   "source": [
    "citys = '台北', '台中', '高雄', '台南', '花蓮' \n",
    "a,b,c,d,e = citys\n",
    "c"
   ]
  },
  {
   "cell_type": "code",
   "execution_count": 11,
   "id": "e8480287",
   "metadata": {},
   "outputs": [
    {
     "data": {
      "text/plain": [
       "{}"
      ]
     },
     "execution_count": 11,
     "metadata": {},
     "output_type": "execute_result"
    }
   ],
   "source": [
    "empty_dict = {}\n",
    "empty_dict"
   ]
  },
  {
   "cell_type": "code",
   "execution_count": 12,
   "id": "3e6d956e",
   "metadata": {},
   "outputs": [
    {
     "data": {
      "text/plain": [
       "{'tw': 'Taiwan', 'jp': 'Japan', 'hk': 'Hong Kong'}"
      ]
     },
     "execution_count": 12,
     "metadata": {},
     "output_type": "execute_result"
    }
   ],
   "source": [
    "codes = {\n",
    "    \"tw\":\"Taiwan\",\n",
    "    \"jp\":\"Japan\",\n",
    "    \"hk\":\"Hong Kong\"    \n",
    "}\n",
    "codes"
   ]
  },
  {
   "cell_type": "code",
   "execution_count": 14,
   "id": "c1c6527d",
   "metadata": {},
   "outputs": [
    {
     "data": {
      "text/plain": [
       "{'a': 'b', 'c': 'd', 'e': 'f'}"
      ]
     },
     "execution_count": 14,
     "metadata": {},
     "output_type": "execute_result"
    }
   ],
   "source": [
    "lol = [['a', 'b'],['c', 'd'], ['e', 'f']]\n",
    "dict(lol)"
   ]
  },
  {
   "cell_type": "code",
   "execution_count": 15,
   "id": "f6b6f7dc",
   "metadata": {},
   "outputs": [
    {
     "data": {
      "text/plain": [
       "{'a': 200, 'b': 300}"
      ]
     },
     "execution_count": 15,
     "metadata": {},
     "output_type": "execute_result"
    }
   ],
   "source": [
    "dict1={'a':200, 'b':400, 'b':300}\n",
    "dict1"
   ]
  },
  {
   "cell_type": "code",
   "execution_count": 18,
   "id": "b8548477",
   "metadata": {},
   "outputs": [
    {
     "data": {
      "text/plain": [
       "{1: 'one', 2: 'two', 3: 'three', 4: 'four', 5: 'five', 6: 'six'}"
      ]
     },
     "execution_count": 18,
     "metadata": {},
     "output_type": "execute_result"
    }
   ],
   "source": [
    "nums = {\n",
    "    1:'one',\n",
    "    2:'two',\n",
    "    3:'three',\n",
    "    4:'four',\n",
    "    5:'five',\n",
    "}\n",
    "nums[6] = 'six'\n",
    "nums"
   ]
  },
  {
   "cell_type": "code",
   "execution_count": 20,
   "id": "3fcca220",
   "metadata": {},
   "outputs": [
    {
     "ename": "KeyError",
     "evalue": "6",
     "output_type": "error",
     "traceback": [
      "\u001b[0;31m---------------------------------------------------------------------------\u001b[0m",
      "\u001b[0;31mKeyError\u001b[0m                                  Traceback (most recent call last)",
      "\u001b[0;32m<ipython-input-20-d7b78b6bd202>\u001b[0m in \u001b[0;36m<module>\u001b[0;34m\u001b[0m\n\u001b[0;32m----> 1\u001b[0;31m \u001b[0;32mdel\u001b[0m \u001b[0mnums\u001b[0m\u001b[0;34m[\u001b[0m\u001b[0;36m6\u001b[0m\u001b[0;34m]\u001b[0m\u001b[0;34m\u001b[0m\u001b[0;34m\u001b[0m\u001b[0m\n\u001b[0m\u001b[1;32m      2\u001b[0m \u001b[0mnums\u001b[0m\u001b[0;34m\u001b[0m\u001b[0;34m\u001b[0m\u001b[0m\n",
      "\u001b[0;31mKeyError\u001b[0m: 6"
     ]
    }
   ],
   "source": [
    "del nums[6]"
   ]
  },
  {
   "cell_type": "code",
   "execution_count": 21,
   "id": "ef02cdb0",
   "metadata": {},
   "outputs": [
    {
     "data": {
      "text/plain": [
       "{1: 'one', 2: 'two', 3: 'three', 4: 'four', 5: 'five'}"
      ]
     },
     "execution_count": 21,
     "metadata": {},
     "output_type": "execute_result"
    }
   ],
   "source": [
    "nums"
   ]
  },
  {
   "cell_type": "code",
   "execution_count": 22,
   "id": "72ca1778",
   "metadata": {},
   "outputs": [],
   "source": [
    "del nums"
   ]
  },
  {
   "cell_type": "code",
   "execution_count": 23,
   "id": "424c3204",
   "metadata": {},
   "outputs": [
    {
     "ename": "NameError",
     "evalue": "name 'nums' is not defined",
     "output_type": "error",
     "traceback": [
      "\u001b[0;31m---------------------------------------------------------------------------\u001b[0m",
      "\u001b[0;31mNameError\u001b[0m                                 Traceback (most recent call last)",
      "\u001b[0;32m<ipython-input-23-423005aba16c>\u001b[0m in \u001b[0;36m<module>\u001b[0;34m\u001b[0m\n\u001b[0;32m----> 1\u001b[0;31m \u001b[0mnums\u001b[0m\u001b[0;34m\u001b[0m\u001b[0;34m\u001b[0m\u001b[0m\n\u001b[0m",
      "\u001b[0;31mNameError\u001b[0m: name 'nums' is not defined"
     ]
    }
   ],
   "source": [
    "nums"
   ]
  },
  {
   "cell_type": "code",
   "execution_count": 25,
   "id": "1d4ad206",
   "metadata": {},
   "outputs": [
    {
     "name": "stdout",
     "output_type": "stream",
     "text": [
      "one\n",
      "two\n",
      "three\n",
      "four\n",
      "five\n"
     ]
    }
   ],
   "source": [
    "nums = {\n",
    "    1:'one',\n",
    "    2:'two',\n",
    "    3:'three',\n",
    "    4:'four',\n",
    "    5:'five',\n",
    "}\n",
    "\n",
    "for key in nums:\n",
    "    print(nums[key])"
   ]
  },
  {
   "cell_type": "code",
   "execution_count": 26,
   "id": "863390a8",
   "metadata": {},
   "outputs": [
    {
     "name": "stdout",
     "output_type": "stream",
     "text": [
      "1\n",
      "2\n",
      "3\n",
      "4\n",
      "5\n"
     ]
    }
   ],
   "source": [
    "for key in nums.keys():\n",
    "    print(key)"
   ]
  },
  {
   "cell_type": "code",
   "execution_count": 27,
   "id": "562e4c97",
   "metadata": {},
   "outputs": [
    {
     "name": "stdout",
     "output_type": "stream",
     "text": [
      "one\n",
      "two\n",
      "three\n",
      "four\n",
      "five\n"
     ]
    }
   ],
   "source": [
    "for value in nums.values():\n",
    "    print(value)"
   ]
  },
  {
   "cell_type": "code",
   "execution_count": 29,
   "id": "f33f680b",
   "metadata": {},
   "outputs": [
    {
     "name": "stdout",
     "output_type": "stream",
     "text": [
      "1 one\n",
      "2 two\n",
      "3 three\n",
      "4 four\n",
      "5 five\n"
     ]
    }
   ],
   "source": [
    "for key,value in nums.items():\n",
    "    print(key, value)"
   ]
  },
  {
   "cell_type": "code",
   "execution_count": 32,
   "id": "7aad66fb",
   "metadata": {},
   "outputs": [
    {
     "data": {
      "text/plain": [
       "True"
      ]
     },
     "execution_count": 32,
     "metadata": {},
     "output_type": "execute_result"
    }
   ],
   "source": [
    "pythons = {'Chapman': 'Graham', 'Cleese': 'John',\n",
    "       'Jones': 'Terry', 'Palin': 'Michael'}\n",
    "'Chapman' in pythons"
   ]
  },
  {
   "cell_type": "code",
   "execution_count": 33,
   "id": "fe8739ce",
   "metadata": {},
   "outputs": [
    {
     "data": {
      "text/plain": [
       "True"
      ]
     },
     "execution_count": 33,
     "metadata": {},
     "output_type": "execute_result"
    }
   ],
   "source": [
    "'Cleese' in pythons"
   ]
  },
  {
   "cell_type": "code",
   "execution_count": 34,
   "id": "53aeeac0",
   "metadata": {},
   "outputs": [
    {
     "data": {
      "text/plain": [
       "set()"
      ]
     },
     "execution_count": 34,
     "metadata": {},
     "output_type": "execute_result"
    }
   ],
   "source": [
    "empty_set = set()\n",
    "empty_set"
   ]
  },
  {
   "cell_type": "code",
   "execution_count": 35,
   "id": "991795bc",
   "metadata": {},
   "outputs": [
    {
     "data": {
      "text/plain": [
       "{0, 2, 4, 6, 8}"
      ]
     },
     "execution_count": 35,
     "metadata": {},
     "output_type": "execute_result"
    }
   ],
   "source": [
    "even_numbers = {0, 2, 4, 6, 8, 0, 2, 4, 6, 8}\n",
    "even_numbers"
   ]
  },
  {
   "cell_type": "code",
   "execution_count": 50,
   "id": "1b6f1712",
   "metadata": {},
   "outputs": [
    {
     "data": {
      "text/plain": [
       "['t', 's', 'r', 'l', 'e']"
      ]
     },
     "execution_count": 50,
     "metadata": {},
     "output_type": "execute_result"
    }
   ],
   "source": [
    "mylist=list(set('letters'))\n",
    "mylist.sort(reverse=True)\n",
    "mylist"
   ]
  },
  {
   "cell_type": "code",
   "execution_count": 39,
   "id": "3a36809d",
   "metadata": {},
   "outputs": [
    {
     "data": {
      "text/plain": [
       "[{'國文': 52, '英文': 88, '數學': 52, '社會': 90, '自然': 68},\n",
       " {'國文': 55, '英文': 85, '數學': 77, '社會': 96, '自然': 61},\n",
       " {'國文': 84, '英文': 73, '數學': 55, '社會': 99, '自然': 64},\n",
       " {'國文': 90, '英文': 89, '數學': 82, '社會': 57, '自然': 90},\n",
       " {'國文': 87, '英文': 76, '數學': 100, '社會': 59, '自然': 74},\n",
       " {'國文': 84, '英文': 82, '數學': 95, '社會': 90, '自然': 74},\n",
       " {'國文': 68, '英文': 55, '數學': 92, '社會': 67, '自然': 55},\n",
       " {'國文': 80, '英文': 56, '數學': 83, '社會': 72, '自然': 100},\n",
       " {'國文': 82, '英文': 67, '數學': 70, '社會': 68, '自然': 75},\n",
       " {'國文': 76, '英文': 99, '數學': 64, '社會': 58, '自然': 94},\n",
       " {'國文': 77, '英文': 61, '數學': 87, '社會': 65, '自然': 87},\n",
       " {'國文': 88, '英文': 69, '數學': 62, '社會': 64, '自然': 78},\n",
       " {'國文': 79, '英文': 90, '數學': 60, '社會': 60, '自然': 72},\n",
       " {'國文': 96, '英文': 100, '數學': 52, '社會': 82, '自然': 74},\n",
       " {'國文': 83, '英文': 100, '數學': 62, '社會': 92, '自然': 73},\n",
       " {'國文': 61, '英文': 91, '數學': 81, '社會': 55, '自然': 65},\n",
       " {'國文': 50, '英文': 90, '數學': 64, '社會': 90, '自然': 50},\n",
       " {'國文': 93, '英文': 65, '數學': 58, '社會': 75, '自然': 99},\n",
       " {'國文': 88, '英文': 83, '數學': 98, '社會': 69, '自然': 54},\n",
       " {'國文': 71, '英文': 84, '數學': 89, '社會': 61, '自然': 81},\n",
       " {'國文': 96, '英文': 51, '數學': 64, '社會': 69, '自然': 70},\n",
       " {'國文': 85, '英文': 71, '數學': 91, '社會': 53, '自然': 62},\n",
       " {'國文': 76, '英文': 71, '數學': 55, '社會': 84, '自然': 62},\n",
       " {'國文': 93, '英文': 63, '數學': 95, '社會': 61, '自然': 56},\n",
       " {'國文': 89, '英文': 87, '數學': 88, '社會': 88, '自然': 93},\n",
       " {'國文': 55, '英文': 60, '數學': 95, '社會': 82, '自然': 100},\n",
       " {'國文': 60, '英文': 76, '數學': 76, '社會': 67, '自然': 52},\n",
       " {'國文': 61, '英文': 92, '數學': 80, '社會': 66, '自然': 94},\n",
       " {'國文': 68, '英文': 71, '數學': 63, '社會': 67, '自然': 58},\n",
       " {'國文': 99, '英文': 76, '數學': 81, '社會': 61, '自然': 62},\n",
       " {'國文': 62, '英文': 56, '數學': 94, '社會': 93, '自然': 90},\n",
       " {'國文': 92, '英文': 69, '數學': 71, '社會': 80, '自然': 98},\n",
       " {'國文': 57, '英文': 73, '數學': 75, '社會': 64, '自然': 65},\n",
       " {'國文': 71, '英文': 86, '數學': 93, '社會': 77, '自然': 80},\n",
       " {'國文': 86, '英文': 63, '數學': 95, '社會': 69, '自然': 92},\n",
       " {'國文': 70, '英文': 91, '數學': 68, '社會': 94, '自然': 74},\n",
       " {'國文': 86, '英文': 58, '數學': 55, '社會': 54, '自然': 63},\n",
       " {'國文': 92, '英文': 75, '數學': 76, '社會': 83, '自然': 69},\n",
       " {'國文': 83, '英文': 57, '數學': 98, '社會': 60, '自然': 58},\n",
       " {'國文': 90, '英文': 52, '數學': 50, '社會': 87, '自然': 63},\n",
       " {'國文': 71, '英文': 87, '數學': 99, '社會': 65, '自然': 90},\n",
       " {'國文': 63, '英文': 79, '數學': 88, '社會': 86, '自然': 86},\n",
       " {'國文': 80, '英文': 89, '數學': 77, '社會': 71, '自然': 58},\n",
       " {'國文': 75, '英文': 83, '數學': 63, '社會': 85, '自然': 63},\n",
       " {'國文': 85, '英文': 70, '數學': 90, '社會': 74, '自然': 54},\n",
       " {'國文': 63, '英文': 83, '數學': 88, '社會': 99, '自然': 95},\n",
       " {'國文': 56, '英文': 66, '數學': 53, '社會': 52, '自然': 72},\n",
       " {'國文': 79, '英文': 78, '數學': 57, '社會': 51, '自然': 93},\n",
       " {'國文': 97, '英文': 98, '數學': 58, '社會': 62, '自然': 62},\n",
       " {'國文': 97, '英文': 56, '數學': 97, '社會': 89, '自然': 89}]"
      ]
     },
     "execution_count": 39,
     "metadata": {},
     "output_type": "execute_result"
    }
   ],
   "source": [
    "#建立50位學生,每位學生有科分數\n",
    "import random\n",
    "subjects = ('國文', '英文', '數學', '社會', '自然')\n",
    "students = []\n",
    "for _ in range(50):\n",
    "    scores = {}\n",
    "    for subject in subjects:\n",
    "        scores[subject] = random.randint(50, 100)\n",
    "    students.append(scores)\n",
    "students"
   ]
  },
  {
   "cell_type": "code",
   "execution_count": 41,
   "id": "0fe61e14",
   "metadata": {},
   "outputs": [
    {
     "data": {
      "text/plain": [
       "[{'國文': 89, '英文': 56, '數學': 96, '社會': 68, '自然': 98},\n",
       " {'國文': 50, '英文': 80, '數學': 87, '社會': 81, '自然': 60},\n",
       " {'國文': 82, '英文': 92, '數學': 65, '社會': 58, '自然': 62},\n",
       " {'國文': 96, '英文': 61, '數學': 63, '社會': 92, '自然': 80},\n",
       " {'國文': 73, '英文': 62, '數學': 84, '社會': 60, '自然': 92},\n",
       " {'國文': 55, '英文': 50, '數學': 97, '社會': 98, '自然': 94},\n",
       " {'國文': 98, '英文': 89, '數學': 89, '社會': 68, '自然': 70},\n",
       " {'國文': 87, '英文': 96, '數學': 63, '社會': 68, '自然': 95},\n",
       " {'國文': 73, '英文': 64, '數學': 79, '社會': 100, '自然': 50},\n",
       " {'國文': 56, '英文': 82, '數學': 63, '社會': 63, '自然': 64},\n",
       " {'國文': 86, '英文': 78, '數學': 62, '社會': 89, '自然': 98},\n",
       " {'國文': 69, '英文': 89, '數學': 71, '社會': 68, '自然': 95},\n",
       " {'國文': 80, '英文': 64, '數學': 80, '社會': 85, '自然': 95},\n",
       " {'國文': 84, '英文': 79, '數學': 91, '社會': 94, '自然': 92},\n",
       " {'國文': 90, '英文': 79, '數學': 52, '社會': 78, '自然': 90},\n",
       " {'國文': 50, '英文': 73, '數學': 76, '社會': 80, '自然': 57},\n",
       " {'國文': 82, '英文': 88, '數學': 51, '社會': 65, '自然': 90},\n",
       " {'國文': 95, '英文': 90, '數學': 63, '社會': 73, '自然': 80},\n",
       " {'國文': 57, '英文': 66, '數學': 63, '社會': 60, '自然': 99},\n",
       " {'國文': 63, '英文': 85, '數學': 77, '社會': 69, '自然': 61},\n",
       " {'國文': 68, '英文': 55, '數學': 53, '社會': 80, '自然': 74},\n",
       " {'國文': 65, '英文': 90, '數學': 81, '社會': 93, '自然': 67},\n",
       " {'國文': 92, '英文': 79, '數學': 85, '社會': 87, '自然': 58},\n",
       " {'國文': 65, '英文': 73, '數學': 80, '社會': 54, '自然': 88},\n",
       " {'國文': 69, '英文': 60, '數學': 59, '社會': 51, '自然': 61},\n",
       " {'國文': 77, '英文': 76, '數學': 73, '社會': 68, '自然': 78},\n",
       " {'國文': 80, '英文': 97, '數學': 75, '社會': 79, '自然': 51},\n",
       " {'國文': 85, '英文': 75, '數學': 99, '社會': 50, '自然': 56},\n",
       " {'國文': 74, '英文': 87, '數學': 65, '社會': 56, '自然': 52},\n",
       " {'國文': 98, '英文': 58, '數學': 86, '社會': 92, '自然': 61},\n",
       " {'國文': 56, '英文': 53, '數學': 68, '社會': 75, '自然': 77},\n",
       " {'國文': 71, '英文': 78, '數學': 80, '社會': 53, '自然': 55},\n",
       " {'國文': 67, '英文': 96, '數學': 62, '社會': 83, '自然': 56},\n",
       " {'國文': 70, '英文': 88, '數學': 56, '社會': 70, '自然': 95},\n",
       " {'國文': 96, '英文': 75, '數學': 68, '社會': 96, '自然': 72},\n",
       " {'國文': 58, '英文': 58, '數學': 68, '社會': 95, '自然': 52},\n",
       " {'國文': 50, '英文': 82, '數學': 72, '社會': 95, '自然': 79},\n",
       " {'國文': 60, '英文': 62, '數學': 59, '社會': 85, '自然': 97},\n",
       " {'國文': 60, '英文': 58, '數學': 82, '社會': 76, '自然': 89},\n",
       " {'國文': 59, '英文': 81, '數學': 71, '社會': 86, '自然': 60},\n",
       " {'國文': 93, '英文': 70, '數學': 53, '社會': 63, '自然': 62},\n",
       " {'國文': 57, '英文': 81, '數學': 97, '社會': 53, '自然': 70},\n",
       " {'國文': 82, '英文': 76, '數學': 83, '社會': 80, '自然': 66},\n",
       " {'國文': 76, '英文': 98, '數學': 98, '社會': 92, '自然': 71},\n",
       " {'國文': 74, '英文': 74, '數學': 84, '社會': 58, '自然': 74},\n",
       " {'國文': 83, '英文': 96, '數學': 82, '社會': 98, '自然': 72},\n",
       " {'國文': 62, '英文': 69, '數學': 91, '社會': 97, '自然': 97},\n",
       " {'國文': 95, '英文': 82, '數學': 78, '社會': 88, '自然': 83},\n",
       " {'國文': 90, '英文': 56, '數學': 51, '社會': 92, '自然': 95},\n",
       " {'國文': 95, '英文': 71, '數學': 63, '社會': 85, '自然': 83}]"
      ]
     },
     "execution_count": 41,
     "metadata": {},
     "output_type": "execute_result"
    }
   ],
   "source": [
    "#建立50位學生,每位學生有科分數\n",
    "import random\n",
    "subjects = ('國文', '英文', '數學', '社會', '自然')\n",
    "allData=[{subject:random.randint(50,100) for subject in subjects} for _ in range(50)]\n",
    "allData"
   ]
  },
  {
   "cell_type": "code",
   "execution_count": 47,
   "id": "c1ebd9fe",
   "metadata": {},
   "outputs": [
    {
     "name": "stdout",
     "output_type": "stream",
     "text": [
      "[33, 36, 5, 42, 48, 17, 20]\n",
      "24\n"
     ]
    }
   ],
   "source": [
    "lot = set()\n",
    "while len(lot) <= 7:\n",
    "    lot.add(random.randint(1,49))\n",
    "lotList = list(lot)\n",
    "specialNum=lotList.pop()\n",
    "print(lotList)\n",
    "print(specialNum)"
   ]
  },
  {
   "cell_type": "code",
   "execution_count": null,
   "id": "724221a4",
   "metadata": {},
   "outputs": [],
   "source": []
  }
 ],
 "metadata": {
  "kernelspec": {
   "display_name": "Python 3",
   "language": "python",
   "name": "python3"
  },
  "language_info": {
   "codemirror_mode": {
    "name": "ipython",
    "version": 3
   },
   "file_extension": ".py",
   "mimetype": "text/x-python",
   "name": "python",
   "nbconvert_exporter": "python",
   "pygments_lexer": "ipython3",
   "version": "3.8.7"
  }
 },
 "nbformat": 4,
 "nbformat_minor": 5
}
