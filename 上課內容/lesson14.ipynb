{
 "cells": [
  {
   "cell_type": "code",
   "execution_count": 3,
   "id": "a0d35196",
   "metadata": {},
   "outputs": [
    {
     "data": {
      "text/plain": [
       "True"
      ]
     },
     "execution_count": 3,
     "metadata": {},
     "output_type": "execute_result"
    }
   ],
   "source": [
    "import os\n",
    "os.path.exists('lesson1.ipynb')"
   ]
  },
  {
   "cell_type": "code",
   "execution_count": 4,
   "id": "ef8036b8",
   "metadata": {},
   "outputs": [
    {
     "data": {
      "text/plain": [
       "True"
      ]
     },
     "execution_count": 4,
     "metadata": {},
     "output_type": "execute_result"
    }
   ],
   "source": [
    "os.path.exists('./lesson1.ipynb')"
   ]
  },
  {
   "cell_type": "code",
   "execution_count": 6,
   "id": "fef354b3",
   "metadata": {},
   "outputs": [
    {
     "data": {
      "text/plain": [
       "True"
      ]
     },
     "execution_count": 6,
     "metadata": {},
     "output_type": "execute_result"
    }
   ],
   "source": [
    "os.path.exists('web1/main.py')"
   ]
  },
  {
   "cell_type": "code",
   "execution_count": 7,
   "id": "6dba6bc1",
   "metadata": {},
   "outputs": [
    {
     "data": {
      "text/plain": [
       "True"
      ]
     },
     "execution_count": 7,
     "metadata": {},
     "output_type": "execute_result"
    }
   ],
   "source": [
    "os.path.exists('.')"
   ]
  },
  {
   "cell_type": "code",
   "execution_count": 8,
   "id": "0a25fa58",
   "metadata": {},
   "outputs": [
    {
     "data": {
      "text/plain": [
       "True"
      ]
     },
     "execution_count": 8,
     "metadata": {},
     "output_type": "execute_result"
    }
   ],
   "source": [
    "os.path.exists('..')"
   ]
  },
  {
   "cell_type": "code",
   "execution_count": 9,
   "id": "1589a7ba",
   "metadata": {},
   "outputs": [
    {
     "data": {
      "text/plain": [
       "True"
      ]
     },
     "execution_count": 9,
     "metadata": {},
     "output_type": "execute_result"
    }
   ],
   "source": [
    "#isfile()檢查是否為檔案\n",
    "\n",
    "os.path.isfile('lesson1.ipynb')"
   ]
  },
  {
   "cell_type": "code",
   "execution_count": 10,
   "id": "49884025",
   "metadata": {},
   "outputs": [
    {
     "data": {
      "text/plain": [
       "False"
      ]
     },
     "execution_count": 10,
     "metadata": {},
     "output_type": "execute_result"
    }
   ],
   "source": [
    "os.path.isdir('lesson1.ipynb')"
   ]
  },
  {
   "cell_type": "code",
   "execution_count": 11,
   "id": "22b8cb9d",
   "metadata": {},
   "outputs": [
    {
     "data": {
      "text/plain": [
       "True"
      ]
     },
     "execution_count": 11,
     "metadata": {},
     "output_type": "execute_result"
    }
   ],
   "source": [
    "os.path.isdir('web1')"
   ]
  },
  {
   "cell_type": "code",
   "execution_count": 12,
   "id": "eddb7f6f",
   "metadata": {},
   "outputs": [
    {
     "data": {
      "text/plain": [
       "'__main__'"
      ]
     },
     "execution_count": 12,
     "metadata": {},
     "output_type": "execute_result"
    }
   ],
   "source": [
    "__name__"
   ]
  },
  {
   "cell_type": "code",
   "execution_count": 15,
   "id": "d381c15a",
   "metadata": {},
   "outputs": [
    {
     "data": {
      "text/plain": [
       "['In',\n",
       " 'Out',\n",
       " '_',\n",
       " '_10',\n",
       " '_11',\n",
       " '_12',\n",
       " '_2',\n",
       " '_3',\n",
       " '_4',\n",
       " '_5',\n",
       " '_6',\n",
       " '_7',\n",
       " '_8',\n",
       " '_9',\n",
       " '__',\n",
       " '___',\n",
       " '__builtin__',\n",
       " '__builtins__',\n",
       " '__doc__',\n",
       " '__loader__',\n",
       " '__name__',\n",
       " '__package__',\n",
       " '__spec__',\n",
       " '_dh',\n",
       " '_i',\n",
       " '_i1',\n",
       " '_i10',\n",
       " '_i11',\n",
       " '_i12',\n",
       " '_i13',\n",
       " '_i14',\n",
       " '_i15',\n",
       " '_i2',\n",
       " '_i3',\n",
       " '_i4',\n",
       " '_i5',\n",
       " '_i6',\n",
       " '_i7',\n",
       " '_i8',\n",
       " '_i9',\n",
       " '_ih',\n",
       " '_ii',\n",
       " '_iii',\n",
       " '_oh',\n",
       " 'exit',\n",
       " 'get_ipython',\n",
       " 'os',\n",
       " 'quit']"
      ]
     },
     "execution_count": 15,
     "metadata": {},
     "output_type": "execute_result"
    }
   ],
   "source": [
    "dir()"
   ]
  },
  {
   "cell_type": "code",
   "execution_count": 16,
   "id": "2fb36dc9",
   "metadata": {},
   "outputs": [
    {
     "data": {
      "text/plain": [
       "'/Users/roberthsu2003/Documents/GitHub/pythonFlask/上課內容/oops.txt'"
      ]
     },
     "execution_count": 16,
     "metadata": {},
     "output_type": "execute_result"
    }
   ],
   "source": [
    "os.path.abspath('oops.txt')"
   ]
  },
  {
   "cell_type": "code",
   "execution_count": 17,
   "id": "21978136",
   "metadata": {},
   "outputs": [],
   "source": [
    "os.mkdir('poems')"
   ]
  },
  {
   "cell_type": "code",
   "execution_count": 19,
   "id": "30262cf1",
   "metadata": {},
   "outputs": [],
   "source": [
    "oopsPath=os.path.abspath('poems/oops.txt')"
   ]
  },
  {
   "cell_type": "code",
   "execution_count": 21,
   "id": "f3f957bc",
   "metadata": {},
   "outputs": [],
   "source": [
    "fout = open(oopsPath,'wt')\n",
    "print(\"喔建立了一個檔案\",file=fout)\n",
    "fout.close()"
   ]
  },
  {
   "cell_type": "code",
   "execution_count": 22,
   "id": "76618436",
   "metadata": {},
   "outputs": [
    {
     "data": {
      "text/plain": [
       "['_functions.scss',\n",
       " '_containers.scss',\n",
       " '_toasts.scss',\n",
       " '_navbar.scss',\n",
       " '_variables.scss',\n",
       " '_progress.scss',\n",
       " '_offcanvas.scss',\n",
       " '_popover.scss',\n",
       " 'forms',\n",
       " '_breadcrumb.scss',\n",
       " '_carousel.scss',\n",
       " 'bootstrap.scss',\n",
       " '_badge.scss',\n",
       " 'mixins',\n",
       " '_helpers.scss',\n",
       " '_accordion.scss',\n",
       " '_button-group.scss',\n",
       " '_reboot.scss',\n",
       " '_utilities.scss',\n",
       " '_forms.scss',\n",
       " '_buttons.scss',\n",
       " '_tables.scss',\n",
       " 'utilities',\n",
       " '_images.scss',\n",
       " '_close.scss',\n",
       " '_list-group.scss',\n",
       " 'bootstrap-grid.scss',\n",
       " '_pagination.scss',\n",
       " '_card.scss',\n",
       " '_grid.scss',\n",
       " '_mixins.scss',\n",
       " '_nav.scss',\n",
       " '_alert.scss',\n",
       " '_transitions.scss',\n",
       " '_tooltip.scss',\n",
       " '_root.scss',\n",
       " 'bootstrap-utilities.scss',\n",
       " '_modal.scss',\n",
       " '_spinners.scss',\n",
       " 'helpers',\n",
       " '_type.scss',\n",
       " '_dropdown.scss',\n",
       " 'vendor',\n",
       " 'bootstrap-reboot.scss']"
      ]
     },
     "execution_count": 22,
     "metadata": {},
     "output_type": "execute_result"
    }
   ],
   "source": [
    "os.listdir('./scss')"
   ]
  },
  {
   "cell_type": "code",
   "execution_count": null,
   "id": "7ef683dd",
   "metadata": {},
   "outputs": [],
   "source": []
  }
 ],
 "metadata": {
  "kernelspec": {
   "display_name": "Python 3",
   "language": "python",
   "name": "python3"
  },
  "language_info": {
   "codemirror_mode": {
    "name": "ipython",
    "version": 3
   },
   "file_extension": ".py",
   "mimetype": "text/x-python",
   "name": "python",
   "nbconvert_exporter": "python",
   "pygments_lexer": "ipython3",
   "version": "3.8.7"
  }
 },
 "nbformat": 4,
 "nbformat_minor": 5
}
