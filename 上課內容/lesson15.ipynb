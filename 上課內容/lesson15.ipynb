{
 "cells": [
  {
   "cell_type": "code",
   "execution_count": 1,
   "id": "c57806e5",
   "metadata": {},
   "outputs": [
    {
     "data": {
      "text/plain": [
       "Engine(sqlite+pysqlite:////Users/roberthsu2003/Documents/GitHub/pythonFlask/上課內容/data.sqlite)"
      ]
     },
     "execution_count": 1,
     "metadata": {},
     "output_type": "execute_result"
    }
   ],
   "source": [
    "#建立Engine\n",
    "import os\n",
    "from sqlalchemy import create_engine\n",
    "enginepath=os.path.abspath('data.sqlite')\n",
    "engine = create_engine(\"sqlite+pysqlite:///\"+enginepath, echo=True, future=True)\n",
    "engine"
   ]
  },
  {
   "cell_type": "code",
   "execution_count": 2,
   "id": "d3f0f6b3",
   "metadata": {},
   "outputs": [],
   "source": [
    "#declarative mapping\n",
    "\n",
    "from sqlalchemy import Column,String,Integer\n",
    "from sqlalchemy.orm import declarative_base\n",
    "Base = declarative_base()\n",
    "\n",
    "class Students(Base):\n",
    "    __tablename__ = 'students'\n",
    "    id = Column(Integer, primary_key=True)\n",
    "    name = Column(String)\n",
    "    fullname = Column(String)\n",
    "    nickname = Column(String)\n",
    "    \n",
    "    def __repr__(self):\n",
    "        return f\"<Students name={self.name}, fullname={self.fullname}, nickname={self.nickname} >\""
   ]
  },
  {
   "cell_type": "code",
   "execution_count": 3,
   "id": "19a67a1d",
   "metadata": {},
   "outputs": [
    {
     "name": "stdout",
     "output_type": "stream",
     "text": [
      "2021-05-03 14:19:09,649 INFO sqlalchemy.engine.Engine BEGIN (implicit)\n",
      "2021-05-03 14:19:09,650 INFO sqlalchemy.engine.Engine PRAGMA main.table_info(\"students\")\n",
      "2021-05-03 14:19:09,651 INFO sqlalchemy.engine.Engine [raw sql] ()\n",
      "2021-05-03 14:19:09,652 INFO sqlalchemy.engine.Engine PRAGMA temp.table_info(\"students\")\n",
      "2021-05-03 14:19:09,652 INFO sqlalchemy.engine.Engine [raw sql] ()\n",
      "2021-05-03 14:19:09,654 INFO sqlalchemy.engine.Engine \n",
      "CREATE TABLE students (\n",
      "\tid INTEGER NOT NULL, \n",
      "\tname VARCHAR, \n",
      "\tfullname VARCHAR, \n",
      "\tnickname VARCHAR, \n",
      "\tPRIMARY KEY (id)\n",
      ")\n",
      "\n",
      "\n",
      "2021-05-03 14:19:09,654 INFO sqlalchemy.engine.Engine [no key 0.00059s] ()\n",
      "2021-05-03 14:19:09,656 INFO sqlalchemy.engine.Engine COMMIT\n"
     ]
    }
   ],
   "source": [
    "#建立資料庫\n",
    "Base.metadata.create_all(engine)"
   ]
  },
  {
   "cell_type": "code",
   "execution_count": 4,
   "id": "0ddc7cab",
   "metadata": {},
   "outputs": [
    {
     "data": {
      "text/plain": [
       "<Students name=徐國堂, fullname=男生, nickname=超人 >"
      ]
     },
     "execution_count": 4,
     "metadata": {},
     "output_type": "execute_result"
    }
   ],
   "source": [
    "#建立一筆資料\n",
    "stu1 = Students(name=\"徐國堂\",fullname=\"男生\",nickname=\"超人\")\n",
    "stu1"
   ]
  },
  {
   "cell_type": "code",
   "execution_count": 5,
   "id": "ba8ec1f8",
   "metadata": {},
   "outputs": [
    {
     "data": {
      "text/plain": [
       "<Students name=張撫遠, fullname=女生, nickname=女超人 >"
      ]
     },
     "execution_count": 5,
     "metadata": {},
     "output_type": "execute_result"
    }
   ],
   "source": [
    "stu2 = Students(name=\"張撫遠\",fullname=\"女生\",nickname=\"女超人\")\n",
    "stu2"
   ]
  },
  {
   "cell_type": "code",
   "execution_count": 6,
   "id": "be22d8d6",
   "metadata": {},
   "outputs": [
    {
     "data": {
      "text/plain": [
       "IdentitySet([<Students name=徐國堂, fullname=男生, nickname=超人 >, <Students name=張撫遠, fullname=女生, nickname=女超人 >])"
      ]
     },
     "execution_count": 6,
     "metadata": {},
     "output_type": "execute_result"
    }
   ],
   "source": [
    "#將資料加入至Session\n",
    "from sqlalchemy.orm import Session\n",
    "session = Session(engine)\n",
    "session.add(stu1)\n",
    "session.add(stu2)\n",
    "session.new"
   ]
  },
  {
   "cell_type": "code",
   "execution_count": 7,
   "id": "a65d6e79",
   "metadata": {},
   "outputs": [
    {
     "name": "stdout",
     "output_type": "stream",
     "text": [
      "2021-05-03 14:19:09,683 INFO sqlalchemy.engine.Engine BEGIN (implicit)\n",
      "2021-05-03 14:19:09,685 INFO sqlalchemy.engine.Engine INSERT INTO students (name, fullname, nickname) VALUES (?, ?, ?)\n",
      "2021-05-03 14:19:09,685 INFO sqlalchemy.engine.Engine [generated in 0.00087s] ('徐國堂', '男生', '超人')\n",
      "2021-05-03 14:19:09,687 INFO sqlalchemy.engine.Engine INSERT INTO students (name, fullname, nickname) VALUES (?, ?, ?)\n",
      "2021-05-03 14:19:09,687 INFO sqlalchemy.engine.Engine [cached since 0.003042s ago] ('張撫遠', '女生', '女超人')\n",
      "2021-05-03 14:19:09,689 INFO sqlalchemy.engine.Engine COMMIT\n"
     ]
    }
   ],
   "source": [
    "session.commit()"
   ]
  },
  {
   "cell_type": "code",
   "execution_count": null,
   "id": "92c49370",
   "metadata": {},
   "outputs": [],
   "source": []
  }
 ],
 "metadata": {
  "kernelspec": {
   "display_name": "Python 3",
   "language": "python",
   "name": "python3"
  },
  "language_info": {
   "codemirror_mode": {
    "name": "ipython",
    "version": 3
   },
   "file_extension": ".py",
   "mimetype": "text/x-python",
   "name": "python",
   "nbconvert_exporter": "python",
   "pygments_lexer": "ipython3",
   "version": "3.8.7"
  }
 },
 "nbformat": 4,
 "nbformat_minor": 5
}
