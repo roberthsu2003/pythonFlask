{
 "cells": [
  {
   "cell_type": "code",
   "execution_count": 10,
   "id": "51357753",
   "metadata": {},
   "outputs": [
    {
     "data": {
      "text/plain": [
       "Engine(sqlite+pysqlite:////Users/roberthsu2003/Documents/GitHub/pythonFlask/上課內容/data.sqlite)"
      ]
     },
     "execution_count": 10,
     "metadata": {},
     "output_type": "execute_result"
    }
   ],
   "source": [
    "#建立Engine\n",
    "import os\n",
    "from sqlalchemy import create_engine\n",
    "enginepath=os.path.abspath('data.sqlite')\n",
    "engine = create_engine(\"sqlite+pysqlite:///\"+enginepath, echo=True, future=True)\n",
    "engine"
   ]
  },
  {
   "cell_type": "code",
   "execution_count": 2,
   "id": "2e8f1166",
   "metadata": {},
   "outputs": [],
   "source": [
    "#declarative mapping\n",
    "\n",
    "from sqlalchemy import Column,String,Integer\n",
    "from sqlalchemy.orm import declarative_base\n",
    "Base = declarative_base()\n",
    "\n",
    "class Students(Base):\n",
    "    __tablename__ = 'students'\n",
    "    id = Column(Integer, primary_key=True)\n",
    "    name = Column(String)\n",
    "    fullname = Column(String)\n",
    "    nickname = Column(String)"
   ]
  },
  {
   "cell_type": "code",
   "execution_count": null,
   "id": "3241e46e",
   "metadata": {},
   "outputs": [],
   "source": []
  },
  {
   "cell_type": "code",
   "execution_count": null,
   "id": "404c9bed",
   "metadata": {},
   "outputs": [],
   "source": []
  }
 ],
 "metadata": {
  "kernelspec": {
   "display_name": "Python 3",
   "language": "python",
   "name": "python3"
  },
  "language_info": {
   "codemirror_mode": {
    "name": "ipython",
    "version": 3
   },
   "file_extension": ".py",
   "mimetype": "text/x-python",
   "name": "python",
   "nbconvert_exporter": "python",
   "pygments_lexer": "ipython3",
   "version": "3.8.7"
  }
 },
 "nbformat": 4,
 "nbformat_minor": 5
}
