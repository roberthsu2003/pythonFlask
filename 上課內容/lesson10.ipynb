{
 "cells": [
  {
   "cell_type": "code",
   "execution_count": 4,
   "id": "29c97f11",
   "metadata": {},
   "outputs": [
    {
     "name": "stdout",
     "output_type": "stream",
     "text": [
      "3.3000000000000003\n",
      "3.3\n"
     ]
    }
   ],
   "source": [
    "from decimal import *\n",
    "print(1.1+2.2)\n",
    "print(Decimal('1.1') + Decimal('2.2'))"
   ]
  },
  {
   "cell_type": "code",
   "execution_count": 8,
   "id": "0447df8b",
   "metadata": {},
   "outputs": [
    {
     "name": "stdout",
     "output_type": "stream",
     "text": [
      "3.30\n"
     ]
    }
   ],
   "source": [
    "a = 1.1\n",
    "b = 2.2\n",
    "print(\"%.2f\" % (a+b))"
   ]
  },
  {
   "cell_type": "code",
   "execution_count": 9,
   "id": "f9b91e6d",
   "metadata": {},
   "outputs": [
    {
     "data": {
      "text/plain": [
       "{'wine': '白酒', 'entree': '牛排', 'dessert': '蛋糕'}"
      ]
     },
     "execution_count": 9,
     "metadata": {},
     "output_type": "execute_result"
    }
   ],
   "source": [
    "def menu(wine, entree, dessert):\n",
    "    return {'wine':wine, 'entree':entree, 'dessert':dessert}\n",
    "menu('白酒', '牛排', '蛋糕')"
   ]
  },
  {
   "cell_type": "code",
   "execution_count": 10,
   "id": "b3a010d8",
   "metadata": {},
   "outputs": [
    {
     "data": {
      "text/plain": [
       "{'wine': '紅酒', 'entree': '雞排', 'dessert': '冰淇淋'}"
      ]
     },
     "execution_count": 10,
     "metadata": {},
     "output_type": "execute_result"
    }
   ],
   "source": [
    "#引數位置\n",
    "menu('紅酒', '雞排', '冰淇淋')"
   ]
  },
  {
   "cell_type": "code",
   "execution_count": 11,
   "id": "d30f695c",
   "metadata": {},
   "outputs": [
    {
     "data": {
      "text/plain": [
       "{'wine': '白酒', 'entree': '牛排', 'dessert': '蛋糕'}"
      ]
     },
     "execution_count": 11,
     "metadata": {},
     "output_type": "execute_result"
    }
   ],
   "source": [
    "#引數名稱\n",
    "menu(wine='白酒', entree='牛排', dessert='蛋糕')"
   ]
  },
  {
   "cell_type": "code",
   "execution_count": 12,
   "id": "5629bcb6",
   "metadata": {},
   "outputs": [
    {
     "data": {
      "text/plain": [
       "{'wine': '白酒', 'entree': '牛排', 'dessert': '蛋糕'}"
      ]
     },
     "execution_count": 12,
     "metadata": {},
     "output_type": "execute_result"
    }
   ],
   "source": [
    "#引數名稱\n",
    "#可以不依照順序\n",
    "menu(dessert='蛋糕', entree='牛排',wine='白酒')"
   ]
  },
  {
   "cell_type": "code",
   "execution_count": 13,
   "id": "8c9479d0",
   "metadata": {},
   "outputs": [
    {
     "data": {
      "text/plain": [
       "{'wine': '白酒', 'entree': '牛排', 'dessert': '蛋糕'}"
      ]
     },
     "execution_count": 13,
     "metadata": {},
     "output_type": "execute_result"
    }
   ],
   "source": [
    "#混合式呼叫\n",
    "#前面要用引數位置,後面才用引數名稱,使用引數名稱後,全部都要用引數名稱\n",
    "menu('白酒',dessert='蛋糕', entree='牛排')"
   ]
  },
  {
   "cell_type": "code",
   "execution_count": 14,
   "id": "db12afac",
   "metadata": {},
   "outputs": [
    {
     "data": {
      "text/plain": [
       "{'wine': '白酒', 'entree': '牛排', 'dessert': '奶昔'}"
      ]
     },
     "execution_count": 14,
     "metadata": {},
     "output_type": "execute_result"
    }
   ],
   "source": [
    "#預設參數值\n",
    "def menu(wine, entree, dessert='奶昔'):\n",
    "    return {'wine':wine, 'entree':entree, 'dessert':dessert}\n",
    "\n",
    "#呼叫可省略\n",
    "menu('白酒','牛排')"
   ]
  },
  {
   "cell_type": "code",
   "execution_count": 15,
   "id": "814aa19d",
   "metadata": {},
   "outputs": [
    {
     "data": {
      "text/plain": [
       "{'wine': '白酒', 'entree': '牛排', 'dessert': '蛋糕'}"
      ]
     },
     "execution_count": 15,
     "metadata": {},
     "output_type": "execute_result"
    }
   ],
   "source": [
    "menu('白酒',dessert='蛋糕', entree='牛排')"
   ]
  },
  {
   "cell_type": "code",
   "execution_count": 19,
   "id": "17ca88ae",
   "metadata": {},
   "outputs": [
    {
     "name": "stdout",
     "output_type": "stream",
     "text": [
      "(1, 'robert', 32.5, True)\n"
     ]
    }
   ],
   "source": [
    "#參數使用*參數\n",
    "#不限參數的數量\n",
    "#args,將會是tuple\n",
    "#使用引數位置,不可使用引數名稱\n",
    "\n",
    "def print_args(*args):\n",
    "    print(args)\n",
    "    \n",
    "args = 1, 'robert', 32.5, True\n",
    "print_args(*args)    "
   ]
  },
  {
   "cell_type": "code",
   "execution_count": 21,
   "id": "49debf89",
   "metadata": {},
   "outputs": [
    {
     "name": "stdout",
     "output_type": "stream",
     "text": [
      "{'one': '1', 'two': 2, 'three': 3, 'four': 'four'}\n"
     ]
    }
   ],
   "source": [
    "def print_kwargs(**kwargs):\n",
    "    print(kwargs)\n",
    "\n",
    "kwargs = {'one':'1', 'two':2, 'three':3, 'four':'four'}    \n",
    "print_kwargs(**kwargs)   \n"
   ]
  },
  {
   "cell_type": "code",
   "execution_count": 18,
   "id": "f30edd5f",
   "metadata": {},
   "outputs": [
    {
     "name": "stdout",
     "output_type": "stream",
     "text": [
      "args (1, 2, 3, 4, 5, 6)\n",
      "kwargs {'one': 1, 'two': 2, 'three': 3, 'four': 4}\n"
     ]
    }
   ],
   "source": [
    "def print_args_kwargs(*args, **kwargs):\n",
    "    print('args', args)\n",
    "    print('kwargs', kwargs)\n",
    "\n",
    "print_args_kwargs(1,2,3,4,5,6,one=1,two=2,three=3,four=4)"
   ]
  },
  {
   "cell_type": "code",
   "execution_count": null,
   "id": "8364992d",
   "metadata": {},
   "outputs": [],
   "source": []
  }
 ],
 "metadata": {
  "kernelspec": {
   "display_name": "Python 3",
   "language": "python",
   "name": "python3"
  },
  "language_info": {
   "codemirror_mode": {
    "name": "ipython",
    "version": 3
   },
   "file_extension": ".py",
   "mimetype": "text/x-python",
   "name": "python",
   "nbconvert_exporter": "python",
   "pygments_lexer": "ipython3",
   "version": "3.8.7"
  }
 },
 "nbformat": 4,
 "nbformat_minor": 5
}
