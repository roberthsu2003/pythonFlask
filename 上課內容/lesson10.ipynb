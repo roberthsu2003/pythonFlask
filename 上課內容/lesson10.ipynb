{
 "cells": [
  {
   "cell_type": "code",
   "execution_count": 4,
   "id": "c09a27e3",
   "metadata": {},
   "outputs": [
    {
     "name": "stdout",
     "output_type": "stream",
     "text": [
      "3.3000000000000003\n",
      "3.3\n"
     ]
    }
   ],
   "source": [
    "from decimal import *\n",
    "print(1.1+2.2)\n",
    "print(Decimal('1.1') + Decimal('2.2'))"
   ]
  },
  {
   "cell_type": "code",
   "execution_count": 8,
   "id": "271e4337",
   "metadata": {},
   "outputs": [
    {
     "name": "stdout",
     "output_type": "stream",
     "text": [
      "3.30\n"
     ]
    }
   ],
   "source": [
    "a = 1.1\n",
    "b = 2.2\n",
    "print(\"%.2f\" % (a+b))"
   ]
  },
  {
   "cell_type": "code",
   "execution_count": 9,
   "id": "aa97558b",
   "metadata": {},
   "outputs": [
    {
     "data": {
      "text/plain": [
       "{'wine': '白酒', 'entree': '牛排', 'dessert': '蛋糕'}"
      ]
     },
     "execution_count": 9,
     "metadata": {},
     "output_type": "execute_result"
    }
   ],
   "source": [
    "def menu(wine, entree, dessert):\n",
    "    return {'wine':wine, 'entree':entree, 'dessert':dessert}\n",
    "menu('白酒', '牛排', '蛋糕')"
   ]
  },
  {
   "cell_type": "code",
   "execution_count": 10,
   "id": "b5a31a73",
   "metadata": {},
   "outputs": [
    {
     "data": {
      "text/plain": [
       "{'wine': '紅酒', 'entree': '雞排', 'dessert': '冰淇淋'}"
      ]
     },
     "execution_count": 10,
     "metadata": {},
     "output_type": "execute_result"
    }
   ],
   "source": [
    "#引數位置\n",
    "menu('紅酒', '雞排', '冰淇淋')"
   ]
  },
  {
   "cell_type": "code",
   "execution_count": 11,
   "id": "86b07820",
   "metadata": {},
   "outputs": [
    {
     "data": {
      "text/plain": [
       "{'wine': '白酒', 'entree': '牛排', 'dessert': '蛋糕'}"
      ]
     },
     "execution_count": 11,
     "metadata": {},
     "output_type": "execute_result"
    }
   ],
   "source": [
    "#引數名稱\n",
    "menu(wine='白酒', entree='牛排', dessert='蛋糕')"
   ]
  },
  {
   "cell_type": "code",
   "execution_count": 12,
   "id": "5d60a734",
   "metadata": {},
   "outputs": [
    {
     "data": {
      "text/plain": [
       "{'wine': '白酒', 'entree': '牛排', 'dessert': '蛋糕'}"
      ]
     },
     "execution_count": 12,
     "metadata": {},
     "output_type": "execute_result"
    }
   ],
   "source": [
    "#引數名稱\n",
    "#可以不依照順序\n",
    "menu(dessert='蛋糕', entree='牛排',wine='白酒')"
   ]
  },
  {
   "cell_type": "code",
   "execution_count": 13,
   "id": "4b8e7ccd",
   "metadata": {},
   "outputs": [
    {
     "data": {
      "text/plain": [
       "{'wine': '白酒', 'entree': '牛排', 'dessert': '蛋糕'}"
      ]
     },
     "execution_count": 13,
     "metadata": {},
     "output_type": "execute_result"
    }
   ],
   "source": [
    "#混合式呼叫\n",
    "#前面要用引數位置,後面才用引數名稱,使用引數名稱後,全部都要用引數名稱\n",
    "menu('白酒',dessert='蛋糕', entree='牛排')"
   ]
  },
  {
   "cell_type": "code",
   "execution_count": 14,
   "id": "09306ef4",
   "metadata": {},
   "outputs": [
    {
     "data": {
      "text/plain": [
       "{'wine': '白酒', 'entree': '牛排', 'dessert': '奶昔'}"
      ]
     },
     "execution_count": 14,
     "metadata": {},
     "output_type": "execute_result"
    }
   ],
   "source": [
    "#預設參數值\n",
    "def menu(wine, entree, dessert='奶昔'):\n",
    "    return {'wine':wine, 'entree':entree, 'dessert':dessert}\n",
    "\n",
    "#呼叫可省略\n",
    "menu('白酒','牛排')"
   ]
  },
  {
   "cell_type": "code",
   "execution_count": 15,
   "id": "471f5d8c",
   "metadata": {},
   "outputs": [
    {
     "data": {
      "text/plain": [
       "{'wine': '白酒', 'entree': '牛排', 'dessert': '蛋糕'}"
      ]
     },
     "execution_count": 15,
     "metadata": {},
     "output_type": "execute_result"
    }
   ],
   "source": [
    "menu('白酒',dessert='蛋糕', entree='牛排')"
   ]
  },
  {
   "cell_type": "code",
   "execution_count": 16,
   "id": "e13f58bf",
   "metadata": {},
   "outputs": [
    {
     "name": "stdout",
     "output_type": "stream",
     "text": [
      "(1, 'robert', 32.5, True)\n"
     ]
    }
   ],
   "source": [
    "#參數使用*參數\n",
    "#不限參數的數量\n",
    "#args,將會是tuple\n",
    "#使用引數位置,不可使用引數名稱\n",
    "\n",
    "def print_args(*args):\n",
    "    print(args)\n",
    "print_args(1, 'robert', 32.5, True)    "
   ]
  },
  {
   "cell_type": "code",
   "execution_count": null,
   "id": "e10c367f",
   "metadata": {},
   "outputs": [],
   "source": []
  }
 ],
 "metadata": {
  "kernelspec": {
   "display_name": "Python 3",
   "language": "python",
   "name": "python3"
  },
  "language_info": {
   "codemirror_mode": {
    "name": "ipython",
    "version": 3
   },
   "file_extension": ".py",
   "mimetype": "text/x-python",
   "name": "python",
   "nbconvert_exporter": "python",
   "pygments_lexer": "ipython3",
   "version": "3.8.7"
  }
 },
 "nbformat": 4,
 "nbformat_minor": 5
}
