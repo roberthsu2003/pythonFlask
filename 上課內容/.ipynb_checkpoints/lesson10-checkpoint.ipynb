{
 "cells": [
  {
   "cell_type": "code",
   "execution_count": 4,
   "id": "73b5f60f",
   "metadata": {},
   "outputs": [
    {
     "name": "stdout",
     "output_type": "stream",
     "text": [
      "3.3000000000000003\n",
      "3.3\n"
     ]
    }
   ],
   "source": [
    "from decimal import *\n",
    "print(1.1+2.2)\n",
    "print(Decimal('1.1') + Decimal('2.2'))"
   ]
  },
  {
   "cell_type": "code",
   "execution_count": 8,
   "id": "e7793030",
   "metadata": {},
   "outputs": [
    {
     "name": "stdout",
     "output_type": "stream",
     "text": [
      "3.30\n"
     ]
    }
   ],
   "source": [
    "a = 1.1\n",
    "b = 2.2\n",
    "print(\"%.2f\" % (a+b))"
   ]
  },
  {
   "cell_type": "code",
   "execution_count": null,
   "id": "84c89b73",
   "metadata": {},
   "outputs": [],
   "source": []
  }
 ],
 "metadata": {
  "kernelspec": {
   "display_name": "Python 3",
   "language": "python",
   "name": "python3"
  },
  "language_info": {
   "codemirror_mode": {
    "name": "ipython",
    "version": 3
   },
   "file_extension": ".py",
   "mimetype": "text/x-python",
   "name": "python",
   "nbconvert_exporter": "python",
   "pygments_lexer": "ipython3",
   "version": "3.8.7"
  }
 },
 "nbformat": 4,
 "nbformat_minor": 5
}
