{
 "cells": [
  {
   "cell_type": "code",
   "execution_count": 1,
   "id": "8bbfe3ac",
   "metadata": {},
   "outputs": [
    {
     "name": "stdout",
     "output_type": "stream",
     "text": [
      "[]\n"
     ]
    }
   ],
   "source": [
    "empty_list = []\n",
    "print(empty_list)"
   ]
  },
  {
   "cell_type": "code",
   "execution_count": 2,
   "id": "9543c3f0",
   "metadata": {},
   "outputs": [
    {
     "name": "stdout",
     "output_type": "stream",
     "text": [
      "['星期一', '星期二', '星期三', '星期四', '星期五', '星期六', '星期日']\n"
     ]
    }
   ],
   "source": [
    "weekdays = ['星期一', '星期二', '星期三', '星期四', '星期五', '星期六', '星期日']\n",
    "print(weekdays)"
   ]
  },
  {
   "cell_type": "code",
   "execution_count": 3,
   "id": "617ae7a1",
   "metadata": {},
   "outputs": [
    {
     "name": "stdout",
     "output_type": "stream",
     "text": [
      "['Graham', 'John', 'Terry', 'Terry', 'Michael']\n"
     ]
    }
   ],
   "source": [
    "first_names = ['Graham', 'John', 'Terry', 'Terry', 'Michael']\n",
    "print(first_names)"
   ]
  },
  {
   "cell_type": "code",
   "execution_count": 4,
   "id": "d12aca60",
   "metadata": {},
   "outputs": [
    {
     "data": {
      "text/plain": [
       "[]"
      ]
     },
     "execution_count": 4,
     "metadata": {},
     "output_type": "execute_result"
    }
   ],
   "source": [
    "another_emptyList = list()\n",
    "another_emptyList"
   ]
  },
  {
   "cell_type": "code",
   "execution_count": 5,
   "id": "1fce8850",
   "metadata": {},
   "outputs": [
    {
     "data": {
      "text/plain": [
       "['c', 'a', 't']"
      ]
     },
     "execution_count": 5,
     "metadata": {},
     "output_type": "execute_result"
    }
   ],
   "source": [
    "list('cat')"
   ]
  },
  {
   "cell_type": "code",
   "execution_count": 6,
   "id": "14f7ab02",
   "metadata": {},
   "outputs": [
    {
     "data": {
      "text/plain": [
       "[1, 2, 3, 4]"
      ]
     },
     "execution_count": 6,
     "metadata": {},
     "output_type": "execute_result"
    }
   ],
   "source": [
    "list(range(1,5))"
   ]
  },
  {
   "cell_type": "code",
   "execution_count": 7,
   "id": "7555dd80",
   "metadata": {},
   "outputs": [
    {
     "data": {
      "text/plain": [
       "('ready', 'fire', 'aim')"
      ]
     },
     "execution_count": 7,
     "metadata": {},
     "output_type": "execute_result"
    }
   ],
   "source": [
    "a_tuple = ('ready', 'fire', 'aim')\n",
    "a_tuple"
   ]
  },
  {
   "cell_type": "code",
   "execution_count": 8,
   "id": "45a73ab8",
   "metadata": {},
   "outputs": [
    {
     "data": {
      "text/plain": [
       "['1', '6', '2021']"
      ]
     },
     "execution_count": 8,
     "metadata": {},
     "output_type": "execute_result"
    }
   ],
   "source": [
    "birthday = '1/6/2021'\n",
    "birthday.split('/')"
   ]
  },
  {
   "cell_type": "code",
   "execution_count": 9,
   "id": "f06e5d78",
   "metadata": {},
   "outputs": [
    {
     "data": {
      "text/plain": [
       "['1', '6', '2021']"
      ]
     },
     "execution_count": 9,
     "metadata": {},
     "output_type": "execute_result"
    }
   ],
   "source": [
    "import re\n",
    "re.split('/',birthday)"
   ]
  },
  {
   "cell_type": "code",
   "execution_count": 10,
   "id": "a82484a8",
   "metadata": {},
   "outputs": [
    {
     "data": {
      "text/plain": [
       "'台北'"
      ]
     },
     "execution_count": 10,
     "metadata": {},
     "output_type": "execute_result"
    }
   ],
   "source": [
    "citys = ['台北', '台中', '高雄']\n",
    "citys[0]"
   ]
  },
  {
   "cell_type": "code",
   "execution_count": 11,
   "id": "9c1d9960",
   "metadata": {},
   "outputs": [
    {
     "data": {
      "text/plain": [
       "'台中'"
      ]
     },
     "execution_count": 11,
     "metadata": {},
     "output_type": "execute_result"
    }
   ],
   "source": [
    "citys[1]"
   ]
  },
  {
   "cell_type": "code",
   "execution_count": 12,
   "id": "0e88c733",
   "metadata": {},
   "outputs": [],
   "source": [
    "#citys[3]"
   ]
  },
  {
   "cell_type": "code",
   "execution_count": 13,
   "id": "bf425971",
   "metadata": {},
   "outputs": [
    {
     "data": {
      "text/plain": [
       "['台北', '台中', '台南']"
      ]
     },
     "execution_count": 13,
     "metadata": {},
     "output_type": "execute_result"
    }
   ],
   "source": [
    "citys[2] = '台南'\n",
    "citys"
   ]
  },
  {
   "cell_type": "code",
   "execution_count": 14,
   "id": "666c7e60",
   "metadata": {},
   "outputs": [
    {
     "data": {
      "text/plain": [
       "'台中'"
      ]
     },
     "execution_count": 14,
     "metadata": {},
     "output_type": "execute_result"
    }
   ],
   "source": [
    "citytuple = ('台北', '台中', '高雄')\n",
    "citytuple[1]"
   ]
  },
  {
   "cell_type": "code",
   "execution_count": 15,
   "id": "917d4a58",
   "metadata": {},
   "outputs": [],
   "source": [
    "#citytuple[2] = '台南'"
   ]
  },
  {
   "cell_type": "code",
   "execution_count": 16,
   "id": "b72a4059",
   "metadata": {},
   "outputs": [
    {
     "data": {
      "text/plain": [
       "'d'"
      ]
     },
     "execution_count": 16,
     "metadata": {},
     "output_type": "execute_result"
    }
   ],
   "source": [
    "list1=['H','e','l','l','o', 'W','o','r','l','d']\n",
    "list1[-1]"
   ]
  },
  {
   "cell_type": "code",
   "execution_count": 17,
   "id": "ab6e642c",
   "metadata": {},
   "outputs": [
    {
     "data": {
      "text/plain": [
       "['W', 'o', 'r', 'l', 'd']"
      ]
     },
     "execution_count": 17,
     "metadata": {},
     "output_type": "execute_result"
    }
   ],
   "source": [
    "list1[-5:]"
   ]
  },
  {
   "cell_type": "code",
   "execution_count": 18,
   "id": "16ca411e",
   "metadata": {},
   "outputs": [
    {
     "data": {
      "text/plain": [
       "['H', 'e', 'l', 'l', 'o']"
      ]
     },
     "execution_count": 18,
     "metadata": {},
     "output_type": "execute_result"
    }
   ],
   "source": [
    "list1[:5]"
   ]
  },
  {
   "cell_type": "code",
   "execution_count": 19,
   "id": "4e2ad0bb",
   "metadata": {},
   "outputs": [
    {
     "name": "stdout",
     "output_type": "stream",
     "text": [
      "H\n",
      "e\n",
      "l\n",
      "l\n",
      "o\n",
      "W\n",
      "o\n",
      "r\n",
      "l\n",
      "d\n"
     ]
    }
   ],
   "source": [
    "for letter in list1:\n",
    "    print(letter)"
   ]
  },
  {
   "cell_type": "code",
   "execution_count": 20,
   "id": "195a4c4b",
   "metadata": {},
   "outputs": [
    {
     "data": {
      "text/plain": [
       "['H', 'l', 'o', 'o', 'l']"
      ]
     },
     "execution_count": 20,
     "metadata": {},
     "output_type": "execute_result"
    }
   ],
   "source": [
    "list1[::2]"
   ]
  },
  {
   "cell_type": "code",
   "execution_count": 21,
   "id": "ac8ba0a2",
   "metadata": {},
   "outputs": [
    {
     "data": {
      "text/plain": [
       "[['筆記電腦', '商用筆電'], ['APPLE', 'ASUS', 'HTC'], [3, '冰箱', 2, '洗衣機']]"
      ]
     },
     "execution_count": 21,
     "metadata": {},
     "output_type": "execute_result"
    }
   ],
   "source": [
    "#2維list\n",
    "nb = ['筆記電腦', '商用筆電']\n",
    "mobile = ['APPLE', 'ASUS', 'HTC'] \n",
    "home = [3, '冰箱', 2, '洗衣機']\n",
    "all3c = [nb, mobile, home]\n",
    "all3c"
   ]
  },
  {
   "cell_type": "code",
   "execution_count": 22,
   "id": "5d55238b",
   "metadata": {},
   "outputs": [
    {
     "data": {
      "text/plain": [
       "['筆記電腦', '商用筆電']"
      ]
     },
     "execution_count": 22,
     "metadata": {},
     "output_type": "execute_result"
    }
   ],
   "source": [
    "all3c[0]"
   ]
  },
  {
   "cell_type": "code",
   "execution_count": 23,
   "id": "0318e25f",
   "metadata": {},
   "outputs": [
    {
     "data": {
      "text/plain": [
       "['APPLE', 'ASUS', 'HTC']"
      ]
     },
     "execution_count": 23,
     "metadata": {},
     "output_type": "execute_result"
    }
   ],
   "source": [
    "all3c[1]"
   ]
  },
  {
   "cell_type": "code",
   "execution_count": 24,
   "id": "5bee190b",
   "metadata": {},
   "outputs": [
    {
     "data": {
      "text/plain": [
       "'筆記電腦'"
      ]
     },
     "execution_count": 24,
     "metadata": {},
     "output_type": "execute_result"
    }
   ],
   "source": [
    "all3c[0][0]"
   ]
  },
  {
   "cell_type": "code",
   "execution_count": 25,
   "id": "72db9a50",
   "metadata": {},
   "outputs": [
    {
     "name": "stdout",
     "output_type": "stream",
     "text": [
      "3\n",
      "2\n"
     ]
    }
   ],
   "source": [
    "for items in all3c:\n",
    "    for item in items:\n",
    "        if isinstance(item,int):\n",
    "            print(item)"
   ]
  },
  {
   "cell_type": "code",
   "execution_count": 26,
   "id": "ce0957d1",
   "metadata": {},
   "outputs": [
    {
     "data": {
      "text/plain": [
       "['a', 'b', 'c', 'd', ['e', 'f']]"
      ]
     },
     "execution_count": 26,
     "metadata": {},
     "output_type": "execute_result"
    }
   ],
   "source": [
    "#使用實體方法append()\n",
    "list1 = ['a', 'b', 'c']\n",
    "list1.append('d')\n",
    "list1.append(['e','f'])\n",
    "list1"
   ]
  },
  {
   "cell_type": "code",
   "execution_count": 27,
   "id": "5ca35d05",
   "metadata": {},
   "outputs": [
    {
     "data": {
      "text/plain": [
       "['a', 'b', 'c', 'd', 'f']"
      ]
     },
     "execution_count": 27,
     "metadata": {},
     "output_type": "execute_result"
    }
   ],
   "source": [
    "#使用+運算子\n",
    "list1 = ['a', 'b', 'c']\n",
    "list2 = ['d','f']\n",
    "list1 += list2\n",
    "list1"
   ]
  },
  {
   "cell_type": "code",
   "execution_count": 28,
   "id": "c59a07c4",
   "metadata": {},
   "outputs": [
    {
     "data": {
      "text/plain": [
       "['a', 'b', 'c', 'e', 'f', 'g']"
      ]
     },
     "execution_count": 28,
     "metadata": {},
     "output_type": "execute_result"
    }
   ],
   "source": [
    "#list的擴充\n",
    "#實體方法extend()\n",
    "list1 = ['a', 'b', 'c']\n",
    "list1.extend(['e', 'f', 'g'])\n",
    "list1"
   ]
  },
  {
   "cell_type": "code",
   "execution_count": 29,
   "id": "5b994257",
   "metadata": {},
   "outputs": [
    {
     "data": {
      "text/plain": [
       "['基隆', '台北', '台中', '高雄', '台南', '花蓮']"
      ]
     },
     "execution_count": 29,
     "metadata": {},
     "output_type": "execute_result"
    }
   ],
   "source": [
    "#insert(),插入\n",
    "citys = ['台北', '台中', '高雄', '台南', '花蓮']\n",
    "citys.insert(0, '基隆')\n",
    "citys"
   ]
  },
  {
   "cell_type": "code",
   "execution_count": 30,
   "id": "16870d75",
   "metadata": {},
   "outputs": [
    {
     "data": {
      "text/plain": [
       "['台中', '高雄', '台南', '花蓮']"
      ]
     },
     "execution_count": 30,
     "metadata": {},
     "output_type": "execute_result"
    }
   ],
   "source": [
    "#移除或刪除\n",
    "#remove()\n",
    "#pop()\n",
    "#del-運算子\n",
    "citys = ['台北', '台中', '高雄', '台南', '花蓮']\n",
    "del citys[0]\n",
    "citys"
   ]
  },
  {
   "cell_type": "code",
   "execution_count": 31,
   "id": "d73d6e31",
   "metadata": {},
   "outputs": [
    {
     "data": {
      "text/plain": [
       "['台北', '台中', '高雄', '花蓮']"
      ]
     },
     "execution_count": 31,
     "metadata": {},
     "output_type": "execute_result"
    }
   ],
   "source": [
    "citys = ['台北', '台中', '高雄', '台南', '花蓮']\n",
    "citys.remove('台南')\n",
    "citys"
   ]
  },
  {
   "cell_type": "code",
   "execution_count": 32,
   "id": "04312036",
   "metadata": {},
   "outputs": [
    {
     "data": {
      "text/plain": [
       "['台北', '台中', '高雄', '台南']"
      ]
     },
     "execution_count": 32,
     "metadata": {},
     "output_type": "execute_result"
    }
   ],
   "source": [
    "citys = ['台北', '台中', '高雄', '台南', '花蓮']\n",
    "citys.pop()\n",
    "citys"
   ]
  },
  {
   "cell_type": "code",
   "execution_count": 33,
   "id": "7b67581b",
   "metadata": {},
   "outputs": [],
   "source": [
    "citys = ['台北', '台中', '高雄', '台南', '花蓮']\n",
    "del citys\n",
    "#citys"
   ]
  },
  {
   "cell_type": "code",
   "execution_count": 34,
   "id": "942e4249",
   "metadata": {},
   "outputs": [
    {
     "data": {
      "text/plain": [
       "1"
      ]
     },
     "execution_count": 34,
     "metadata": {},
     "output_type": "execute_result"
    }
   ],
   "source": [
    "#使用index(),搜尋內容所在的位置\n",
    "citys = ['台北', '台中', '高雄', '台南', '花蓮']\n",
    "citys.index('台中')"
   ]
  },
  {
   "cell_type": "code",
   "execution_count": 35,
   "id": "ae91fce1",
   "metadata": {},
   "outputs": [
    {
     "data": {
      "text/plain": [
       "['台北', '台中', '高雄', '台南', '花蓮']"
      ]
     },
     "execution_count": 35,
     "metadata": {},
     "output_type": "execute_result"
    }
   ],
   "source": [
    "citys = ['台北', '台中', '高雄', '台南', '花蓮']\n",
    "if '台中1' in citys:\n",
    "    citys.remove('台中')\n",
    "citys"
   ]
  },
  {
   "cell_type": "code",
   "execution_count": 36,
   "id": "ef993948",
   "metadata": {},
   "outputs": [
    {
     "data": {
      "text/plain": [
       "2"
      ]
     },
     "execution_count": 36,
     "metadata": {},
     "output_type": "execute_result"
    }
   ],
   "source": [
    "#實體方法count(),相同元素的個數\n",
    "citys = ['台北', '台北', '高雄', '台南', '花蓮'] \n",
    "citys.count('台北')"
   ]
  },
  {
   "cell_type": "code",
   "execution_count": 37,
   "id": "ba351a37",
   "metadata": {},
   "outputs": [
    {
     "data": {
      "text/plain": [
       "['Chico', 'Groucho', 'Harpo']"
      ]
     },
     "execution_count": 37,
     "metadata": {},
     "output_type": "execute_result"
    }
   ],
   "source": [
    "marxes = ['Groucho', 'Chico', 'Harpo']\n",
    "sorted_marxes=sorted(marxes)\n",
    "sorted_marxes"
   ]
  },
  {
   "cell_type": "code",
   "execution_count": 38,
   "id": "ae27b9b8",
   "metadata": {},
   "outputs": [
    {
     "data": {
      "text/plain": [
       "['Groucho', 'Chico', 'Harpo']"
      ]
     },
     "execution_count": 38,
     "metadata": {},
     "output_type": "execute_result"
    }
   ],
   "source": [
    "marxes"
   ]
  },
  {
   "cell_type": "code",
   "execution_count": 39,
   "id": "792289b7",
   "metadata": {},
   "outputs": [
    {
     "data": {
      "text/plain": [
       "['Chico', 'Groucho', 'Harpo']"
      ]
     },
     "execution_count": 39,
     "metadata": {},
     "output_type": "execute_result"
    }
   ],
   "source": [
    "marxes.sort()\n",
    "marxes"
   ]
  },
  {
   "cell_type": "code",
   "execution_count": 40,
   "id": "d38fa21b",
   "metadata": {},
   "outputs": [
    {
     "data": {
      "text/plain": [
       "3"
      ]
     },
     "execution_count": 40,
     "metadata": {},
     "output_type": "execute_result"
    }
   ],
   "source": [
    "len(marxes)"
   ]
  },
  {
   "cell_type": "code",
   "execution_count": 43,
   "id": "2df8f132",
   "metadata": {},
   "outputs": [
    {
     "data": {
      "text/plain": [
       "59"
      ]
     },
     "execution_count": 43,
     "metadata": {},
     "output_type": "execute_result"
    }
   ],
   "source": [
    "import random\n",
    "random.randint(50, 100)"
   ]
  },
  {
   "cell_type": "code",
   "execution_count": 44,
   "id": "f2d03305",
   "metadata": {},
   "outputs": [
    {
     "data": {
      "text/plain": [
       "0.3059958244754808"
      ]
     },
     "execution_count": 44,
     "metadata": {},
     "output_type": "execute_result"
    }
   ],
   "source": [
    "random.random()"
   ]
  },
  {
   "cell_type": "code",
   "execution_count": 46,
   "id": "4bceb670",
   "metadata": {},
   "outputs": [
    {
     "name": "stdout",
     "output_type": "stream",
     "text": [
      "[70, 96, 84, 61, 88]\n",
      "[74, 54, 76, 89, 50]\n",
      "[88, 69, 80, 100, 65]\n",
      "[67, 78, 98, 57, 51]\n",
      "[66, 62, 72, 97, 69]\n",
      "[75, 61, 99, 90, 82]\n",
      "[89, 92, 62, 74, 57]\n",
      "[73, 69, 66, 54, 52]\n",
      "[72, 89, 70, 97, 91]\n",
      "[91, 85, 96, 95, 73]\n",
      "[80, 50, 58, 59, 93]\n",
      "[74, 72, 51, 82, 55]\n",
      "[87, 60, 89, 89, 63]\n",
      "[54, 92, 83, 97, 88]\n",
      "[50, 90, 59, 52, 94]\n",
      "[56, 61, 72, 92, 91]\n",
      "[62, 85, 50, 60, 90]\n",
      "[58, 89, 55, 63, 61]\n",
      "[98, 94, 94, 57, 90]\n",
      "[88, 65, 56, 92, 87]\n",
      "[60, 60, 91, 54, 56]\n",
      "[65, 62, 83, 55, 86]\n",
      "[89, 55, 71, 91, 61]\n",
      "[81, 88, 53, 99, 59]\n",
      "[89, 98, 70, 87, 62]\n",
      "[71, 98, 97, 97, 83]\n",
      "[93, 92, 66, 68, 51]\n",
      "[99, 53, 88, 63, 84]\n",
      "[92, 61, 66, 65, 89]\n",
      "[52, 62, 64, 51, 93]\n",
      "[88, 91, 73, 50, 55]\n",
      "[84, 57, 93, 80, 98]\n",
      "[94, 97, 99, 70, 54]\n",
      "[74, 74, 86, 54, 65]\n",
      "[100, 90, 73, 67, 50]\n",
      "[95, 56, 97, 93, 83]\n",
      "[97, 55, 75, 65, 82]\n",
      "[54, 87, 93, 88, 90]\n",
      "[75, 69, 95, 75, 67]\n",
      "[53, 97, 69, 91, 96]\n",
      "[64, 59, 66, 63, 52]\n",
      "[60, 69, 75, 99, 94]\n",
      "[56, 97, 100, 95, 60]\n",
      "[50, 59, 69, 58, 53]\n",
      "[52, 67, 93, 52, 72]\n",
      "[82, 78, 86, 71, 65]\n",
      "[50, 83, 84, 78, 50]\n",
      "[70, 69, 85, 77, 90]\n",
      "[66, 73, 75, 58, 93]\n",
      "[91, 51, 52, 62, 56]\n"
     ]
    }
   ],
   "source": [
    "#請建立50位學生，每個學生有5個分數,分數是50~100分之間\n",
    "#請建立一個巢狀list\n",
    "import random\n",
    "students = []\n",
    "for _ in range(50):\n",
    "    scores = []\n",
    "    for _ in range(5):\n",
    "        scores.append(random.randint(50,100))\n",
    "    students.append(scores)\n"
   ]
  },
  {
   "cell_type": "code",
   "execution_count": 47,
   "id": "f39e5897",
   "metadata": {},
   "outputs": [
    {
     "name": "stdout",
     "output_type": "stream",
     "text": [
      "[70, 96, 84, 61, 88]\n",
      "[74, 54, 76, 89, 50]\n",
      "[88, 69, 80, 100, 65]\n",
      "[67, 78, 98, 57, 51]\n",
      "[66, 62, 72, 97, 69]\n",
      "[75, 61, 99, 90, 82]\n",
      "[89, 92, 62, 74, 57]\n",
      "[73, 69, 66, 54, 52]\n",
      "[72, 89, 70, 97, 91]\n",
      "[91, 85, 96, 95, 73]\n",
      "[80, 50, 58, 59, 93]\n",
      "[74, 72, 51, 82, 55]\n",
      "[87, 60, 89, 89, 63]\n",
      "[54, 92, 83, 97, 88]\n",
      "[50, 90, 59, 52, 94]\n",
      "[56, 61, 72, 92, 91]\n",
      "[62, 85, 50, 60, 90]\n",
      "[58, 89, 55, 63, 61]\n",
      "[98, 94, 94, 57, 90]\n",
      "[88, 65, 56, 92, 87]\n",
      "[60, 60, 91, 54, 56]\n",
      "[65, 62, 83, 55, 86]\n",
      "[89, 55, 71, 91, 61]\n",
      "[81, 88, 53, 99, 59]\n",
      "[89, 98, 70, 87, 62]\n",
      "[71, 98, 97, 97, 83]\n",
      "[93, 92, 66, 68, 51]\n",
      "[99, 53, 88, 63, 84]\n",
      "[92, 61, 66, 65, 89]\n",
      "[52, 62, 64, 51, 93]\n",
      "[88, 91, 73, 50, 55]\n",
      "[84, 57, 93, 80, 98]\n",
      "[94, 97, 99, 70, 54]\n",
      "[74, 74, 86, 54, 65]\n",
      "[100, 90, 73, 67, 50]\n",
      "[95, 56, 97, 93, 83]\n",
      "[97, 55, 75, 65, 82]\n",
      "[54, 87, 93, 88, 90]\n",
      "[75, 69, 95, 75, 67]\n",
      "[53, 97, 69, 91, 96]\n",
      "[64, 59, 66, 63, 52]\n",
      "[60, 69, 75, 99, 94]\n",
      "[56, 97, 100, 95, 60]\n",
      "[50, 59, 69, 58, 53]\n",
      "[52, 67, 93, 52, 72]\n",
      "[82, 78, 86, 71, 65]\n",
      "[50, 83, 84, 78, 50]\n",
      "[70, 69, 85, 77, 90]\n",
      "[66, 73, 75, 58, 93]\n",
      "[91, 51, 52, 62, 56]\n"
     ]
    }
   ],
   "source": [
    "for student in students:\n",
    "    print(student)"
   ]
  },
  {
   "cell_type": "code",
   "execution_count": 54,
   "id": "7cef5db9",
   "metadata": {},
   "outputs": [
    {
     "data": {
      "text/plain": [
       "[50, 70, 82, 88, 88]"
      ]
     },
     "execution_count": 54,
     "metadata": {},
     "output_type": "execute_result"
    }
   ],
   "source": [
    "import random\n",
    "scores = [random.randint(50,100) for _  in range(5)]\n",
    "scores"
   ]
  },
  {
   "cell_type": "code",
   "execution_count": 56,
   "id": "1be82964",
   "metadata": {},
   "outputs": [
    {
     "data": {
      "text/plain": [
       "[0,\n",
       " 2,\n",
       " 4,\n",
       " 6,\n",
       " 8,\n",
       " 10,\n",
       " 12,\n",
       " 14,\n",
       " 16,\n",
       " 18,\n",
       " 20,\n",
       " 22,\n",
       " 24,\n",
       " 26,\n",
       " 28,\n",
       " 30,\n",
       " 32,\n",
       " 34,\n",
       " 36,\n",
       " 38,\n",
       " 40,\n",
       " 42,\n",
       " 44,\n",
       " 46,\n",
       " 48,\n",
       " 50,\n",
       " 52,\n",
       " 54,\n",
       " 56,\n",
       " 58,\n",
       " 60,\n",
       " 62,\n",
       " 64,\n",
       " 66,\n",
       " 68,\n",
       " 70,\n",
       " 72,\n",
       " 74,\n",
       " 76,\n",
       " 78,\n",
       " 80,\n",
       " 82,\n",
       " 84,\n",
       " 86,\n",
       " 88,\n",
       " 90,\n",
       " 92,\n",
       " 94,\n",
       " 96,\n",
       " 98]"
      ]
     },
     "execution_count": 56,
     "metadata": {},
     "output_type": "execute_result"
    }
   ],
   "source": [
    "scores = [index for index in range(100) if index % 2 == 0]\n",
    "scores"
   ]
  },
  {
   "cell_type": "code",
   "execution_count": 62,
   "id": "46a44692",
   "metadata": {},
   "outputs": [
    {
     "data": {
      "text/plain": [
       "[[83, 73, 72, 68, 100],\n",
       " [52, 53, 80, 59, 98],\n",
       " [68, 79, 84, 92, 58],\n",
       " [85, 64, 83, 57, 87],\n",
       " [92, 54, 91, 55, 64],\n",
       " [91, 87, 99, 83, 69],\n",
       " [97, 85, 96, 100, 85],\n",
       " [82, 65, 63, 100, 90],\n",
       " [53, 52, 79, 63, 55],\n",
       " [84, 63, 100, 81, 77],\n",
       " [64, 63, 55, 100, 69],\n",
       " [78, 82, 98, 86, 75],\n",
       " [93, 80, 57, 97, 66],\n",
       " [100, 51, 82, 57, 62],\n",
       " [80, 91, 58, 88, 70],\n",
       " [78, 67, 61, 90, 68],\n",
       " [63, 56, 57, 81, 100],\n",
       " [63, 57, 96, 100, 96],\n",
       " [63, 91, 59, 70, 66],\n",
       " [86, 77, 86, 75, 62],\n",
       " [81, 77, 95, 89, 52],\n",
       " [55, 83, 97, 99, 98],\n",
       " [76, 80, 95, 85, 100],\n",
       " [96, 89, 66, 95, 98],\n",
       " [60, 54, 77, 61, 85],\n",
       " [53, 81, 64, 65, 61],\n",
       " [84, 58, 69, 60, 71],\n",
       " [60, 75, 96, 85, 84],\n",
       " [83, 53, 55, 53, 55],\n",
       " [81, 95, 100, 64, 69],\n",
       " [97, 54, 51, 74, 63],\n",
       " [87, 89, 83, 72, 69],\n",
       " [75, 82, 51, 73, 87],\n",
       " [93, 50, 62, 78, 94],\n",
       " [89, 77, 79, 84, 67],\n",
       " [69, 82, 89, 99, 61],\n",
       " [66, 99, 97, 92, 93],\n",
       " [63, 78, 56, 73, 92],\n",
       " [74, 73, 79, 57, 57],\n",
       " [89, 82, 62, 72, 55],\n",
       " [83, 79, 58, 57, 90],\n",
       " [97, 74, 65, 100, 83],\n",
       " [55, 61, 78, 69, 53],\n",
       " [97, 82, 73, 75, 89],\n",
       " [50, 68, 98, 68, 65],\n",
       " [61, 94, 70, 80, 63],\n",
       " [66, 92, 69, 83, 80],\n",
       " [69, 74, 75, 52, 65],\n",
       " [99, 67, 73, 81, 53],\n",
       " [78, 71, 92, 64, 94]]"
      ]
     },
     "execution_count": 62,
     "metadata": {},
     "output_type": "execute_result"
    }
   ],
   "source": [
    "students = [[random.randint(50,100) for _ in range(5)] for _ in range(50)]\n",
    "students"
   ]
  },
  {
   "cell_type": "code",
   "execution_count": null,
   "id": "a724d410",
   "metadata": {},
   "outputs": [],
   "source": []
  }
 ],
 "metadata": {
  "kernelspec": {
   "display_name": "Python 3",
   "language": "python",
   "name": "python3"
  },
  "language_info": {
   "codemirror_mode": {
    "name": "ipython",
    "version": 3
   },
   "file_extension": ".py",
   "mimetype": "text/x-python",
   "name": "python",
   "nbconvert_exporter": "python",
   "pygments_lexer": "ipython3",
   "version": "3.8.7"
  }
 },
 "nbformat": 4,
 "nbformat_minor": 5
}
