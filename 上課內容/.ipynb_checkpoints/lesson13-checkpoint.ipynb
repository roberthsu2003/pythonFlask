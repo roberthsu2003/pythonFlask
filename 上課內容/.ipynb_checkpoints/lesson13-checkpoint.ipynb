{
 "cells": [
  {
   "cell_type": "code",
   "execution_count": 9,
   "id": "eed71a92",
   "metadata": {},
   "outputs": [
    {
     "name": "stdout",
     "output_type": "stream",
     "text": [
      "I'm an A!\n",
      "A已經生產了 4 個實體\n"
     ]
    }
   ],
   "source": [
    "class A():\n",
    "    #type的attribute\n",
    "    count = 0\n",
    "    \n",
    "    def __init__(self):\n",
    "        A.count += 1\n",
    "        \n",
    "    def exclaim(self):\n",
    "        print(\"I'm an A!\")\n",
    "        \n",
    "    @classmethod\n",
    "    def kids(cls):\n",
    "        print(\"A已經生產了\",cls.count,\"個實體\")\n",
    "\n",
    "easy_a = A()\n",
    "a1 = A()\n",
    "a2 = A()\n",
    "a3 = A()\n",
    "A.count\n",
    "easy_a.count\n",
    "\n",
    "easy_a.exclaim()\n",
    "A.kids()"
   ]
  },
  {
   "cell_type": "code",
   "execution_count": null,
   "id": "e7c851fc",
   "metadata": {},
   "outputs": [],
   "source": []
  }
 ],
 "metadata": {
  "kernelspec": {
   "display_name": "Python 3",
   "language": "python",
   "name": "python3"
  },
  "language_info": {
   "codemirror_mode": {
    "name": "ipython",
    "version": 3
   },
   "file_extension": ".py",
   "mimetype": "text/x-python",
   "name": "python",
   "nbconvert_exporter": "python",
   "pygments_lexer": "ipython3",
   "version": "3.8.7"
  }
 },
 "nbformat": 4,
 "nbformat_minor": 5
}
