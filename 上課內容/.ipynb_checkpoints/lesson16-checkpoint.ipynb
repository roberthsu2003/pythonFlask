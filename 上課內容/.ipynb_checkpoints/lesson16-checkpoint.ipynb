{
 "cells": [
  {
   "cell_type": "code",
   "execution_count": 1,
   "id": "0edd1a48",
   "metadata": {},
   "outputs": [],
   "source": [
    "#create engine\n",
    "import os\n",
    "from sqlalchemy import create_engine\n",
    "enginePath = os.path.abspath('stock.sqlite')\n",
    "engine = create_engine(\"sqlite+pysqlite:///\"+enginePath, echo=True, future=True)\n"
   ]
  },
  {
   "cell_type": "code",
   "execution_count": 4,
   "id": "bad53356",
   "metadata": {},
   "outputs": [],
   "source": [
    "#declarative mapping\n",
    "from sqlalchemy.orm import declarative_base\n",
    "from sqlalchemy import Column, Integer, String, Float\n",
    "Base = declarative_base()\n",
    "class Stock(Base):\n",
    "    __tablename__ = \"stockInTaiwan\"\n",
    "    id = Column(Integer,primary_key=True)\n",
    "    證券代號 = Column(String(20))\n",
    "    證券名稱 = Column(String(20))\n",
    "    成交股數 = Column(Integer)\n",
    "    成交金額 = Column(Integer)\n",
    "    開盤價 = Column(Float)\n",
    "    最高價 = Column(Float)\n",
    "    最低價 = Column(Float)\n",
    "    收盤價 = Column(Float)\n",
    "    漲跌價差 = Column(Integer)\n",
    "    成交筆數 = Column(Integer)"
   ]
  },
  {
   "cell_type": "code",
   "execution_count": null,
   "id": "a4526bf3",
   "metadata": {},
   "outputs": [],
   "source": []
  }
 ],
 "metadata": {
  "kernelspec": {
   "display_name": "Python 3",
   "language": "python",
   "name": "python3"
  },
  "language_info": {
   "codemirror_mode": {
    "name": "ipython",
    "version": 3
   },
   "file_extension": ".py",
   "mimetype": "text/x-python",
   "name": "python",
   "nbconvert_exporter": "python",
   "pygments_lexer": "ipython3",
   "version": "3.8.7"
  }
 },
 "nbformat": 4,
 "nbformat_minor": 5
}
