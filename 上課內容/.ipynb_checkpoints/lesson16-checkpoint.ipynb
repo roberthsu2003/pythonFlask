{
 "cells": [
  {
   "cell_type": "code",
   "execution_count": 1,
   "id": "4b8882ee",
   "metadata": {},
   "outputs": [],
   "source": [
    "#create engine\n",
    "import os\n",
    "from sqlalchemy import create_engine\n",
    "enginePath = os.path.abspath('stock.sqlite')\n",
    "engine = create_engine(\"sqlite+pysqlite:///\"+enginePath, echo=True, future=True)\n"
   ]
  },
  {
   "cell_type": "code",
   "execution_count": 2,
   "id": "6d652583",
   "metadata": {},
   "outputs": [],
   "source": [
    "#declarative mapping\n",
    "from sqlalchemy.orm import declarative_base\n",
    "from sqlalchemy import Column, Integer, String, Float\n",
    "Base = declarative_base()\n",
    "class Stock(Base):\n",
    "    __tablename__ = \"stockInTaiwan\"\n",
    "    id = Column(Integer,primary_key=True)\n",
    "    證券代號 = Column(String(20))\n",
    "    證券名稱 = Column(String(20))\n",
    "    成交股數 = Column(Integer)\n",
    "    成交金額 = Column(Integer)\n",
    "    開盤價 = Column(Float)\n",
    "    最高價 = Column(Float)\n",
    "    最低價 = Column(Float)\n",
    "    收盤價 = Column(Float)\n",
    "    漲跌價差 = Column(Float)\n",
    "    成交筆數 = Column(Integer)"
   ]
  },
  {
   "cell_type": "code",
   "execution_count": 3,
   "id": "95a96edc",
   "metadata": {},
   "outputs": [
    {
     "name": "stdout",
     "output_type": "stream",
     "text": [
      "2021-05-03 15:38:11,809 INFO sqlalchemy.engine.Engine BEGIN (implicit)\n",
      "2021-05-03 15:38:11,810 INFO sqlalchemy.engine.Engine PRAGMA main.table_info(\"stockInTaiwan\")\n",
      "2021-05-03 15:38:11,811 INFO sqlalchemy.engine.Engine [raw sql] ()\n",
      "2021-05-03 15:38:11,812 INFO sqlalchemy.engine.Engine PRAGMA temp.table_info(\"stockInTaiwan\")\n",
      "2021-05-03 15:38:11,813 INFO sqlalchemy.engine.Engine [raw sql] ()\n",
      "2021-05-03 15:38:11,814 INFO sqlalchemy.engine.Engine \n",
      "CREATE TABLE \"stockInTaiwan\" (\n",
      "\tid INTEGER NOT NULL, \n",
      "\t\"證券代號\" VARCHAR(20), \n",
      "\t\"證券名稱\" VARCHAR(20), \n",
      "\t\"成交股數\" INTEGER, \n",
      "\t\"成交金額\" INTEGER, \n",
      "\t\"開盤價\" FLOAT, \n",
      "\t\"最高價\" FLOAT, \n",
      "\t\"最低價\" FLOAT, \n",
      "\t\"收盤價\" FLOAT, \n",
      "\t\"漲跌價差\" FLOAT, \n",
      "\t\"成交筆數\" INTEGER, \n",
      "\tPRIMARY KEY (id)\n",
      ")\n",
      "\n",
      "\n",
      "2021-05-03 15:38:11,815 INFO sqlalchemy.engine.Engine [no key 0.00065s] ()\n",
      "2021-05-03 15:38:11,817 INFO sqlalchemy.engine.Engine COMMIT\n"
     ]
    }
   ],
   "source": [
    "Base.metadata.create_all(engine)"
   ]
  },
  {
   "cell_type": "code",
   "execution_count": 8,
   "id": "3ce70d84",
   "metadata": {},
   "outputs": [
    {
     "name": "stdout",
     "output_type": "stream",
     "text": [
      "['0050', '元大台灣50', '6666000', '924033100', '140.40', '140.40', '138.10', '138.25', '-2.3500', '3957']\n",
      "['0051', '元大中型100', '185000', '10284950', '55.95', '56.10', '55.00', '55.00', '-1.2000', '91']\n",
      "['0052', '富邦科技', '1130000', '143084000', '128.75', '128.75', '126.00', '126.00', '-3.5500', '624']\n",
      "['0053', '元大電子', '25000', '1701050', '69.00', '69.00', '67.05', '67.25', '-1.3500', '23']\n",
      "['0054', '元大台商50', '8000', '257040', '32.32', '32.32', '32.00', '32.00', '-0.5500', '8']\n",
      "['0055', '元大MSCI金融', '300000', '6334090', '21.12', '21.36', '21.06', '21.06', '0.0100', '117']\n",
      "['0056', '元大高股息', '15569000', '560718730', '36.12', '36.17', '35.90', '35.91', '-0.2100', '7826']\n",
      "['0057', '富邦摩台', '22000', '2073500', '94.45', '94.45', '94.05', '94.05', '-1.9500', '4']\n",
      "['0061', '元大寶滬深', '217000', '5083220', '23.45', '23.50', '23.33', '23.33', '-0.2200', '122']\n",
      "['006203', '元大MSCI台灣', '10000', '656150', '65.65', '65.65', '65.30', '65.30', '-1.9000', '6']\n",
      "['006204', '永豐臺灣加權', '20000', '1761000', '88.05', '88.05', '88.05', '88.05', '-1.1500', '2']\n",
      "['006205', '富邦上証', '960000', '35958440', '37.78', '37.78', '37.33', '37.35', '-0.5400', '220']\n",
      "['006206', '元大上證50', '109000', '4119970', '38.05', '38.05', '37.59', '37.64', '-0.4500', '50']\n",
      "['006207', 'FH滬深', '152000', '4609150', '30.32', '30.57', '30.23', '30.23', '-0.4500', '16']\n",
      "['006208', '富邦台50', '2283000', '181737550', '80.65', '80.65', '79.30', '79.35', '-1.4000', '1515']\n",
      "['00625K', '富邦上証+R', '', '', '', '', '', '', '0.0000', '']\n"
     ]
    },
    {
     "ename": "ValueError",
     "evalue": "invalid literal for int() with base 10: ''",
     "output_type": "error",
     "traceback": [
      "\u001b[0;31m---------------------------------------------------------------------------\u001b[0m",
      "\u001b[0;31mValueError\u001b[0m                                Traceback (most recent call last)",
      "\u001b[0;32m<ipython-input-8-7ea4c8ea24bd>\u001b[0m in \u001b[0;36m<module>\u001b[0;34m\u001b[0m\n\u001b[1;32m     10\u001b[0m         \u001b[0mnewStock\u001b[0m\u001b[0;34m.\u001b[0m\u001b[0m證券代號\u001b[0m \u001b[0;34m=\u001b[0m \u001b[0mrow\u001b[0m\u001b[0;34m[\u001b[0m\u001b[0;36m0\u001b[0m\u001b[0;34m]\u001b[0m\u001b[0;34m\u001b[0m\u001b[0;34m\u001b[0m\u001b[0m\n\u001b[1;32m     11\u001b[0m         \u001b[0mnewStock\u001b[0m\u001b[0;34m.\u001b[0m\u001b[0m證券名稱\u001b[0m \u001b[0;34m=\u001b[0m \u001b[0mrow\u001b[0m\u001b[0;34m[\u001b[0m\u001b[0;36m1\u001b[0m\u001b[0;34m]\u001b[0m\u001b[0;34m\u001b[0m\u001b[0;34m\u001b[0m\u001b[0m\n\u001b[0;32m---> 12\u001b[0;31m         \u001b[0mnewStock\u001b[0m\u001b[0;34m.\u001b[0m\u001b[0m成交股數\u001b[0m \u001b[0;34m=\u001b[0m \u001b[0mint\u001b[0m\u001b[0;34m(\u001b[0m\u001b[0mrow\u001b[0m\u001b[0;34m[\u001b[0m\u001b[0;36m2\u001b[0m\u001b[0;34m]\u001b[0m\u001b[0;34m)\u001b[0m\u001b[0;34m\u001b[0m\u001b[0;34m\u001b[0m\u001b[0m\n\u001b[0m\u001b[1;32m     13\u001b[0m         \u001b[0mnewStock\u001b[0m\u001b[0;34m.\u001b[0m\u001b[0m成交金額\u001b[0m \u001b[0;34m=\u001b[0m \u001b[0mint\u001b[0m\u001b[0;34m(\u001b[0m\u001b[0mrow\u001b[0m\u001b[0;34m[\u001b[0m\u001b[0;36m3\u001b[0m\u001b[0;34m]\u001b[0m\u001b[0;34m)\u001b[0m\u001b[0;34m\u001b[0m\u001b[0;34m\u001b[0m\u001b[0m\n\u001b[1;32m     14\u001b[0m         \u001b[0mnewStock\u001b[0m\u001b[0;34m.\u001b[0m\u001b[0m開盤價\u001b[0m \u001b[0;34m=\u001b[0m \u001b[0mfloat\u001b[0m\u001b[0;34m(\u001b[0m\u001b[0mrow\u001b[0m\u001b[0;34m[\u001b[0m\u001b[0;36m4\u001b[0m\u001b[0;34m]\u001b[0m\u001b[0;34m)\u001b[0m\u001b[0;34m\u001b[0m\u001b[0;34m\u001b[0m\u001b[0m\n",
      "\u001b[0;31mValueError\u001b[0m: invalid literal for int() with base 10: ''"
     ]
    }
   ],
   "source": [
    "import csv\n",
    "from sqlalchemy.orm import Session\n",
    "\n",
    "def toFloat(value):\n",
    "    try:\n",
    "        return float(value)\n",
    "    except:\n",
    "        return 0.0\n",
    "\n",
    "def toInt(value):\n",
    "    try:\n",
    "        return int(value)\n",
    "    except:\n",
    "        return 0.0\n",
    "\n",
    "session = Session(engine)\n",
    "with open('stock_day.csv',newline='',encoding='utf8') as csvFile:\n",
    "    rows = csv.reader(csvFile)\n",
    "    next(rows)\n",
    "    for row in rows:\n",
    "        print(row)\n",
    "        newStock = Stock()\n",
    "        newStock.證券代號 = row[0]\n",
    "        newStock.證券名稱 = row[1]\n",
    "        newStock.成交股數 = toInt(row[2])\n",
    "        newStock.成交金額 = toInt(row[3])\n",
    "        newStock.開盤價 = toFloat(row[4])\n",
    "        newStock.最高價 = toFloat(row[5])\n",
    "        newStock.最低價 = toFloat(row[6])\n",
    "        newStock.收盤價 = toFloat(row[7])\n",
    "        newStock.漲跌價差 = toFloat(row[8])\n",
    "        newStock.成交筆數 = toInt(row[9])\n",
    "        session.add(newStock)\n",
    "    session.commit()\n",
    "        "
   ]
  },
  {
   "cell_type": "code",
   "execution_count": null,
   "id": "4a15e236",
   "metadata": {},
   "outputs": [],
   "source": []
  }
 ],
 "metadata": {
  "kernelspec": {
   "display_name": "Python 3",
   "language": "python",
   "name": "python3"
  },
  "language_info": {
   "codemirror_mode": {
    "name": "ipython",
    "version": 3
   },
   "file_extension": ".py",
   "mimetype": "text/x-python",
   "name": "python",
   "nbconvert_exporter": "python",
   "pygments_lexer": "ipython3",
   "version": "3.8.7"
  }
 },
 "nbformat": 4,
 "nbformat_minor": 5
}
