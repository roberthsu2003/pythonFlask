{
 "cells": [
  {
   "cell_type": "code",
   "execution_count": 1,
   "id": "1dd051f8",
   "metadata": {},
   "outputs": [],
   "source": [
    "#create engine\n",
    "import os\n",
    "from sqlalchemy import create_engine\n",
    "enginePath = os.path.abspath('stock.sqlite')\n",
    "engine = create_engine(\"sqlite+pysqlite:///\"+enginePath, echo=True, future=True)\n",
    "\n"
   ]
  },
  {
   "cell_type": "code",
   "execution_count": 4,
   "id": "1ffa4613",
   "metadata": {},
   "outputs": [],
   "source": [
    "#declarative mapping\n",
    "from sqlalchemy.orm import declarative_base\n",
    "from sqlalchemy import Column, Integer, String, Float\n",
    "Base = declarative_base()\n",
    "class Stock(Base):\n",
    "    __tablename__ = \"stockInTaiwan\"\n",
    "    id = Column(Integer,primary_key=True)\n",
    "    證券代號 = Column(String(20))\n",
    "    證券名稱 = Column(String(20))\n",
    "    成交股數 = Column(Integer)\n",
    "    成交金額 = Column(Integer)\n",
    "    開盤價 = Column(Float)\n",
    "    最高價 = Column(Float)\n",
    "    最低價 = Column(Float)\n",
    "    收盤價 = Column(Float)\n",
    "    漲跌價差 = Column(Float)\n",
    "    成交筆數 = Column(Integer)"
   ]
  },
  {
   "cell_type": "code",
   "execution_count": 6,
   "id": "cf7c97b0",
   "metadata": {},
   "outputs": [
    {
     "name": "stdout",
     "output_type": "stream",
     "text": [
      "2021-05-03 16:26:13,274 INFO sqlalchemy.engine.Engine BEGIN (implicit)\n",
      "2021-05-03 16:26:13,275 INFO sqlalchemy.engine.Engine SELECT \"stockInTaiwan\".id AS \"stockInTaiwan_id\", \"stockInTaiwan\".\"證券代號\" AS \"stockInTaiwan_證券代號\", \"stockInTaiwan\".\"證券名稱\" AS \"stockInTaiwan_證券名稱\", \"stockInTaiwan\".\"成交股數\" AS \"stockInTaiwan_成交股數\", \"stockInTaiwan\".\"成交金額\" AS \"stockInTaiwan_成交金額\", \"stockInTaiwan\".\"開盤價\" AS \"stockInTaiwan_開盤價\", \"stockInTaiwan\".\"最高價\" AS \"stockInTaiwan_最高價\", \"stockInTaiwan\".\"最低價\" AS \"stockInTaiwan_最低價\", \"stockInTaiwan\".\"收盤價\" AS \"stockInTaiwan_收盤價\", \"stockInTaiwan\".\"漲跌價差\" AS \"stockInTaiwan_漲跌價差\", \"stockInTaiwan\".\"成交筆數\" AS \"stockInTaiwan_成交筆數\" \n",
      "FROM \"stockInTaiwan\" \n",
      "WHERE \"stockInTaiwan\".id = ?\n",
      "2021-05-03 16:26:13,276 INFO sqlalchemy.engine.Engine [cached since 30.58s ago] (4,)\n"
     ]
    },
    {
     "data": {
      "text/plain": [
       "'元大電子'"
      ]
     },
     "execution_count": 6,
     "metadata": {},
     "output_type": "execute_result"
    }
   ],
   "source": [
    "from sqlalchemy.orm import Session\n",
    "session = Session(engine)\n",
    "stock=session.get(Stock,4)\n",
    "stock.證券名稱"
   ]
  },
  {
   "cell_type": "code",
   "execution_count": null,
   "id": "e425fbf8",
   "metadata": {},
   "outputs": [],
   "source": []
  }
 ],
 "metadata": {
  "kernelspec": {
   "display_name": "Python 3",
   "language": "python",
   "name": "python3"
  },
  "language_info": {
   "codemirror_mode": {
    "name": "ipython",
    "version": 3
   },
   "file_extension": ".py",
   "mimetype": "text/x-python",
   "name": "python",
   "nbconvert_exporter": "python",
   "pygments_lexer": "ipython3",
   "version": "3.8.7"
  }
 },
 "nbformat": 4,
 "nbformat_minor": 5
}
