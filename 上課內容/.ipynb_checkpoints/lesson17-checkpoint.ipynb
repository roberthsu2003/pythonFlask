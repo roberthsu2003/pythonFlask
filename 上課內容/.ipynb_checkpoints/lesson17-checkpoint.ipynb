{
 "cells": [
  {
   "cell_type": "code",
   "execution_count": 1,
   "id": "a4a26714",
   "metadata": {},
   "outputs": [],
   "source": [
    "#create engine\n",
    "import os\n",
    "from sqlalchemy import create_engine\n",
    "enginePath = os.path.abspath('stock.sqlite')\n",
    "engine = create_engine(\"sqlite+pysqlite:///\"+enginePath, echo=True, future=True)\n",
    "\n"
   ]
  },
  {
   "cell_type": "code",
   "execution_count": 4,
   "id": "355121d8",
   "metadata": {},
   "outputs": [],
   "source": [
    "#declarative mapping\n",
    "from sqlalchemy.orm import declarative_base\n",
    "from sqlalchemy import Column, Integer, String, Float\n",
    "Base = declarative_base()\n",
    "class Stock(Base):\n",
    "    __tablename__ = \"stockInTaiwan\"\n",
    "    id = Column(Integer,primary_key=True)\n",
    "    證券代號 = Column(String(20))\n",
    "    證券名稱 = Column(String(20))\n",
    "    成交股數 = Column(Integer)\n",
    "    成交金額 = Column(Integer)\n",
    "    開盤價 = Column(Float)\n",
    "    最高價 = Column(Float)\n",
    "    最低價 = Column(Float)\n",
    "    收盤價 = Column(Float)\n",
    "    漲跌價差 = Column(Float)\n",
    "    成交筆數 = Column(Integer)"
   ]
  },
  {
   "cell_type": "code",
   "execution_count": 6,
   "id": "6fadb9f7",
   "metadata": {},
   "outputs": [
    {
     "name": "stdout",
     "output_type": "stream",
     "text": [
      "2021-05-03 16:26:13,274 INFO sqlalchemy.engine.Engine BEGIN (implicit)\n",
      "2021-05-03 16:26:13,275 INFO sqlalchemy.engine.Engine SELECT \"stockInTaiwan\".id AS \"stockInTaiwan_id\", \"stockInTaiwan\".\"證券代號\" AS \"stockInTaiwan_證券代號\", \"stockInTaiwan\".\"證券名稱\" AS \"stockInTaiwan_證券名稱\", \"stockInTaiwan\".\"成交股數\" AS \"stockInTaiwan_成交股數\", \"stockInTaiwan\".\"成交金額\" AS \"stockInTaiwan_成交金額\", \"stockInTaiwan\".\"開盤價\" AS \"stockInTaiwan_開盤價\", \"stockInTaiwan\".\"最高價\" AS \"stockInTaiwan_最高價\", \"stockInTaiwan\".\"最低價\" AS \"stockInTaiwan_最低價\", \"stockInTaiwan\".\"收盤價\" AS \"stockInTaiwan_收盤價\", \"stockInTaiwan\".\"漲跌價差\" AS \"stockInTaiwan_漲跌價差\", \"stockInTaiwan\".\"成交筆數\" AS \"stockInTaiwan_成交筆數\" \n",
      "FROM \"stockInTaiwan\" \n",
      "WHERE \"stockInTaiwan\".id = ?\n",
      "2021-05-03 16:26:13,276 INFO sqlalchemy.engine.Engine [cached since 30.58s ago] (4,)\n"
     ]
    },
    {
     "data": {
      "text/plain": [
       "'元大電子'"
      ]
     },
     "execution_count": 6,
     "metadata": {},
     "output_type": "execute_result"
    }
   ],
   "source": [
    "from sqlalchemy.orm import Session\n",
    "session = Session(engine)\n",
    "stock=session.get(Stock,4)\n",
    "stock.證券名稱"
   ]
  },
  {
   "cell_type": "code",
   "execution_count": 7,
   "id": "44f3077b",
   "metadata": {},
   "outputs": [
    {
     "data": {
      "text/plain": [
       "<sqlalchemy.orm.query.Query at 0x7f9d076818b0>"
      ]
     },
     "execution_count": 7,
     "metadata": {},
     "output_type": "execute_result"
    }
   ],
   "source": [
    "query=session.query(Stock)\n",
    "query"
   ]
  },
  {
   "cell_type": "code",
   "execution_count": 14,
   "id": "acd95d96",
   "metadata": {},
   "outputs": [
    {
     "name": "stdout",
     "output_type": "stream",
     "text": [
      "2021-05-03 16:46:04,514 INFO sqlalchemy.engine.Engine SELECT \"stockInTaiwan\".id AS \"stockInTaiwan_id\", \"stockInTaiwan\".\"證券代號\" AS \"stockInTaiwan_證券代號\", \"stockInTaiwan\".\"證券名稱\" AS \"stockInTaiwan_證券名稱\", \"stockInTaiwan\".\"成交股數\" AS \"stockInTaiwan_成交股數\", \"stockInTaiwan\".\"成交金額\" AS \"stockInTaiwan_成交金額\", \"stockInTaiwan\".\"開盤價\" AS \"stockInTaiwan_開盤價\", \"stockInTaiwan\".\"最高價\" AS \"stockInTaiwan_最高價\", \"stockInTaiwan\".\"最低價\" AS \"stockInTaiwan_最低價\", \"stockInTaiwan\".\"收盤價\" AS \"stockInTaiwan_收盤價\", \"stockInTaiwan\".\"漲跌價差\" AS \"stockInTaiwan_漲跌價差\", \"stockInTaiwan\".\"成交筆數\" AS \"stockInTaiwan_成交筆數\" \n",
      "FROM \"stockInTaiwan\" \n",
      "WHERE \"stockInTaiwan\".\"成交股數\" <= ?\n",
      "2021-05-03 16:46:04,515 INFO sqlalchemy.engine.Engine [generated in 0.00112s] (25000,)\n",
      "元大電子\n",
      "元大台商50\n",
      "富邦摩台\n",
      "元大MSCI台灣\n",
      "永豐臺灣加權\n",
      "富邦上証+R\n",
      "國泰中國A50+U\n",
      "群益深証中小+R\n",
      "國泰日經225+U\n",
      "元大歐洲50\n",
      "國泰美國道瓊+U\n",
      "元大美債20反1\n",
      "期元大美元指反1\n",
      "群益臺灣加權正2\n",
      "期元大S&P日圓反1\n",
      "新光中國政金綠債\n",
      "新光中政金綠債+R\n",
      "新光投等債15+\n",
      "BP上證50\n",
      "土銀富邦R1\n",
      "富邦特選蘋果N\n",
      "元富新中國N\n",
      "兆豐電菁英30N\n",
      "永昌中小300N\n",
      "凱基臺灣500N\n",
      "元大特股高息N\n",
      "統一MSCI美低波N\n",
      "統一MSCI美科技N\n",
      "富邦蘋果反一N\n",
      "台泥乙特\n",
      "大飲\n",
      "國喬特\n",
      "華友聯\n",
      "隴華\n",
      "統懋\n",
      "高雄銀甲特\n",
      "國泰金乙特\n",
      "一零四\n",
      "大眾控\n",
      "永新-KY\n",
      "雙鍵\n",
      "台南-KY\n",
      "華上\n",
      "羅麗芬-KY\n",
      "基勝-KY\n",
      "波力-KY\n",
      "中視\n",
      "欣高\n",
      "裕融甲特\n"
     ]
    }
   ],
   "source": [
    "filterObj=query.filter(Stock.成交股數 <= 25000)\n",
    "stockList=filterObj.all()\n",
    "for stock in stockList:\n",
    "    print(stock.證券名稱)"
   ]
  },
  {
   "cell_type": "code",
   "execution_count": 17,
   "id": "f2dd36f4",
   "metadata": {},
   "outputs": [
    {
     "name": "stdout",
     "output_type": "stream",
     "text": [
      "2021-05-03 16:48:17,343 INFO sqlalchemy.engine.Engine SELECT \"stockInTaiwan\".id AS \"stockInTaiwan_id\", \"stockInTaiwan\".\"證券代號\" AS \"stockInTaiwan_證券代號\", \"stockInTaiwan\".\"證券名稱\" AS \"stockInTaiwan_證券名稱\", \"stockInTaiwan\".\"成交股數\" AS \"stockInTaiwan_成交股數\", \"stockInTaiwan\".\"成交金額\" AS \"stockInTaiwan_成交金額\", \"stockInTaiwan\".\"開盤價\" AS \"stockInTaiwan_開盤價\", \"stockInTaiwan\".\"最高價\" AS \"stockInTaiwan_最高價\", \"stockInTaiwan\".\"最低價\" AS \"stockInTaiwan_最低價\", \"stockInTaiwan\".\"收盤價\" AS \"stockInTaiwan_收盤價\", \"stockInTaiwan\".\"漲跌價差\" AS \"stockInTaiwan_漲跌價差\", \"stockInTaiwan\".\"成交筆數\" AS \"stockInTaiwan_成交筆數\" \n",
      "FROM \"stockInTaiwan\" \n",
      "WHERE \"stockInTaiwan\".\"成交股數\" <= ?\n",
      "2021-05-03 16:48:17,344 INFO sqlalchemy.engine.Engine [cached since 132.8s ago] (25000,)\n",
      "元大電子\n",
      "元大台商50\n",
      "富邦摩台\n",
      "元大MSCI台灣\n",
      "永豐臺灣加權\n",
      "富邦上証+R\n",
      "國泰中國A50+U\n",
      "群益深証中小+R\n",
      "國泰日經225+U\n",
      "元大歐洲50\n",
      "國泰美國道瓊+U\n",
      "元大美債20反1\n",
      "期元大美元指反1\n",
      "群益臺灣加權正2\n",
      "期元大S&P日圓反1\n",
      "新光中國政金綠債\n",
      "新光中政金綠債+R\n",
      "新光投等債15+\n",
      "BP上證50\n",
      "土銀富邦R1\n",
      "富邦特選蘋果N\n",
      "元富新中國N\n",
      "兆豐電菁英30N\n",
      "永昌中小300N\n",
      "凱基臺灣500N\n",
      "元大特股高息N\n",
      "統一MSCI美低波N\n",
      "統一MSCI美科技N\n",
      "富邦蘋果反一N\n",
      "台泥乙特\n",
      "大飲\n",
      "國喬特\n",
      "華友聯\n",
      "隴華\n",
      "統懋\n",
      "高雄銀甲特\n",
      "國泰金乙特\n",
      "一零四\n",
      "大眾控\n",
      "永新-KY\n",
      "雙鍵\n",
      "台南-KY\n",
      "華上\n",
      "羅麗芬-KY\n",
      "基勝-KY\n",
      "波力-KY\n",
      "中視\n",
      "欣高\n",
      "裕融甲特\n"
     ]
    }
   ],
   "source": [
    "for stock in session.query(Stock).filter(Stock.成交股數 <= 25000).all():\n",
    "    print(stock.證券名稱)\n"
   ]
  },
  {
   "cell_type": "code",
   "execution_count": 20,
   "id": "e66594fc",
   "metadata": {},
   "outputs": [
    {
     "name": "stdout",
     "output_type": "stream",
     "text": [
      "2021-05-03 16:51:51,140 INFO sqlalchemy.engine.Engine SELECT \"stockInTaiwan\".id AS \"stockInTaiwan_id\", \"stockInTaiwan\".\"證券代號\" AS \"stockInTaiwan_證券代號\", \"stockInTaiwan\".\"證券名稱\" AS \"stockInTaiwan_證券名稱\", \"stockInTaiwan\".\"成交股數\" AS \"stockInTaiwan_成交股數\", \"stockInTaiwan\".\"成交金額\" AS \"stockInTaiwan_成交金額\", \"stockInTaiwan\".\"開盤價\" AS \"stockInTaiwan_開盤價\", \"stockInTaiwan\".\"最高價\" AS \"stockInTaiwan_最高價\", \"stockInTaiwan\".\"最低價\" AS \"stockInTaiwan_最低價\", \"stockInTaiwan\".\"收盤價\" AS \"stockInTaiwan_收盤價\", \"stockInTaiwan\".\"漲跌價差\" AS \"stockInTaiwan_漲跌價差\", \"stockInTaiwan\".\"成交筆數\" AS \"stockInTaiwan_成交筆數\" \n",
      "FROM \"stockInTaiwan\" \n",
      "WHERE \"stockInTaiwan\".\"證券名稱\" = ?\n",
      "2021-05-03 16:51:51,141 INFO sqlalchemy.engine.Engine [cached since 162.3s ago] ('台積電',)\n",
      "開盤價 595.0\n",
      "收盤價 588.0\n",
      "漲跌價差 -12.0\n"
     ]
    }
   ],
   "source": [
    "for stock in session.query(Stock).filter(Stock.證券名稱 == '台積電').all():\n",
    "    print('開盤價',stock.開盤價)\n",
    "    print('收盤價',stock.收盤價)\n",
    "    print('漲跌價差',stock.漲跌價差)"
   ]
  },
  {
   "cell_type": "code",
   "execution_count": null,
   "id": "0f3a0cd3",
   "metadata": {},
   "outputs": [],
   "source": []
  }
 ],
 "metadata": {
  "kernelspec": {
   "display_name": "Python 3",
   "language": "python",
   "name": "python3"
  },
  "language_info": {
   "codemirror_mode": {
    "name": "ipython",
    "version": 3
   },
   "file_extension": ".py",
   "mimetype": "text/x-python",
   "name": "python",
   "nbconvert_exporter": "python",
   "pygments_lexer": "ipython3",
   "version": "3.8.7"
  }
 },
 "nbformat": 4,
 "nbformat_minor": 5
}
