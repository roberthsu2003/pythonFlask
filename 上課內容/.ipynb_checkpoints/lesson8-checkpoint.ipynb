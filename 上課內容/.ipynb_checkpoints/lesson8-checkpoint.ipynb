{
 "cells": [
  {
   "cell_type": "code",
   "execution_count": 2,
   "id": "4a1751e4",
   "metadata": {},
   "outputs": [
    {
     "name": "stdout",
     "output_type": "stream",
     "text": [
      "呼叫函式\n"
     ]
    }
   ],
   "source": [
    "def func_sum():\n",
    "    print(\"呼叫函式\")\n",
    "    \n",
    "\n",
    "func_sum()"
   ]
  },
  {
   "cell_type": "code",
   "execution_count": 3,
   "id": "b4326986",
   "metadata": {},
   "outputs": [],
   "source": [
    "def do_nothing():\n",
    "    pass\n",
    "\n",
    "do_nothing()"
   ]
  },
  {
   "cell_type": "code",
   "execution_count": 4,
   "id": "f81e6cf7",
   "metadata": {},
   "outputs": [
    {
     "name": "stdout",
     "output_type": "stream",
     "text": [
      "7\n"
     ]
    }
   ],
   "source": [
    "def func_sum(a, b):\n",
    "    c = a+b\n",
    "    print(c)\n",
    "    \n",
    "func_sum(3, 4)\n"
   ]
  },
  {
   "cell_type": "code",
   "execution_count": 9,
   "id": "527d2adb",
   "metadata": {},
   "outputs": [
    {
     "data": {
      "text/plain": [
       "4"
      ]
     },
     "execution_count": 9,
     "metadata": {},
     "output_type": "execute_result"
    }
   ],
   "source": [
    "for i in range(3,5):\n",
    "    a = i\n",
    "\n",
    "def func_sum(a, b):\n",
    "    c = a+b\n",
    "    return c\n",
    "z = func_sum(10, 15)\n",
    "a"
   ]
  },
  {
   "cell_type": "code",
   "execution_count": 14,
   "id": "cf48c0bf",
   "metadata": {},
   "outputs": [
    {
     "name": "stdout",
     "output_type": "stream",
     "text": [
      "請輸入攝氏溫度:26\n",
      "華氏溫度=78.80\n",
      "程式還要繼續嗎?(輸入N...結束)\n",
      "請輸入攝氏溫度:27\n",
      "華氏溫度=80.60\n",
      "程式還要繼續嗎?(輸入N...結束)n\n"
     ]
    }
   ],
   "source": [
    "def temperature(value):\n",
    "    return 1.8 * value + 32\n",
    "\n",
    "runAgain = True\n",
    "\n",
    "while(runAgain):\n",
    "    value = int(input(\"請輸入攝氏溫度:\"))\n",
    "    result = temperature(value)\n",
    "    print(\"華氏溫度=%.2f\" % result)\n",
    "    inputValue = input('程式還要繼續嗎?(輸入N...結束)')\n",
    "    if inputValue.upper() == \"N\":\n",
    "        runAgain = False\n",
    "    else:\n",
    "        runAgain = True"
   ]
  },
  {
   "cell_type": "code",
   "execution_count": 15,
   "id": "12b5ad5c",
   "metadata": {},
   "outputs": [
    {
     "name": "stdout",
     "output_type": "stream",
     "text": [
      "1 8 15\n"
     ]
    }
   ],
   "source": [
    "#傳出多個值\n",
    "def manyvalue(a, b):\n",
    "    c = a *b\n",
    "    return (a-2, b+3, c)\n",
    "\n",
    "x, y, z = manyvalue(3, 5)\n",
    "print(x, y, z)"
   ]
  },
  {
   "cell_type": "code",
   "execution_count": 17,
   "id": "0c271eb0",
   "metadata": {},
   "outputs": [
    {
     "name": "stdout",
     "output_type": "stream",
     "text": [
      "請輸入初始速度:50\n",
      "加速前速度: 50\n",
      "加速後的速度: 60\n"
     ]
    }
   ],
   "source": [
    "#call by value\n",
    "def turbo(speed):\n",
    "    print(\"加速前速度:\", speed)\n",
    "    speed += 10\n",
    "    return speed\n",
    "   \n",
    "\n",
    "speed = int(input('請輸入初始速度:'))\n",
    "speed=turbo(speed)\n",
    "print(\"加速後的速度:\",speed)"
   ]
  },
  {
   "cell_type": "code",
   "execution_count": 18,
   "id": "0b875845",
   "metadata": {},
   "outputs": [
    {
     "name": "stdout",
     "output_type": "stream",
     "text": [
      "請輸入初始速度:50\n",
      "加速前速度: 50\n",
      "加速後速度 60\n"
     ]
    }
   ],
   "source": [
    "#call by Reference\n",
    "def turbo(listSpeed):\n",
    "    print(\"加速前速度:\", listSpeed[0])\n",
    "    listSpeed[0] += 10\n",
    "\n",
    "s = int(input('請輸入初始速度:'))\n",
    "listS = [s]\n",
    "turbo(listS)\n",
    "print('加速後速度',listS[0])\n"
   ]
  },
  {
   "cell_type": "code",
   "execution_count": 20,
   "id": "f9299006",
   "metadata": {},
   "outputs": [
    {
     "name": "stdout",
     "output_type": "stream",
     "text": [
      "函式內: 10\n",
      "函式外的: 5\n"
     ]
    }
   ],
   "source": [
    "a = 5\n",
    "def func_sum():\n",
    "    a = 10\n",
    "    print(\"函式內:\", a)\n",
    "    \n",
    "func_sum()\n",
    "print('函式外的:',a)"
   ]
  },
  {
   "cell_type": "code",
   "execution_count": 21,
   "id": "d8045ddb",
   "metadata": {},
   "outputs": [
    {
     "name": "stdout",
     "output_type": "stream",
     "text": [
      "函式內: 5\n",
      "函式外的: 5\n"
     ]
    }
   ],
   "source": [
    "a = 5\n",
    "def func_sum():\n",
    "    #a = 10\n",
    "    print(\"函式內:\", a)\n",
    "    \n",
    "func_sum()\n",
    "print('函式外的:',a)"
   ]
  },
  {
   "cell_type": "code",
   "execution_count": 22,
   "id": "bff135b6",
   "metadata": {},
   "outputs": [
    {
     "name": "stdout",
     "output_type": "stream",
     "text": [
      "函式內: 10\n",
      "函式外的: 10\n"
     ]
    }
   ],
   "source": [
    "a = 5\n",
    "def func_sum():\n",
    "    global a\n",
    "    a = 10\n",
    "    print(\"函式內:\",a)\n",
    "\n",
    "func_sum()\n",
    "print('函式外的:',a)"
   ]
  },
  {
   "cell_type": "code",
   "execution_count": 24,
   "id": "48c8feda",
   "metadata": {},
   "outputs": [
    {
     "name": "stdout",
     "output_type": "stream",
     "text": [
      "呼叫失敗\n"
     ]
    }
   ],
   "source": [
    "def container(value):\n",
    "    if value in [1, 2, 3, 4, 5]:\n",
    "        print('值有保含1,2,3,4,5')\n",
    "        return value\n",
    "    else:\n",
    "        return None\n",
    "    \n",
    "receiveValue = container(6)\n",
    "\n",
    "if receiveValue:\n",
    "    print(\"呼叫成功\")\n",
    "else:\n",
    "    print(\"呼叫失敗\")\n",
    "    \n"
   ]
  },
  {
   "cell_type": "code",
   "execution_count": 25,
   "id": "5ff43ee2",
   "metadata": {},
   "outputs": [
    {
     "name": "stdout",
     "output_type": "stream",
     "text": [
      "呼叫失敗\n"
     ]
    }
   ],
   "source": [
    "def container(value):\n",
    "    if value in [1, 2, 3, 4, 5]:\n",
    "        print('值有保含1,2,3,4,5')\n",
    "        return value\n",
    "    else:\n",
    "        return None\n",
    "    \n",
    "receiveValue = container(6)\n",
    "\n",
    "if receiveValue is None:\n",
    "    print(\"呼叫失敗\")\n",
    "\n",
    "    "
   ]
  },
  {
   "cell_type": "code",
   "execution_count": null,
   "id": "ce5d330c",
   "metadata": {},
   "outputs": [],
   "source": []
  }
 ],
 "metadata": {
  "kernelspec": {
   "display_name": "Python 3",
   "language": "python",
   "name": "python3"
  },
  "language_info": {
   "codemirror_mode": {
    "name": "ipython",
    "version": 3
   },
   "file_extension": ".py",
   "mimetype": "text/x-python",
   "name": "python",
   "nbconvert_exporter": "python",
   "pygments_lexer": "ipython3",
   "version": "3.8.7"
  }
 },
 "nbformat": 4,
 "nbformat_minor": 5
}
