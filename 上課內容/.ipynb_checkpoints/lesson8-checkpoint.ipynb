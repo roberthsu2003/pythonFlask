{
 "cells": [
  {
   "cell_type": "code",
   "execution_count": 2,
   "id": "2ff156ae",
   "metadata": {},
   "outputs": [
    {
     "name": "stdout",
     "output_type": "stream",
     "text": [
      "呼叫函式\n"
     ]
    }
   ],
   "source": [
    "def func_sum():\n",
    "    print(\"呼叫函式\")\n",
    "    \n",
    "\n",
    "func_sum()"
   ]
  },
  {
   "cell_type": "code",
   "execution_count": 3,
   "id": "81bb2d2a",
   "metadata": {},
   "outputs": [],
   "source": [
    "def do_nothing():\n",
    "    pass\n",
    "\n",
    "do_nothing()"
   ]
  },
  {
   "cell_type": "code",
   "execution_count": 4,
   "id": "68424bba",
   "metadata": {},
   "outputs": [
    {
     "name": "stdout",
     "output_type": "stream",
     "text": [
      "7\n"
     ]
    }
   ],
   "source": [
    "def func_sum(a, b):\n",
    "    c = a+b\n",
    "    print(c)\n",
    "    \n",
    "func_sum(3, 4)\n"
   ]
  },
  {
   "cell_type": "code",
   "execution_count": 9,
   "id": "ad5ab67b",
   "metadata": {},
   "outputs": [
    {
     "data": {
      "text/plain": [
       "4"
      ]
     },
     "execution_count": 9,
     "metadata": {},
     "output_type": "execute_result"
    }
   ],
   "source": [
    "for i in range(3,5):\n",
    "    a = i\n",
    "\n",
    "def func_sum(a, b):\n",
    "    c = a+b\n",
    "    return c\n",
    "z = func_sum(10, 15)\n",
    "a"
   ]
  },
  {
   "cell_type": "code",
   "execution_count": 14,
   "id": "77b1779d",
   "metadata": {},
   "outputs": [
    {
     "name": "stdout",
     "output_type": "stream",
     "text": [
      "請輸入攝氏溫度:26\n",
      "華氏溫度=78.80\n",
      "程式還要繼續嗎?(輸入N...結束)\n",
      "請輸入攝氏溫度:27\n",
      "華氏溫度=80.60\n",
      "程式還要繼續嗎?(輸入N...結束)n\n"
     ]
    }
   ],
   "source": [
    "def temperature(value):\n",
    "    return 1.8 * value + 32\n",
    "\n",
    "runAgain = True\n",
    "\n",
    "while(runAgain):\n",
    "    value = int(input(\"請輸入攝氏溫度:\"))\n",
    "    result = temperature(value)\n",
    "    print(\"華氏溫度=%.2f\" % result)\n",
    "    inputValue = input('程式還要繼續嗎?(輸入N...結束)')\n",
    "    if inputValue.upper() == \"N\":\n",
    "        runAgain = False\n",
    "    else:\n",
    "        runAgain = True"
   ]
  },
  {
   "cell_type": "code",
   "execution_count": 15,
   "id": "a858a26b",
   "metadata": {},
   "outputs": [
    {
     "name": "stdout",
     "output_type": "stream",
     "text": [
      "1 8 15\n"
     ]
    }
   ],
   "source": [
    "#傳出多個值\n",
    "def manyvalue(a, b):\n",
    "    c = a *b\n",
    "    return (a-2, b+3, c)\n",
    "\n",
    "x, y, z = manyvalue(3, 5)\n",
    "print(x, y, z)"
   ]
  },
  {
   "cell_type": "code",
   "execution_count": 17,
   "id": "bb6f0992",
   "metadata": {},
   "outputs": [
    {
     "name": "stdout",
     "output_type": "stream",
     "text": [
      "請輸入初始速度:50\n",
      "加速前速度: 50\n",
      "加速後的速度: 60\n"
     ]
    }
   ],
   "source": [
    "#call by value\n",
    "def turbo(speed):\n",
    "    print(\"加速前速度:\", speed)\n",
    "    speed += 10\n",
    "    return speed\n",
    "   \n",
    "\n",
    "speed = int(input('請輸入初始速度:'))\n",
    "speed=turbo(speed)\n",
    "print(\"加速後的速度:\",speed)"
   ]
  },
  {
   "cell_type": "code",
   "execution_count": 18,
   "id": "8f834205",
   "metadata": {},
   "outputs": [
    {
     "name": "stdout",
     "output_type": "stream",
     "text": [
      "請輸入初始速度:50\n",
      "加速前速度: 50\n",
      "加速後速度 60\n"
     ]
    }
   ],
   "source": [
    "#call by Reference\n",
    "def turbo(listSpeed):\n",
    "    print(\"加速前速度:\", listSpeed[0])\n",
    "    listSpeed[0] += 10\n",
    "\n",
    "s = int(input('請輸入初始速度:'))\n",
    "listS = [s]\n",
    "turbo(listS)\n",
    "print('加速後速度',listS[0])\n"
   ]
  },
  {
   "cell_type": "code",
   "execution_count": null,
   "id": "7e3ff00d",
   "metadata": {},
   "outputs": [],
   "source": []
  }
 ],
 "metadata": {
  "kernelspec": {
   "display_name": "Python 3",
   "language": "python",
   "name": "python3"
  },
  "language_info": {
   "codemirror_mode": {
    "name": "ipython",
    "version": 3
   },
   "file_extension": ".py",
   "mimetype": "text/x-python",
   "name": "python",
   "nbconvert_exporter": "python",
   "pygments_lexer": "ipython3",
   "version": "3.8.7"
  }
 },
 "nbformat": 4,
 "nbformat_minor": 5
}
