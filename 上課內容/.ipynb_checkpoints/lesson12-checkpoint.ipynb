{
 "cells": [
  {
   "cell_type": "code",
   "execution_count": 1,
   "id": "27465d22",
   "metadata": {},
   "outputs": [
    {
     "data": {
      "text/plain": [
       "<__main__.Person at 0x7fce1b3a0250>"
      ]
     },
     "execution_count": 1,
     "metadata": {},
     "output_type": "execute_result"
    }
   ],
   "source": [
    "class Person:\n",
    "    pass\n",
    "\n",
    "p1 = Person()\n",
    "p1"
   ]
  },
  {
   "cell_type": "code",
   "execution_count": 2,
   "id": "98a0fbf3",
   "metadata": {},
   "outputs": [
    {
     "data": {
      "text/plain": [
       "<__main__.Person at 0x7fce1b3a0460>"
      ]
     },
     "execution_count": 2,
     "metadata": {},
     "output_type": "execute_result"
    }
   ],
   "source": [
    "p2 = Person()\n",
    "p2"
   ]
  },
  {
   "cell_type": "code",
   "execution_count": 6,
   "id": "16e0cead",
   "metadata": {},
   "outputs": [
    {
     "name": "stdout",
     "output_type": "stream",
     "text": [
      "執行init\n"
     ]
    },
    {
     "data": {
      "text/plain": [
       "'robert'"
      ]
     },
     "execution_count": 6,
     "metadata": {},
     "output_type": "execute_result"
    }
   ],
   "source": [
    "class Person:    \n",
    "    def __init__(self,name):\n",
    "        print(\"執行init\")\n",
    "        self.name = name\n",
    "        \n",
    "p3 = Person(name=\"robert\")\n",
    "p3.name"
   ]
  },
  {
   "cell_type": "code",
   "execution_count": 7,
   "id": "ed718f94",
   "metadata": {},
   "outputs": [
    {
     "name": "stdout",
     "output_type": "stream",
     "text": [
      "執行init\n"
     ]
    },
    {
     "data": {
      "text/plain": [
       "'susan'"
      ]
     },
     "execution_count": 7,
     "metadata": {},
     "output_type": "execute_result"
    }
   ],
   "source": [
    "p4 = Person(name=\"susan\")\n",
    "p4.name"
   ]
  },
  {
   "cell_type": "code",
   "execution_count": null,
   "id": "84edfece",
   "metadata": {},
   "outputs": [],
   "source": [
    "#繼承\n",
    "class Car():\n",
    "    def exclaim(self):\n",
    "        print(\"我是車子\")\n",
    "\n",
    "class Yugo(Car):\n",
    "    pass"
   ]
  }
 ],
 "metadata": {
  "kernelspec": {
   "display_name": "Python 3",
   "language": "python",
   "name": "python3"
  },
  "language_info": {
   "codemirror_mode": {
    "name": "ipython",
    "version": 3
   },
   "file_extension": ".py",
   "mimetype": "text/x-python",
   "name": "python",
   "nbconvert_exporter": "python",
   "pygments_lexer": "ipython3",
   "version": "3.8.7"
  }
 },
 "nbformat": 4,
 "nbformat_minor": 5
}
