{
 "cells": [
  {
   "cell_type": "code",
   "execution_count": 10,
   "id": "fdd441d6",
   "metadata": {},
   "outputs": [
    {
     "data": {
      "text/plain": [
       "Engine(sqlite+pysqlite:////Users/roberthsu2003/Documents/GitHub/pythonFlask/上課內容/data.sqlite)"
      ]
     },
     "execution_count": 10,
     "metadata": {},
     "output_type": "execute_result"
    }
   ],
   "source": [
    "#建立Engine\n",
    "import os\n",
    "from sqlalchemy import create_engine\n",
    "enginepath=os.path.abspath('data.sqlite')\n",
    "engine = create_engine(\"sqlite+pysqlite:///\"+enginepath, echo=True, future=True)\n",
    "engine"
   ]
  },
  {
   "cell_type": "code",
   "execution_count": 22,
   "id": "aa6e9957",
   "metadata": {},
   "outputs": [],
   "source": [
    "#declarative mapping\n",
    "\n",
    "from sqlalchemy import Column,String,Integer\n",
    "from sqlalchemy.orm import declarative_base\n",
    "Base = declarative_base()\n",
    "\n",
    "class Students(Base):\n",
    "    __tablename__ = 'students'\n",
    "    id = Column(Integer, primary_key=True)\n",
    "    name = Column(String)\n",
    "    fullname = Column(String)\n",
    "    nickname = Column(String)\n",
    "    \n",
    "    def __repr__(self):\n",
    "        return f\"<Students name={self.name}, fullname={self.fullname}, nickname={self.nickname} >\""
   ]
  },
  {
   "cell_type": "code",
   "execution_count": 23,
   "id": "c9c06a83",
   "metadata": {},
   "outputs": [
    {
     "name": "stdout",
     "output_type": "stream",
     "text": [
      "2021-05-03 13:59:56,513 INFO sqlalchemy.engine.Engine BEGIN (implicit)\n",
      "2021-05-03 13:59:56,514 INFO sqlalchemy.engine.Engine PRAGMA main.table_info(\"students\")\n",
      "2021-05-03 13:59:56,515 INFO sqlalchemy.engine.Engine [raw sql] ()\n",
      "2021-05-03 13:59:56,516 INFO sqlalchemy.engine.Engine COMMIT\n"
     ]
    }
   ],
   "source": [
    "#建立資料庫\n",
    "Base.metadata.create_all(engine)"
   ]
  },
  {
   "cell_type": "code",
   "execution_count": 24,
   "id": "f6aa5862",
   "metadata": {},
   "outputs": [
    {
     "data": {
      "text/plain": [
       "<Students name=徐國堂, fullname=男生, nickname=超人 >"
      ]
     },
     "execution_count": 24,
     "metadata": {},
     "output_type": "execute_result"
    }
   ],
   "source": [
    "#建立一筆資料\n",
    "stu1 = Students(name=\"徐國堂\",fullname=\"男生\",nickname=\"超人\")\n",
    "stu1"
   ]
  },
  {
   "cell_type": "code",
   "execution_count": 25,
   "id": "180bf581",
   "metadata": {},
   "outputs": [
    {
     "data": {
      "text/plain": [
       "<Students name=張撫遠, fullname=女生, nickname=女超人 >"
      ]
     },
     "execution_count": 25,
     "metadata": {},
     "output_type": "execute_result"
    }
   ],
   "source": [
    "stu2 = Students(name=\"張撫遠\",fullname=\"女生\",nickname=\"女超人\")\n",
    "stu2"
   ]
  },
  {
   "cell_type": "code",
   "execution_count": 27,
   "id": "cd5f837a",
   "metadata": {},
   "outputs": [
    {
     "data": {
      "text/plain": [
       "IdentitySet([<Students name=徐國堂, fullname=男生, nickname=超人 >, <Students name=張撫遠, fullname=女生, nickname=女超人 >])"
      ]
     },
     "execution_count": 27,
     "metadata": {},
     "output_type": "execute_result"
    }
   ],
   "source": [
    "#將資料加入至Session\n",
    "from sqlalchemy.orm import Session\n",
    "session = Session(engine)\n",
    "session.add(stu1)\n",
    "session.add(stu2)\n",
    "session.new"
   ]
  },
  {
   "cell_type": "code",
   "execution_count": null,
   "id": "211eada4",
   "metadata": {},
   "outputs": [],
   "source": []
  }
 ],
 "metadata": {
  "kernelspec": {
   "display_name": "Python 3",
   "language": "python",
   "name": "python3"
  },
  "language_info": {
   "codemirror_mode": {
    "name": "ipython",
    "version": 3
   },
   "file_extension": ".py",
   "mimetype": "text/x-python",
   "name": "python",
   "nbconvert_exporter": "python",
   "pygments_lexer": "ipython3",
   "version": "3.8.7"
  }
 },
 "nbformat": 4,
 "nbformat_minor": 5
}
