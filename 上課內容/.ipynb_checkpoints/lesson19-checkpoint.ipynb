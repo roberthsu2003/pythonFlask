{
 "cells": [
  {
   "cell_type": "code",
   "execution_count": 3,
   "id": "2c4ece22",
   "metadata": {},
   "outputs": [
    {
     "name": "stdout",
     "output_type": "stream",
     "text": [
      "倒數計時: 10\n",
      "倒數計時: 9\n",
      "倒數計時: 8\n",
      "倒數計時: 7\n",
      "倒數計時: 6\n",
      "倒數計時: 5\n",
      "倒數計時: 4\n",
      "倒數計時: 3\n",
      "倒數計時: 2\n",
      "倒數計時: 1\n"
     ]
    }
   ],
   "source": [
    "import time\n",
    "def countdown(n):\n",
    "    while n > 0:\n",
    "        print(\"倒數計時:\",n)\n",
    "        n -= 1\n",
    "        time.sleep(5)\n",
    "\n",
    "from threading import Thread\n",
    "t = Thread(target=countdown,args=(10,))\n",
    "t.start()"
   ]
  },
  {
   "cell_type": "code",
   "execution_count": null,
   "id": "fa4b8c2a",
   "metadata": {},
   "outputs": [],
   "source": [
    "import time\n",
    "def countdown(n):\n",
    "    while n > 0:\n",
    "        print(\"倒數計時:\",n)\n",
    "        n -= 1\n",
    "        time.sleep(5)\n",
    "\n",
    "from threading import Thread\n",
    "t = Thread(target=countdown,args=(10,))\n",
    "t.start()\n",
    "\n",
    "while t.is_alive():\n",
    "    print(\"次執行緒還在執行\")\n",
    "    time.sleep(1)\n",
    "else:\n",
    "    print(\"次執行緒執行結束\")"
   ]
  }
 ],
 "metadata": {
  "kernelspec": {
   "display_name": "Python 3",
   "language": "python",
   "name": "python3"
  },
  "language_info": {
   "codemirror_mode": {
    "name": "ipython",
    "version": 3
   },
   "file_extension": ".py",
   "mimetype": "text/x-python",
   "name": "python",
   "nbconvert_exporter": "python",
   "pygments_lexer": "ipython3",
   "version": "3.8.7"
  }
 },
 "nbformat": 4,
 "nbformat_minor": 5
}
