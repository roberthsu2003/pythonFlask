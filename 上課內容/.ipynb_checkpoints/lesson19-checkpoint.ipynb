{
 "cells": [
  {
   "cell_type": "code",
   "execution_count": 3,
   "id": "55789602",
   "metadata": {},
   "outputs": [
    {
     "name": "stdout",
     "output_type": "stream",
     "text": [
      "倒數計時: 10\n",
      "倒數計時: 9\n",
      "倒數計時: 8\n",
      "倒數計時: 7\n",
      "倒數計時: 6\n",
      "倒數計時: 5\n",
      "倒數計時: 4\n",
      "倒數計時: 3\n",
      "倒數計時: 2\n",
      "倒數計時: 1\n"
     ]
    }
   ],
   "source": [
    "import time\n",
    "def countdown(n):\n",
    "    while n > 0:\n",
    "        print(\"倒數計時:\",n)\n",
    "        n -= 1\n",
    "        time.sleep(5)\n",
    "\n",
    "from threading import Thread\n",
    "t = Thread(target=countdown,args=(10,))\n",
    "t.start()"
   ]
  },
  {
   "cell_type": "code",
   "execution_count": 4,
   "id": "feac0b69",
   "metadata": {},
   "outputs": [
    {
     "name": "stdout",
     "output_type": "stream",
     "text": [
      "倒數計時:次執行緒還在執行 10\n",
      "\n",
      "次執行緒還在執行\n",
      "次執行緒還在執行\n",
      "次執行緒還在執行\n",
      "次執行緒還在執行\n",
      "倒數計時: 9\n",
      "次執行緒還在執行\n",
      "次執行緒還在執行\n",
      "次執行緒還在執行\n",
      "次執行緒還在執行\n",
      "次執行緒還在執行\n",
      "倒數計時: 8\n",
      "次執行緒還在執行\n",
      "次執行緒還在執行\n",
      "次執行緒還在執行\n",
      "次執行緒還在執行\n",
      "次執行緒還在執行\n",
      "倒數計時: 7\n",
      "次執行緒還在執行\n",
      "次執行緒還在執行\n",
      "次執行緒還在執行\n",
      "次執行緒還在執行\n",
      "次執行緒還在執行\n",
      "倒數計時: 6\n",
      "次執行緒還在執行\n",
      "次執行緒還在執行\n",
      "次執行緒還在執行\n",
      "次執行緒還在執行\n",
      "次執行緒還在執行\n",
      "倒數計時: 5\n",
      "次執行緒還在執行\n",
      "次執行緒還在執行\n",
      "次執行緒還在執行\n",
      "次執行緒還在執行\n",
      "次執行緒還在執行\n",
      "倒數計時: 4\n",
      "次執行緒還在執行\n",
      "次執行緒還在執行\n",
      "次執行緒還在執行\n",
      "次執行緒還在執行\n",
      "次執行緒還在執行\n",
      "倒數計時: 3\n",
      "次執行緒還在執行\n",
      "次執行緒還在執行\n",
      "次執行緒還在執行\n",
      "次執行緒還在執行\n",
      "次執行緒還在執行\n",
      "倒數計時: 2\n",
      "次執行緒還在執行\n",
      "次執行緒還在執行\n",
      "次執行緒還在執行\n",
      "次執行緒還在執行\n",
      "次執行緒還在執行\n",
      "倒數計時: 1\n",
      "次執行緒還在執行\n",
      "次執行緒還在執行\n",
      "次執行緒還在執行\n",
      "次執行緒還在執行\n",
      "次執行緒還在執行\n",
      "次執行緒執行結束\n"
     ]
    }
   ],
   "source": [
    "import time\n",
    "def countdown(n):\n",
    "    while n > 0:\n",
    "        print(\"倒數計時:\",n)\n",
    "        n -= 1\n",
    "        time.sleep(5)\n",
    "\n",
    "from threading import Thread\n",
    "t = Thread(target=countdown,args=(10,))\n",
    "t.start()\n",
    "\n",
    "while t.is_alive():\n",
    "    print(\"次執行緒還在執行\")\n",
    "    time.sleep(1)\n",
    "else:\n",
    "    print(\"次執行緒執行結束\")"
   ]
  },
  {
   "cell_type": "code",
   "execution_count": 5,
   "id": "c3681ddc",
   "metadata": {},
   "outputs": [
    {
     "name": "stdout",
     "output_type": "stream",
     "text": [
      "倒數計時: 10\n",
      "倒數計時: 9\n",
      "倒數計時: 8\n",
      "倒數計時: 7\n",
      "倒數計時: 6\n",
      "倒數計時: 5\n",
      "倒數計時: 4\n",
      "倒數計時: 3\n",
      "倒數計時: 2\n",
      "倒數計時: 1\n",
      "次執行緒執行完畢\n"
     ]
    }
   ],
   "source": [
    "import time\n",
    "def countdown(n):\n",
    "    while n > 0:\n",
    "        print(\"倒數計時:\",n)\n",
    "        n -= 1\n",
    "        time.sleep(5)\n",
    "\n",
    "from threading import Thread\n",
    "t = Thread(target=countdown,args=(10,))\n",
    "t.start()\n",
    "\n",
    "t.join()\n",
    "print(\"次執行緒執行完畢\")"
   ]
  },
  {
   "cell_type": "code",
   "execution_count": 6,
   "id": "879d6efd",
   "metadata": {},
   "outputs": [
    {
     "name": "stdout",
     "output_type": "stream",
     "text": [
      "倒數計時: 5\n",
      "倒數計時: 4\n",
      "倒數計時: 3\n",
      "倒數計時: 2\n",
      "倒數計時: 1\n",
      "程式結束\n"
     ]
    }
   ],
   "source": [
    "from threading import Thread\n",
    "import time\n",
    "\n",
    "class CountdownThread(Thread):\n",
    "    def __init__(self,n):\n",
    "        super().__init__()\n",
    "        self.n = n\n",
    "    \n",
    "    def run(self):\n",
    "        while self.n > 0:\n",
    "            print('倒數計時:',self.n)\n",
    "            self.n -= 1\n",
    "            time.sleep(1)\n",
    "c = CountdownThread(5)\n",
    "c.start()\n",
    "c.join()\n",
    "print(\"程式結束\")"
   ]
  },
  {
   "cell_type": "code",
   "execution_count": null,
   "id": "f128e6e9",
   "metadata": {},
   "outputs": [],
   "source": []
  }
 ],
 "metadata": {
  "kernelspec": {
   "display_name": "Python 3",
   "language": "python",
   "name": "python3"
  },
  "language_info": {
   "codemirror_mode": {
    "name": "ipython",
    "version": 3
   },
   "file_extension": ".py",
   "mimetype": "text/x-python",
   "name": "python",
   "nbconvert_exporter": "python",
   "pygments_lexer": "ipython3",
   "version": "3.8.7"
  }
 },
 "nbformat": 4,
 "nbformat_minor": 5
}
