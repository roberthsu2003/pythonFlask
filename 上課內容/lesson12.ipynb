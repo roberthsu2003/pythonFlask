{
 "cells": [
  {
   "cell_type": "code",
   "execution_count": 1,
   "id": "2775f606",
   "metadata": {},
   "outputs": [
    {
     "data": {
      "text/plain": [
       "<__main__.Person at 0x7fce1b3a0250>"
      ]
     },
     "execution_count": 1,
     "metadata": {},
     "output_type": "execute_result"
    }
   ],
   "source": [
    "class Person:\n",
    "    pass\n",
    "\n",
    "p1 = Person()\n",
    "p1"
   ]
  },
  {
   "cell_type": "code",
   "execution_count": 2,
   "id": "5e8441fa",
   "metadata": {},
   "outputs": [
    {
     "data": {
      "text/plain": [
       "<__main__.Person at 0x7fce1b3a0460>"
      ]
     },
     "execution_count": 2,
     "metadata": {},
     "output_type": "execute_result"
    }
   ],
   "source": [
    "p2 = Person()\n",
    "p2"
   ]
  },
  {
   "cell_type": "code",
   "execution_count": 6,
   "id": "0655247e",
   "metadata": {},
   "outputs": [
    {
     "name": "stdout",
     "output_type": "stream",
     "text": [
      "執行init\n"
     ]
    },
    {
     "data": {
      "text/plain": [
       "'robert'"
      ]
     },
     "execution_count": 6,
     "metadata": {},
     "output_type": "execute_result"
    }
   ],
   "source": [
    "class Person:    \n",
    "    def __init__(self,name):\n",
    "        print(\"執行init\")\n",
    "        self.name = name\n",
    "        \n",
    "p3 = Person(name=\"robert\")\n",
    "p3.name"
   ]
  },
  {
   "cell_type": "code",
   "execution_count": 7,
   "id": "6ef2ac0d",
   "metadata": {},
   "outputs": [
    {
     "name": "stdout",
     "output_type": "stream",
     "text": [
      "執行init\n"
     ]
    },
    {
     "data": {
      "text/plain": [
       "'susan'"
      ]
     },
     "execution_count": 7,
     "metadata": {},
     "output_type": "execute_result"
    }
   ],
   "source": [
    "p4 = Person(name=\"susan\")\n",
    "p4.name"
   ]
  },
  {
   "cell_type": "code",
   "execution_count": 16,
   "id": "168fb620",
   "metadata": {},
   "outputs": [],
   "source": [
    "#繼承\n",
    "class Car():\n",
    "    def exclaim(self):\n",
    "        print(\"我是車子\")\n",
    "\n",
    "class Yugo(Car):\n",
    "    def exclaim(self):\n",
    "        print(\"我是Yugo\")\n",
    "        \n",
    "    def need_a_push(self):\n",
    "        print(\"需要我幫忙嗎?\")\n",
    "\n"
   ]
  },
  {
   "cell_type": "code",
   "execution_count": 17,
   "id": "784ca325",
   "metadata": {},
   "outputs": [
    {
     "name": "stdout",
     "output_type": "stream",
     "text": [
      "我是車子\n",
      "我是Yugo\n"
     ]
    }
   ],
   "source": [
    "give_me_a_car = Car()\n",
    "give_me_a_yugo = Yugo()\n",
    "give_me_a_car.exclaim()\n",
    "give_me_a_yugo.exclaim()"
   ]
  },
  {
   "cell_type": "code",
   "execution_count": 18,
   "id": "87321d9a",
   "metadata": {},
   "outputs": [
    {
     "name": "stdout",
     "output_type": "stream",
     "text": [
      "需要我幫忙嗎?\n"
     ]
    }
   ],
   "source": [
    "give_me_a_yugo.need_a_push()"
   ]
  },
  {
   "cell_type": "code",
   "execution_count": 23,
   "id": "d34bf865",
   "metadata": {},
   "outputs": [
    {
     "name": "stdout",
     "output_type": "stream",
     "text": [
      "Fudd\n",
      "MD robert\n",
      "JD Alice\n"
     ]
    }
   ],
   "source": [
    "class Person():\n",
    "    def __init__(self,name):\n",
    "        self.name = name\n",
    "    \n",
    "class MDPerson(Person):\n",
    "    def __init__(self,name):\n",
    "        self.name = \"MD \" + name\n",
    "\n",
    "class JDPerson(Person):\n",
    "    def __init__(self,name):\n",
    "        self.name = \"JD \" + name\n",
    "\n",
    "person = Person('Fudd')\n",
    "doctor = MDPerson('robert')\n",
    "lawyer = JDPerson('Alice')\n",
    "print(person.name)\n",
    "print(doctor.name)\n",
    "print(lawyer.name)"
   ]
  },
  {
   "cell_type": "code",
   "execution_count": null,
   "id": "7da5eee5",
   "metadata": {},
   "outputs": [],
   "source": []
  }
 ],
 "metadata": {
  "kernelspec": {
   "display_name": "Python 3",
   "language": "python",
   "name": "python3"
  },
  "language_info": {
   "codemirror_mode": {
    "name": "ipython",
    "version": 3
   },
   "file_extension": ".py",
   "mimetype": "text/x-python",
   "name": "python",
   "nbconvert_exporter": "python",
   "pygments_lexer": "ipython3",
   "version": "3.8.7"
  }
 },
 "nbformat": 4,
 "nbformat_minor": 5
}
