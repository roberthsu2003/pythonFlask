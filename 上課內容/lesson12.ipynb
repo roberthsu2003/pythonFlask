{
 "cells": [
  {
   "cell_type": "code",
   "execution_count": 1,
   "id": "96d55df7",
   "metadata": {},
   "outputs": [
    {
     "data": {
      "text/plain": [
       "<__main__.Person at 0x7fce1b3a0250>"
      ]
     },
     "execution_count": 1,
     "metadata": {},
     "output_type": "execute_result"
    }
   ],
   "source": [
    "class Person:\n",
    "    pass\n",
    "\n",
    "p1 = Person()\n",
    "p1"
   ]
  },
  {
   "cell_type": "code",
   "execution_count": 2,
   "id": "6e5c8286",
   "metadata": {},
   "outputs": [
    {
     "data": {
      "text/plain": [
       "<__main__.Person at 0x7fce1b3a0460>"
      ]
     },
     "execution_count": 2,
     "metadata": {},
     "output_type": "execute_result"
    }
   ],
   "source": [
    "p2 = Person()\n",
    "p2"
   ]
  },
  {
   "cell_type": "code",
   "execution_count": 6,
   "id": "e04a5d6d",
   "metadata": {},
   "outputs": [
    {
     "name": "stdout",
     "output_type": "stream",
     "text": [
      "執行init\n"
     ]
    },
    {
     "data": {
      "text/plain": [
       "'robert'"
      ]
     },
     "execution_count": 6,
     "metadata": {},
     "output_type": "execute_result"
    }
   ],
   "source": [
    "class Person:    \n",
    "    def __init__(self,name):\n",
    "        print(\"執行init\")\n",
    "        self.name = name\n",
    "        \n",
    "p3 = Person(name=\"robert\")\n",
    "p3.name"
   ]
  },
  {
   "cell_type": "code",
   "execution_count": 7,
   "id": "ab06214a",
   "metadata": {},
   "outputs": [
    {
     "name": "stdout",
     "output_type": "stream",
     "text": [
      "執行init\n"
     ]
    },
    {
     "data": {
      "text/plain": [
       "'susan'"
      ]
     },
     "execution_count": 7,
     "metadata": {},
     "output_type": "execute_result"
    }
   ],
   "source": [
    "p4 = Person(name=\"susan\")\n",
    "p4.name"
   ]
  },
  {
   "cell_type": "code",
   "execution_count": 16,
   "id": "5520f36d",
   "metadata": {},
   "outputs": [],
   "source": [
    "#繼承\n",
    "class Car():\n",
    "    def exclaim(self):\n",
    "        print(\"我是車子\")\n",
    "\n",
    "class Yugo(Car):\n",
    "    def exclaim(self):\n",
    "        print(\"我是Yugo\")\n",
    "        \n",
    "    def need_a_push(self):\n",
    "        print(\"需要我幫忙嗎?\")\n",
    "\n"
   ]
  },
  {
   "cell_type": "code",
   "execution_count": 17,
   "id": "b931e9b3",
   "metadata": {},
   "outputs": [
    {
     "name": "stdout",
     "output_type": "stream",
     "text": [
      "我是車子\n",
      "我是Yugo\n"
     ]
    }
   ],
   "source": [
    "give_me_a_car = Car()\n",
    "give_me_a_yugo = Yugo()\n",
    "give_me_a_car.exclaim()\n",
    "give_me_a_yugo.exclaim()"
   ]
  },
  {
   "cell_type": "code",
   "execution_count": 18,
   "id": "394fb27c",
   "metadata": {},
   "outputs": [
    {
     "name": "stdout",
     "output_type": "stream",
     "text": [
      "需要我幫忙嗎?\n"
     ]
    }
   ],
   "source": [
    "give_me_a_yugo.need_a_push()"
   ]
  },
  {
   "cell_type": "code",
   "execution_count": 23,
   "id": "d9581e2a",
   "metadata": {},
   "outputs": [
    {
     "name": "stdout",
     "output_type": "stream",
     "text": [
      "Fudd\n",
      "MD robert\n",
      "JD Alice\n"
     ]
    }
   ],
   "source": [
    "class Person():\n",
    "    def __init__(self,name):\n",
    "        self.name = name\n",
    "    \n",
    "class MDPerson(Person):\n",
    "    def __init__(self,name):\n",
    "        self.name = \"MD \" + name\n",
    "\n",
    "class JDPerson(Person):\n",
    "    def __init__(self,name):\n",
    "        self.name = \"JD \" + name\n",
    "\n",
    "person = Person('Fudd')\n",
    "doctor = MDPerson('robert')\n",
    "lawyer = JDPerson('Alice')\n",
    "print(person.name)\n",
    "print(doctor.name)\n",
    "print(lawyer.name)"
   ]
  },
  {
   "cell_type": "code",
   "execution_count": 27,
   "id": "bac3fffd",
   "metadata": {},
   "outputs": [
    {
     "name": "stdout",
     "output_type": "stream",
     "text": [
      "Bob\n",
      "bob@gmail.com\n",
      "Bob1\n",
      "bob1@gmail.com\n"
     ]
    }
   ],
   "source": [
    "class Person():\n",
    "    def __init__(self,name):\n",
    "        self.name = name\n",
    "\n",
    "class EmailPerson(Person):    \n",
    "    def __init__(self,name,email):\n",
    "        super().__init__(name)\n",
    "        self.email = email\n",
    "\n",
    "bob = EmailPerson(\"Bob\",'bob@gmail.com')\n",
    "print(bob.name)\n",
    "print(bob.email)\n",
    "\n",
    "bob1 = EmailPerson(\"Bob1\",'bob1@gmail.com')\n",
    "print(bob1.name)\n",
    "print(bob1.email)"
   ]
  },
  {
   "cell_type": "code",
   "execution_count": 28,
   "id": "de33a20c",
   "metadata": {},
   "outputs": [
    {
     "name": "stdout",
     "output_type": "stream",
     "text": [
      "a\n",
      "b\n",
      "c\n"
     ]
    }
   ],
   "source": [
    "bob.a = \"a\"\n",
    "bob.b = \"b\"\n",
    "bob.c = \"c\"\n",
    "print(bob.a)\n",
    "print(bob.b)\n",
    "print(bob.c)"
   ]
  },
  {
   "cell_type": "code",
   "execution_count": 46,
   "id": "2c55645e",
   "metadata": {},
   "outputs": [
    {
     "data": {
      "text/plain": [
       "'abc'"
      ]
     },
     "execution_count": 46,
     "metadata": {},
     "output_type": "execute_result"
    }
   ],
   "source": [
    "class Duck():\n",
    "    def __init__(self, input_name):\n",
    "        self.__hidden_name = input_name\n",
    "    \n",
    "    @property\n",
    "    def name(self):\n",
    "        return self.__hidden_name\n",
    "    \n",
    "    @name.setter\n",
    "    def name(self,input_name):\n",
    "        self.__hidden_name = input_name\n",
    "\n",
    "d1 = Duck(\"jenny\")\n",
    "d1.name = \"abc\"\n",
    "d1.name"
   ]
  },
  {
   "cell_type": "code",
   "execution_count": null,
   "id": "d7aa3f79",
   "metadata": {},
   "outputs": [],
   "source": []
  }
 ],
 "metadata": {
  "kernelspec": {
   "display_name": "Python 3",
   "language": "python",
   "name": "python3"
  },
  "language_info": {
   "codemirror_mode": {
    "name": "ipython",
    "version": 3
   },
   "file_extension": ".py",
   "mimetype": "text/x-python",
   "name": "python",
   "nbconvert_exporter": "python",
   "pygments_lexer": "ipython3",
   "version": "3.8.7"
  }
 },
 "nbformat": 4,
 "nbformat_minor": 5
}
