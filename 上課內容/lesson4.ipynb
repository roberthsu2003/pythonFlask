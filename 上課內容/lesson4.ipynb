{
 "cells": [
  {
   "cell_type": "code",
   "execution_count": 9,
   "id": "be699831",
   "metadata": {},
   "outputs": [
    {
     "name": "stdout",
     "output_type": "stream",
     "text": [
      "<class 'str'>\n",
      "<class 're.Match'>\n",
      "比對成功\n"
     ]
    }
   ],
   "source": [
    "import re\n",
    "\n",
    "pattern = \"^a..s$\"\n",
    "test_string = \"abss\"\n",
    "result=re.match(pattern, test_string)\n",
    "print(result.__class__)\n",
    "if result:\n",
    "    print(\"比對成功\")\n",
    "else:\n",
    "    print(\"比對失敗\")"
   ]
  },
  {
   "cell_type": "code",
   "execution_count": 17,
   "id": "4ec00b14",
   "metadata": {},
   "outputs": [
    {
     "name": "stdout",
     "output_type": "stream",
     "text": [
      "有符合\n"
     ]
    }
   ],
   "source": [
    "import re\n",
    "line = \"Cats are smarter than dogs\"\n",
    "matchObj =re.match(\".+ are .+dogs$\", line , re.I)\n",
    "if matchObj:\n",
    "    print('有符合')\n",
    "else:\n",
    "    print('沒有符合')"
   ]
  },
  {
   "cell_type": "code",
   "execution_count": null,
   "id": "09d86a35",
   "metadata": {},
   "outputs": [],
   "source": []
  }
 ],
 "metadata": {
  "kernelspec": {
   "display_name": "Python 3",
   "language": "python",
   "name": "python3"
  },
  "language_info": {
   "codemirror_mode": {
    "name": "ipython",
    "version": 3
   },
   "file_extension": ".py",
   "mimetype": "text/x-python",
   "name": "python",
   "nbconvert_exporter": "python",
   "pygments_lexer": "ipython3",
   "version": "3.8.7"
  }
 },
 "nbformat": 4,
 "nbformat_minor": 5
}
