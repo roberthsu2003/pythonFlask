{
 "cells": [
  {
   "cell_type": "code",
   "execution_count": 3,
   "id": "12ac34ee",
   "metadata": {},
   "outputs": [
    {
     "name": "stdout",
     "output_type": "stream",
     "text": [
      "1\n",
      "2\n",
      "3\n",
      "4\n",
      "5\n"
     ]
    }
   ],
   "source": [
    "#generator\n",
    "number_thing = (number for number in range(1,6))\n",
    "for number in number_thing:\n",
    "    print(number)\n",
    "    \n",
    "for number in number_thing:\n",
    "    print(number)"
   ]
  },
  {
   "cell_type": "code",
   "execution_count": 6,
   "id": "a3ffce27",
   "metadata": {},
   "outputs": [
    {
     "name": "stdout",
     "output_type": "stream",
     "text": [
      "1\n",
      "2\n",
      "3\n",
      "4\n",
      "5\n",
      "6\n",
      "7\n",
      "8\n",
      "9\n",
      "10\n",
      "11\n",
      "12\n",
      "13\n",
      "14\n",
      "15\n",
      "16\n",
      "17\n",
      "18\n",
      "19\n"
     ]
    }
   ],
   "source": [
    "def my_range(first=0, last=10, step=1):\n",
    "    number = first\n",
    "    while number < last:\n",
    "        yield number\n",
    "        number += step\n",
    "\n",
    "\n",
    "ranger=my_range(1,20)\n",
    "for x in ranger:\n",
    "    print(x)\n",
    "    \n",
    "for x in ranger:\n",
    "    print(x)"
   ]
  },
  {
   "cell_type": "code",
   "execution_count": 8,
   "id": "d43b4bd9",
   "metadata": {},
   "outputs": [
    {
     "name": "stdout",
     "output_type": "stream",
     "text": [
      "這是內建的function,功能是a+b\n"
     ]
    },
    {
     "data": {
      "text/plain": [
       "15"
      ]
     },
     "execution_count": 8,
     "metadata": {},
     "output_type": "execute_result"
    }
   ],
   "source": [
    "def document_it(func): #decorator\n",
    "    def new_function():\n",
    "        result = func(8,7)\n",
    "        print(\"這是內建的function,功能是a+b\")\n",
    "        return result\n",
    "    return new_function\n",
    "\n",
    "def add_ints(a,b):\n",
    "    return a + b\n",
    "\n",
    "passbackFunc = document_it(add_ints)\n",
    "passbackFunc()"
   ]
  },
  {
   "cell_type": "code",
   "execution_count": 9,
   "id": "7520ea7f",
   "metadata": {},
   "outputs": [
    {
     "name": "stdout",
     "output_type": "stream",
     "text": [
      "這是內建的function,功能是a+b\n"
     ]
    },
    {
     "data": {
      "text/plain": [
       "15"
      ]
     },
     "execution_count": 9,
     "metadata": {},
     "output_type": "execute_result"
    }
   ],
   "source": [
    "@document_it\n",
    "def add_ints(a,b):\n",
    "    return a + b\n",
    "\n",
    "add_ints()"
   ]
  },
  {
   "cell_type": "code",
   "execution_count": null,
   "id": "27755305",
   "metadata": {},
   "outputs": [],
   "source": []
  }
 ],
 "metadata": {
  "kernelspec": {
   "display_name": "Python 3",
   "language": "python",
   "name": "python3"
  },
  "language_info": {
   "codemirror_mode": {
    "name": "ipython",
    "version": 3
   },
   "file_extension": ".py",
   "mimetype": "text/x-python",
   "name": "python",
   "nbconvert_exporter": "python",
   "pygments_lexer": "ipython3",
   "version": "3.8.7"
  }
 },
 "nbformat": 4,
 "nbformat_minor": 5
}
