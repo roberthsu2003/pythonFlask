{
 "cells": [
  {
   "cell_type": "code",
   "execution_count": 1,
   "id": "b9f47667",
   "metadata": {},
   "outputs": [
    {
     "name": "stdout",
     "output_type": "stream",
     "text": [
      "Hello!Flask\n"
     ]
    }
   ],
   "source": [
    "print(\"Hello!Flask\")"
   ]
  },
  {
   "cell_type": "code",
   "execution_count": null,
   "id": "43033f50",
   "metadata": {},
   "outputs": [],
   "source": []
  }
 ],
 "metadata": {
  "kernelspec": {
   "display_name": "Python 3",
   "language": "python",
   "name": "python3"
  },
  "language_info": {
   "codemirror_mode": {
    "name": "ipython",
    "version": 3
   },
   "file_extension": ".py",
   "mimetype": "text/x-python",
   "name": "python",
   "nbconvert_exporter": "python",
   "pygments_lexer": "ipython3",
   "version": "3.8.7"
  }
 },
 "nbformat": 4,
 "nbformat_minor": 5
}
