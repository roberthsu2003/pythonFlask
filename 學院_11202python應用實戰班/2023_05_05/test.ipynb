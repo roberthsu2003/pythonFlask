{
 "cells": [
  {
   "cell_type": "code",
   "execution_count": 9,
   "metadata": {},
   "outputs": [
    {
     "name": "stdout",
     "output_type": "stream",
     "text": [
      "[*********************100%***********************]  1 of 1 completed\n"
     ]
    },
    {
     "data": {
      "text/plain": [
       "Date\n",
       "2023-01-03    41.400002\n",
       "2023-01-04    41.049999\n",
       "2023-01-05    41.250000\n",
       "2023-01-06    42.400002\n",
       "2023-01-09    44.500000\n",
       "                ...    \n",
       "2023-04-28    49.099998\n",
       "2023-05-02    49.849998\n",
       "2023-05-03    49.950001\n",
       "2023-05-04    49.650002\n",
       "2023-05-05    49.599998\n",
       "Name: Adj Close, Length: 75, dtype: float64"
      ]
     },
     "execution_count": 9,
     "metadata": {},
     "output_type": "execute_result"
    }
   ],
   "source": [
    "import pandas_datareader.data as pdr\n",
    "import yfinance as yf\n",
    "yf.pdr_override()\n",
    "tw_2303 = pdr.get_data_yahoo('2303.TW')\n",
    "series_2303 = tw_2303['Adj Close']\n",
    "series_2303['2023-01-01':]"
   ]
  }
 ],
 "metadata": {
  "kernelspec": {
   "display_name": "venv",
   "language": "python",
   "name": "python3"
  },
  "language_info": {
   "codemirror_mode": {
    "name": "ipython",
    "version": 3
   },
   "file_extension": ".py",
   "mimetype": "text/x-python",
   "name": "python",
   "nbconvert_exporter": "python",
   "pygments_lexer": "ipython3",
   "version": "3.10.6"
  },
  "orig_nbformat": 4
 },
 "nbformat": 4,
 "nbformat_minor": 2
}
